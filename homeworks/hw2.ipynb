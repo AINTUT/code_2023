{
  "nbformat": 4,
  "nbformat_minor": 0,
  "metadata": {
    "colab": {
      "provenance": [],
      "collapsed_sections": [
        "vtBQ0PLbKrEA",
        "v2GIygKT1mhq",
        "qqtV8dPb1rHK",
        "ArIM5WxZ5HKU"
      ]
    },
    "kernelspec": {
      "name": "python3",
      "display_name": "Python 3"
    }
  },
  "cells": [
    {
      "cell_type": "markdown",
      "metadata": {
        "id": "vv49axWeylsB"
      },
      "source": [
        "This notebook is freely available for redistribution under the [GPL-3.0 license](https://choosealicense.com/licenses/gpl-3.0/).\n",
        "\n",
        "Author: 蘇嘉冠 feabries@gmail.com\n",
        "\n",
        "Contributors: 蘇郁翔 asdfghjkl225836@gmail.com"
      ]
    },
    {
      "cell_type": "markdown",
      "metadata": {
        "id": "Na0_QjevL_F5"
      },
      "source": [
        "# 人工智慧與工程應用實作 2023 作業二"
      ]
    },
    {
      "cell_type": "markdown",
      "source": [
        "## 作業說明\n",
        "\n"
      ],
      "metadata": {
        "id": "vtBQ0PLbKrEA"
      }
    },
    {
      "cell_type": "markdown",
      "source": [
        "\n",
        "1. 請先登入 Google 帳號並且複製一份至你的 Google Drive，將複製的那份改名為 `hw2_學號.ipynb`，並且用複製的那份寫作業\n",
        "2. 分數計算方式：總共有 3 個題組，題組（一）每小題 8 分（共 6 小題），題組（二）每小題 6 分（共 7 小題），題組（三）每小題 5 分（共 2 小題），總分 100 分\n",
        "3. 作業上傳的期限為 `2023/04/10 23:59:59`，逾時不候，請好好把握時間\n",
        "4. 我們的作業能讓你更加進步，所以請勿抄襲，被發現者 0 分計算喔！\n",
        "5. 有任何疑問，歡迎寄信詢問講師或助教"
      ],
      "metadata": {
        "id": "eMNSEC1lV6Jb"
      }
    },
    {
      "cell_type": "markdown",
      "source": [
        "### 作業繳交方式"
      ],
      "metadata": {
        "id": "v5j2KYZ6UGQw"
      }
    },
    {
      "cell_type": "markdown",
      "source": [
        "1. 按 Colab 上方介面的 `檔案` -> `下載` -> `下載 .ipynb`，會下載這份檔案至你的電腦\n",
        "2. 進入 [臺北科大校園入口網站](https://nportal.ntut.edu.tw/)，登入你的學校帳號密碼\n",
        "3. 在校園入口網站，按 `教務系統` -> `北科i學園PLUS`，進入系統後點選 `我的作業` 應可看到 `作業二上傳區`，上傳步驟 1 下載的檔案即可\n",
        "4. 在期限截止前可重複上傳，會以最後一次上傳的版本為主"
      ],
      "metadata": {
        "id": "i30cqcqQUJ-R"
      }
    },
    {
      "cell_type": "markdown",
      "source": [
        "### 答題方式說明"
      ],
      "metadata": {
        "id": "e7zVTJkOFCLW"
      }
    },
    {
      "cell_type": "markdown",
      "source": [
        "作業的每個題組會有數個小題，每個小題都有一個相對應的變數，你的目標是根據題目敘述來修改變數的內容。\n",
        "\n",
        "需要修改的程式的地方會有 `# PLEASE MODIFY CODE BELOW.` 的註解，有些題目只需要寫一行即可得到答案，有些可能需要多行。沒有註解的程式碼區塊則請勿修改"
      ],
      "metadata": {
        "id": "aw1Kpz1uFGvy"
      }
    },
    {
      "cell_type": "markdown",
      "source": [
        "範例題目：請計算兩個整數 `number_x`, `number_y` 的平均（`number_z`）"
      ],
      "metadata": {
        "id": "zDkoyl5kHrxx"
      }
    },
    {
      "cell_type": "code",
      "source": [
        "number_x = 10\n",
        "number_y = 20"
      ],
      "metadata": {
        "id": "JriTz0iEHL0p"
      },
      "execution_count": null,
      "outputs": []
    },
    {
      "cell_type": "code",
      "source": [
        "# PLEASE MODIFY CODE BELOW.\n",
        "\n",
        "number_z = 0\n",
        "print(\"Average of number x and number y = {}\".format(number_z))"
      ],
      "metadata": {
        "id": "zw4yzAf6HOgG"
      },
      "execution_count": null,
      "outputs": []
    },
    {
      "cell_type": "markdown",
      "source": [
        "這題的目標是計算 `number_x` 及 `number_y` 的平均，並且指派給 `number_z`，所以可以把上面的程式碼區塊修改成如下："
      ],
      "metadata": {
        "id": "HAg2hQIFGpTl"
      }
    },
    {
      "cell_type": "code",
      "source": [
        "# PLEASE MODIFY CODE BELOW.\n",
        "\n",
        "number_z = (number_x + number_y) / 2\n",
        "print(\"Average of number x and number y = {}\".format(number_z))"
      ],
      "metadata": {
        "id": "9LgKTfduIZB_"
      },
      "execution_count": null,
      "outputs": []
    },
    {
      "cell_type": "markdown",
      "source": [
        "要注意的是，這次作業是會根據你上傳的檔案來自動批改的，批改的邏輯是去看這個變數最後一次修改的內容與答案是否相同，所以你要小心這個變數是否有再被修改到。\n",
        "\n",
        "以下範例，`number_z` 的內容會是 `(number_x + number_y) / 3` 而不是 `(number_x + number_y) / 2`"
      ],
      "metadata": {
        "id": "R8on2NHII3zo"
      }
    },
    {
      "cell_type": "code",
      "source": [
        "# PLEASE MODIFY CODE BELOW.\n",
        "\n",
        "number_z = (number_x + number_y) / 2\n",
        "print(\"Average of number x and number y = {}\".format(number_z))\n",
        "\n",
        "number_z = (number_x + number_y) / 3"
      ],
      "metadata": {
        "id": "_74m67HAJwFy"
      },
      "execution_count": null,
      "outputs": []
    },
    {
      "cell_type": "markdown",
      "source": [
        "## 題組（一）：國家溫度統計"
      ],
      "metadata": {
        "id": "v2GIygKT1mhq"
      }
    },
    {
      "cell_type": "markdown",
      "source": [
        "我們用一個 numpy.ndarray 來儲存 100 國家過去 30 天、每天 24 小時的攝氏溫度資料（`weather_data`）。請試著回答：\n",
        "1. 第 10 個國家第 5 天的 3 時的攝氏溫度為多少？（`temperature_ten_five_three`）\n",
        "2. 第 8 個國家第 4 天的平均攝氏溫度為多少？誤差在 0.01 內都算對（`temperature_eight_four_avg`）\n",
        "    - 某天的平均溫度定義：某天 0 到 23 時的所有溫度的平均\n",
        "3. 第 27 個國家每天的第 3 時的華氏溫度平均為多少？誤差在 0.01 內都算對（`temperature_27_third_f`）\n",
        "    - *華氏溫度 = 攝氏溫度 * 5 / 9 + 32*\n",
        "    - 請先將攝氏溫度轉為華氏溫度，再計算平均\n",
        "4. 第 95 個國家第幾天的平均溫度最高？（`highest_avg_day_95`）\n",
        "5. 第 74 個國家有幾天的平均溫度大於等於攝氏 10 度？（`num_hot_days_74`）\n",
        "6. 有幾個國家的最高溫減掉最低溫的溫差小於攝氏 10 度？（`num_stable_countries`）\n",
        "    - 一個國家的最高溫定義為 720（30 天 * 24 時）個溫度中的最高者，最低溫則最低者\n",
        "\n",
        "溫度資料是一個 3 維的 numpy.ndarray：\n",
        "- 第 0 維：第幾個國家，總共有 100 個國家（範圍 0 ~ 99）\n",
        "- 第 1 維：第幾天，總共有 30 天（範圍 0 ~ 29）\n",
        "- 第 2 維：一天中的第幾時，總共有 24 時（範圍 0 ~ 23）\n",
        "\n",
        "索引值皆以 0 開始，例如：\n",
        "- `weather_data[0, 0, 0]` 代表第 0 個國家在 第 0 天的第 0 時的攝氏溫度\n",
        "- `weather_data[3, 5, 8]` 代表第 3 個國家在 第 5 天的第 8 時的攝氏溫度\n",
        "\n",
        "附註：本題組不需用到任何迴圈，請盡量不要用迴圈，會更能感受 numpy 帶來的好處喔 😌"
      ],
      "metadata": {
        "id": "74_JiPlb1o6P"
      }
    },
    {
      "cell_type": "code",
      "source": [
        "!wget https://raw.githubusercontent.com/AINTUT/code_2023/main/datasets/weather_data.npy -O weather_data.npy"
      ],
      "metadata": {
        "id": "SsuRYMX9YXSE"
      },
      "execution_count": null,
      "outputs": []
    },
    {
      "cell_type": "code",
      "source": [
        "import numpy as np"
      ],
      "metadata": {
        "id": "EfQhlCFVhgon"
      },
      "execution_count": null,
      "outputs": []
    },
    {
      "cell_type": "code",
      "source": [
        "weather_data = np.load(\"weather_data.npy\")"
      ],
      "metadata": {
        "id": "VQ8YMlcZLt3U"
      },
      "execution_count": null,
      "outputs": []
    },
    {
      "cell_type": "code",
      "source": [
        "print(weather_data.shape)"
      ],
      "metadata": {
        "id": "_Jug8kWkYdRd"
      },
      "execution_count": null,
      "outputs": []
    },
    {
      "cell_type": "code",
      "source": [
        "print(weather_data)"
      ],
      "metadata": {
        "id": "Y3szi74Mcf68"
      },
      "execution_count": null,
      "outputs": []
    },
    {
      "cell_type": "code",
      "source": [
        "#@title 1. 第 10 個國家第 5 天的 3 時的攝氏溫度為多少？（`temperature_ten_five_three`）\n",
        "# PLEASE MODIFY CODE BELOW\n",
        "temperature_ten_five_three = 0\n",
        "\n",
        "print(\"The temperature for 10th country, 5th day, third hour =\", temperature_ten_five_three)"
      ],
      "metadata": {
        "id": "6Vh-EMiSM96o"
      },
      "execution_count": null,
      "outputs": []
    },
    {
      "cell_type": "code",
      "source": [
        "#@title 2. 第 8 個國家第 4 天的平均攝氏溫度為多少？誤差在 0.01 內都算對（`temperature_eight_four_avg`）\n",
        "# PLEASE MODIFY CODE BELOW\n",
        "temperature_eight_four_avg = 0.0\n",
        "\n",
        "print(\"The average temperature for 8th country, 4th day =\", temperature_eight_four_avg)"
      ],
      "metadata": {
        "id": "O9pZ5urWaZ0m"
      },
      "execution_count": null,
      "outputs": []
    },
    {
      "cell_type": "code",
      "source": [
        "#@title 3. 第 27 個國家每天的第 3 時的華氏溫度平均為多少？誤差在 0.01 內都算對\n",
        "# PLEASE MODIFY CODE BELOW\n",
        "temperature_27_third_f = 0.0\n",
        "\n",
        "print(\"The average temperature for 27th country, 3rd hour (in Fahrenheit) =\", temperature_27_third_f)"
      ],
      "metadata": {
        "id": "40x3_aH-cHTL"
      },
      "execution_count": null,
      "outputs": []
    },
    {
      "cell_type": "code",
      "source": [
        "#@title 4. 第 95 個國家第幾天的平均溫度最高？（`highest_avg_day_95`）\n",
        "# PLEASE MODIFY CODE BELOW\n",
        "highest_avg_day_95 = 0\n",
        "\n",
        "print(\"The highest avearge day for 95th country =\", highest_avg_day_95)"
      ],
      "metadata": {
        "id": "hbawnMgzf1v3"
      },
      "execution_count": null,
      "outputs": []
    },
    {
      "cell_type": "code",
      "source": [
        "#@title 5. 第 74 個國家有幾天的平均溫度大等於攝氏 10 度？（`num_hot_days_74`）\n",
        "# PLEASE MODIFY CODE BELOW\n",
        "num_hot_days_74 = 0\n",
        "\n",
        "print(\"Number of hot days for 74th country =\", num_hot_days_74)"
      ],
      "metadata": {
        "id": "39s0TMVHhNak"
      },
      "execution_count": null,
      "outputs": []
    },
    {
      "cell_type": "code",
      "source": [
        "#@title 6. 有幾個國家的最高溫減掉最低溫的溫差小於攝氏 10 度？（`num_stable_countries`）\n",
        "# PLEASE MODIFY CODE BELOW\n",
        "num_stable_countries = 0\n",
        "\n",
        "print(\"Number of stable countires =\", num_stable_countries)"
      ],
      "metadata": {
        "id": "2LMi3OMnkHZ_"
      },
      "execution_count": null,
      "outputs": []
    },
    {
      "cell_type": "markdown",
      "source": [
        "## 題組（二）：快樂的比雕"
      ],
      "metadata": {
        "id": "qqtV8dPb1rHK"
      }
    },
    {
      "cell_type": "markdown",
      "source": [
        "![](https://i.imgur.com/98GqqnQ.png)\n",
        "\n",
        "（[圖片來源](https://www.cool3c.com/article/191103)）"
      ],
      "metadata": {
        "id": "mm-W-M6sFAYM"
      }
    },
    {
      "cell_type": "markdown",
      "source": [
        "立志成為 Pokemon 大師的小智，在西元 1999 年與比雕（aka 大比鳥）道別後，歷經 24 年兩人終於又見面了。為了紀念這感人的時刻，我們決定幫比雕回顧這 24 年的各種經歷。今天我們蒐集所有了 Pokemon 的資料，並且試著整理以下資訊：\n",
        "1. 所有 Pokemon 中最高的特攻（`Sp. Atk`）為多少？（`highest_sepcial_attack`）\n",
        "2. 世代（`Generation`）為 1 的所有 Pokemon，它們的平均物攻（`Attack`）為多少？答案誤差在 0.01 之內都算對（`gen_one_avg_atk`）\n",
        "3. 飛行系的比雕非常害怕電系 Pokemon。屬性（`Type 1` 或是 `Type 2`）為電系（`Electric`）的 Pokemon 總共有多少個？（`num_electric`）\n",
        "    - 附註：每個 Pokemon 的 `Type 1` 會跟 `Type 2` 不同，其中任一個值為電系的話就算是電性 Pokemon\n",
        "4. 速度超過比雕（`Pidgeot`）的 Pokemon 總共有多少個？（`num_super_fast`）\n",
        "5. 普攻（`Attack`）比物防（`Defense`）至少高 20 的 Pokemon 總共有多少個？（`num_good_atks`）\n",
        "6. 比雕曾經與遇到了噴火龍（`Charizard`）戰鬥過。那時等級 90 的比雕對噴火龍使出了威力為 110 的特攻招式：暴風，這個攻擊會對噴火龍造成多少傷害？特攻的傷害計算方式請看公式一，小數點請忽略不計（`damage`）\n",
        "7. 比雕曾經不小心誤入了神獸洞窟，裡面住著所有的神獸 Pokemon，比雕的策略是先迎擊神獸裡綜合能力最低的一個，請問這個 Pokemon 的名字為何？綜合能力的運算方式如公式二（`weakest_legendary_pokemon`）\n",
        "\n",
        "所有 Pokemon 的資料為一個 `DataFrame` 型態的物件（名稱為 `df`），各個 column name 的意義如下：\n",
        "- `#`：Pokemon 的編號（整數）\n",
        "- `Name`：Pokemon 的名字（字串）\n",
        "- `Type 1`：Pokemon 的第一屬性（字串）\n",
        "- `Type 2`：Pokemon 的第二屬性（字串）\n",
        "- `Total`：請忽略\n",
        "- `HP`：Pokemon 的血量（整數）\n",
        "- `Attack`：Pokemon 的物攻（物理攻擊力，整數）\n",
        "- `Defense`：Pokemon 的物防（物理防禦力，整數）\n",
        "- `Sp. Atk`：Pokemon 的特攻（特殊攻擊力，整數）\n",
        "- `Sp. Def`：Pokemon 的特防（特殊防禦力，整數）\n",
        "- `Speed`：Pokemon 的速度（整數）\n",
        "- `Generation`：該 Pokemon 屬於第幾個世代（整數）\n",
        "- `Legendary`：該 Pokemon 是否為神獸（布林值）\n",
        "\n",
        "（[資料來源](https://gist.github.com/armgilles/194bcff35001e7eb53a2a8b441e8b2c6)）\n",
        "\n",
        "公式一（修改自 [Bulbagarden](https://bulbapedia.bulbagarden.net/wiki/Damage)）：如果 A 對 B 使出了威力為 `power` 的特攻，A 的等級為 `level`、特攻數值為 `special_attack`，B 的特防數值為 `special_defense`，在不考慮屬性加成的情況下，傷害為：\n",
        "\n",
        "$damage = ((\\frac{2 * level}{5} + 2) * power * \\frac{special\\_attack}{special\\_defense}) / 50 + 2$\n",
        "\n",
        "公式二：Pokemon 綜合能力的運算方式如下：\n",
        "\n",
        "$綜合能力 = 0.1 * 血量 + 0.4 * 物攻 + 0.3 * 物防 + 0.7 * 特攻 + 0.5 * 特防 + 0.6 * 速度$"
      ],
      "metadata": {
        "id": "Z0EZBc392HFP"
      }
    },
    {
      "cell_type": "code",
      "metadata": {
        "id": "ROqXoEqcLL9Z"
      },
      "source": [
        "!pip install numpy pandas"
      ],
      "execution_count": null,
      "outputs": []
    },
    {
      "cell_type": "code",
      "metadata": {
        "id": "cLStux2DLQqw"
      },
      "source": [
        "import numpy as np\n",
        "import pandas as pd"
      ],
      "execution_count": null,
      "outputs": []
    },
    {
      "cell_type": "code",
      "source": [
        "df = pd.read_csv(\"https://raw.githubusercontent.com/AINTUT/code_2023/main/datasets/pokemon.csv\")"
      ],
      "metadata": {
        "id": "xY4v5XSN5nka"
      },
      "execution_count": null,
      "outputs": []
    },
    {
      "cell_type": "code",
      "source": [
        "# Print the first 10 rows.\n",
        "print(df.head(10))"
      ],
      "metadata": {
        "id": "jBLKnpP5tYVa"
      },
      "execution_count": null,
      "outputs": []
    },
    {
      "cell_type": "code",
      "source": [
        "# Print all column names.\n",
        "print(list(df))"
      ],
      "metadata": {
        "id": "NUBmB9cYtd27"
      },
      "execution_count": null,
      "outputs": []
    },
    {
      "cell_type": "code",
      "source": [
        "# Print data types for each column.\n",
        "print(df.dtypes)"
      ],
      "metadata": {
        "id": "dwEuWqVV8woZ"
      },
      "execution_count": null,
      "outputs": []
    },
    {
      "cell_type": "code",
      "source": [
        "#@title 1. 所有 Pokemon 中最高的特攻（`Sp. Atk`）為多少？（`highest_sepcial_attack`）\n",
        "# PLEASE MODIFY CODE BELOW\n",
        "highest_sepcial_attack = 0\n",
        "\n",
        "print(\"Highest Special Attack =\", highest_sepcial_attack)"
      ],
      "metadata": {
        "id": "rrYFwSgCGyaj"
      },
      "execution_count": null,
      "outputs": []
    },
    {
      "cell_type": "code",
      "source": [
        "#@title 2. 世代（`Generation`）為 1 的所有 Pokemon，它們的平均物攻（`Attack`）為多少？答案誤差在 0.01 之內都算對（`gen_one_avg_atk`）\n",
        "# PLEASE MODIFY CODE BELOW\n",
        "gen_one_avg_atk = 0.0\n",
        "\n",
        "print(\"Average Attack for Generation One =\", gen_one_avg_atk)"
      ],
      "metadata": {
        "id": "Jo-64uyr-JeK"
      },
      "execution_count": null,
      "outputs": []
    },
    {
      "cell_type": "code",
      "metadata": {
        "id": "4BB7RmRVTG4o"
      },
      "source": [
        "#@title 3. 飛行系的比雕非常害怕電系 Pokemon。屬性（`Type 1` 或是 `Type 2`）為電系（`Electric`）的 Pokemon 總共有多少個？（`num_electric`）\n",
        "# PLEASE MODIFY CODE BELOW.\n",
        "num_electric = 0\n",
        "\n",
        "print(\"Number of Pokemons Whose Type is Electric =\", num_electric)"
      ],
      "execution_count": null,
      "outputs": []
    },
    {
      "cell_type": "code",
      "metadata": {
        "id": "9tFG7mguWz-t"
      },
      "source": [
        "#@title 4. 速度超過比雕（`Pidgeot`）的 Pokemon 總共有多少個？（`num_super_fast`）\n",
        "# PLEASE MODIFY CODE BELOW.\n",
        "num_super_fast = 0\n",
        "\n",
        "print(\"Number of Pokemons that are super fast =\", num_super_fast)"
      ],
      "execution_count": null,
      "outputs": []
    },
    {
      "cell_type": "code",
      "source": [
        " #@title 5. 普攻（`Attack`）比物防（`Defense`）至少高 20 的 Pokemon 總共有多少個？（`num_good_atks`）\n",
        " # PLEASE MODIFY CODE BELOW\n",
        "num_good_atks = 0\n",
        "\n",
        "print(\"Number of Pokemons that have good attacks =\", num_good_atks)"
      ],
      "metadata": {
        "id": "chmFQuG-B_uJ"
      },
      "execution_count": null,
      "outputs": []
    },
    {
      "cell_type": "code",
      "metadata": {
        "id": "WC5RlLxDmwE4"
      },
      "source": [
        "#@title 6. 比雕曾經與遇到了噴火龍（`Charizard`）戰鬥過。那時等級 90 的比雕對噴火龍使出了威力為 110 的特攻招式：暴風，這個攻擊會對噴火龍造成多少傷害？特攻的傷害計算方式請看公式一，小數點請忽略不計（`damage`）\n",
        "# PLEASE MODIFY CODE BELOW.\n",
        "damage = 0\n",
        "\n",
        "print(\"The damage on Charizard =\", damage)"
      ],
      "execution_count": null,
      "outputs": []
    },
    {
      "cell_type": "code",
      "metadata": {
        "id": "7ZboMQnHrLTD"
      },
      "source": [
        "#@title 7. 比雕曾經不小心誤入了神獸洞窟，裡面住著所有的神獸 Pokemon，比雕的策略是先迎擊神獸裡綜合能力最低的一個，請問這個 Pokemon 的名字為何？綜合能力的運算方式如公式二（`weakest_legendary_pokemon`）\n",
        "# PLEASE MODIFY CODE BELOW\n",
        "weakest_legendary_pokemon = \"\"\n",
        "\n",
        "print(\n",
        "    \"The legendary Pokemon that has lowest composited ability =\",\n",
        "    weakest_legendary_pokemon,\n",
        ")"
      ],
      "execution_count": null,
      "outputs": []
    },
    {
      "cell_type": "markdown",
      "source": [
        "## 題組（三）：閱心經"
      ],
      "metadata": {
        "id": "ArIM5WxZ5HKU"
      }
    },
    {
      "cell_type": "markdown",
      "source": [
        "![](https://i.imgur.com/fJH3sgk.png)\n",
        "\n",
        "（[圖片來源](http://www.666666.url.tw/12/12.htm)）"
      ],
      "metadata": {
        "id": "AxNrwsU08UHT"
      }
    },
    {
      "cell_type": "markdown",
      "source": [
        "我們有個純文字檔儲存「般若波羅蜜多心經」（簡稱「心經」）的內容，檔名為 `heart_sutra.txt`。請實做類別 `DocumentAnalyzer`，讓我們可以回答以下問題：\n",
        "1. 心經中的 `不` 總共出現幾次？（`count_bu`）\n",
        "2. 心經中的有哪些字總共出現 3 次？ （`three_count_characters`）\n",
        "    - 請用 set of str 型別，假設答案是 `觀` 跟 `受`，那就會是 `set([\"觀\", \"受\"])`\n",
        "\n",
        "說明：\n",
        "1. `heart_sutra.txt` 的內容僅包含中文字，其他字元如標點符號、空白、換行符號皆不包含在內\n",
        "2. 請依序實做 `DocumentAnalyzer` 的 3 個方法：\n",
        "    - `load_as_df(self, filepath)`: 輸入一個文字檔路徑（`filepath`），輸出一個 DataFrame，這個 DataFrame 有兩個 column：`character` 與 `count`，分別代表在文字檔出現的文字以及出現的次數（請看範例）\n",
        "    - `count(self, character)`：輸入一個字，輸出這個字出現的次數\n",
        "    - `match(self, count)`：輸入一個數字，輸出出現次數剛好等同於這個數字的字，型別為 set of str\n",
        "3. 除了 `DocumentAnalyzer` 的程式區塊，請勿改動任何其他程式區塊\n",
        "\n",
        "範例：\n",
        "\n",
        "輸入的文字檔內容如果是這樣：\n",
        "```\n",
        "彼土何故名為極樂其國眾生無有眾苦但受諸樂故名極樂\n",
        "```\n",
        "\n",
        "輸出的 DataFrame 則會是：\n",
        "```\n",
        "   character  count\n",
        "0          極      2\n",
        "1          故      2\n",
        "2          何      1\n",
        "3          樂      3\n",
        "4          無      1\n",
        "5          有      1\n",
        "6          為      1\n",
        "7          名      2\n",
        "8          生      1\n",
        "9          彼      1\n",
        "10         但      1\n",
        "11         其      1\n",
        "12         苦      1\n",
        "13         諸      1\n",
        "14         眾      2\n",
        "15         受      1\n",
        "16         土      1\n",
        "17         國      1\n",
        "```\n",
        "\n",
        "\n"
      ],
      "metadata": {
        "id": "0y-F32viymXp"
      }
    },
    {
      "cell_type": "code",
      "source": [
        "!wget https://raw.githubusercontent.com/AINTUT/code_2023/main/datasets/heart_sutra.txt -O heart_sutra.txt"
      ],
      "metadata": {
        "id": "lXiUqOBS3HWj"
      },
      "execution_count": null,
      "outputs": []
    },
    {
      "cell_type": "code",
      "source": [
        "!cat heart_sutra.txt"
      ],
      "metadata": {
        "id": "JjTG-FsF_9os"
      },
      "execution_count": null,
      "outputs": []
    },
    {
      "cell_type": "code",
      "source": [
        "import pandas as pd\n",
        "\n",
        "class DocumentAnalyzer:\n",
        "\n",
        "    def __init__(self, filepath):\n",
        "        self.df = self.load_as_df(filepath)\n",
        "\n",
        "    def load_as_df(self, filepath):\n",
        "        # PLEASE MODIFY CODE BELOW\n",
        "        # Suggested steps for this method:\n",
        "        # 1: Load text from filepath using `open(...)`\n",
        "        # 2: Find out all unique characters in the text, and then count the \n",
        "        #    occurence frequency for each unique character in the text\n",
        "        # 3: Convert the unique characters and counts into a DataFrame\n",
        "        pass\n",
        "\n",
        "    def count(self, character):\n",
        "        # PLEASE MODIFY CODE BELOW\n",
        "        # Please manipulate `self.df` to get the results.\n",
        "        pass\n",
        "\n",
        "    def match(self, count):\n",
        "        # PLEASE MODIFY CODE BELOW\n",
        "        # Please manipulate `self.df` to get the results.\n",
        "        pass"
      ],
      "metadata": {
        "id": "jBvqWQ5BzqBf"
      },
      "execution_count": null,
      "outputs": []
    },
    {
      "cell_type": "code",
      "source": [
        "#@title 1. 心經中的 `不` 總共出現幾次？（`count_bu`）\n",
        "doc_analyzer = DocumentAnalyzer(\"heart_sutra.txt\")\n",
        "count_bu = doc_analyzer.count(\"不\")\n",
        "\n",
        "print(\"Counting for `不` =\", count_bu)"
      ],
      "metadata": {
        "id": "Wizgg2Mm69iG"
      },
      "execution_count": null,
      "outputs": []
    },
    {
      "cell_type": "code",
      "source": [
        "#@title 2. 心經中的有哪些字總共出現 3 次？（`three_count_characters`）\n",
        "doc_analyzer = DocumentAnalyzer(\"heart_sutra.txt\")\n",
        "three_count_characters = doc_analyzer.match(3)\n",
        "\n",
        "print(\"Characters that appear exactly three times =\", three_count_characters)"
      ],
      "metadata": {
        "id": "dB1LyX1T7ZD3"
      },
      "execution_count": null,
      "outputs": []
    }
  ]
}