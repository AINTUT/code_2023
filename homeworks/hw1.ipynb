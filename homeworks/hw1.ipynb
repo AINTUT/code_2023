{
  "nbformat": 4,
  "nbformat_minor": 0,
  "metadata": {
    "colab": {
      "provenance": [],
      "collapsed_sections": [
        "vtBQ0PLbKrEA",
        "OF78yAowcDfI",
        "nZ9VIx6sXu_w",
        "oxDi8qf-eR_v"
      ]
    },
    "kernelspec": {
      "name": "python3",
      "display_name": "Python 3"
    }
  },
  "cells": [
    {
      "cell_type": "markdown",
      "metadata": {
        "id": "vv49axWeylsB"
      },
      "source": [
        "This notebook is freely available for redistribution under the [GPL-3.0 license](https://choosealicense.com/licenses/gpl-3.0/).\n",
        "\n",
        "Author: 蘇嘉冠 feabries@gmail.com\n",
        "\n",
        "Contributors: 蘇郁翔 asdfghjkl225836@gmail.com"
      ]
    },
    {
      "cell_type": "markdown",
      "metadata": {
        "id": "Na0_QjevL_F5"
      },
      "source": [
        "# 人工智慧與工程應用實作 2023 作業一"
      ]
    },
    {
      "cell_type": "markdown",
      "source": [
        "## 作業說明\n",
        "\n"
      ],
      "metadata": {
        "id": "vtBQ0PLbKrEA"
      }
    },
    {
      "cell_type": "markdown",
      "source": [
        "\n",
        "1. 請先登入 Google 帳號並且複製一份至你的 Google Drive，將複製的那份改名為 `hw1_學號.ipynb`，並且用複製的那份寫作業\n",
        "2. 分數計算方式：總共有 3 個題組，每個題組都有 5 小題，題組（一）的每小題 8 分，題組（二）、（三）的每小題 6 分，總分 100 分\n",
        "3. 作業上傳的期限為 `2023/03/27 23:59:59`，逾時不候，請好好把握時間\n",
        "4. 我們的作業能讓你更加進步，所以請勿抄襲，被發現者 0 分計算喔！\n",
        "5. 有任何疑問，歡迎寄信詢問講師或助教"
      ],
      "metadata": {
        "id": "eMNSEC1lV6Jb"
      }
    },
    {
      "cell_type": "markdown",
      "source": [
        "### 作業繳交方式"
      ],
      "metadata": {
        "id": "v5j2KYZ6UGQw"
      }
    },
    {
      "cell_type": "markdown",
      "source": [
        "1. 按 Colab 上方介面的 `檔案` -> `下載` -> `下載 .ipynb`，會下載這份檔案至你的電腦\n",
        "2. 進入 [臺北科大校園入口網站](https://nportal.ntut.edu.tw/)，登入你的學校帳號密碼\n",
        "3. 在校園入口網站，按 `教務系統` -> `北科i學園PLUS`，進入系統後點選 `我的作業` 應可看到 `作業一上傳區`，上傳步驟 1 下載的檔案即可\n",
        "4. 在期限截止前可重複上傳，會以最後一次上傳的版本為主"
      ],
      "metadata": {
        "id": "i30cqcqQUJ-R"
      }
    },
    {
      "cell_type": "markdown",
      "source": [
        "### 答題方式說明"
      ],
      "metadata": {
        "id": "e7zVTJkOFCLW"
      }
    },
    {
      "cell_type": "markdown",
      "source": [
        "作業的每個題組會有數個小題，每個小題都有一個相對應的變數，你的目標是根據題目敘述來修改變數的內容。\n",
        "\n",
        "需要修改的程式的地方會有 `# PLEASE MODIFY CODE BELOW.` 的註解，有些題目只需要寫一行即可得到答案，有些可能需要多行。沒有註解的程式碼區塊則請勿修改"
      ],
      "metadata": {
        "id": "aw1Kpz1uFGvy"
      }
    },
    {
      "cell_type": "markdown",
      "source": [
        "範例題目：請計算兩個整數 `number_x`, `number_y` 的平均（`number_z`）"
      ],
      "metadata": {
        "id": "zDkoyl5kHrxx"
      }
    },
    {
      "cell_type": "code",
      "source": [
        "number_x = 10\n",
        "number_y = 20"
      ],
      "metadata": {
        "id": "JriTz0iEHL0p"
      },
      "execution_count": null,
      "outputs": []
    },
    {
      "cell_type": "code",
      "source": [
        "# PLEASE MODIFY CODE BELOW.\n",
        "\n",
        "number_z = 0\n",
        "print(\"Average of number x and number y = {}\".format(number_z))"
      ],
      "metadata": {
        "id": "zw4yzAf6HOgG",
        "colab": {
          "base_uri": "https://localhost:8080/"
        },
        "outputId": "5a100147-7974-4811-e875-c0757210a1bd"
      },
      "execution_count": null,
      "outputs": [
        {
          "output_type": "stream",
          "name": "stdout",
          "text": [
            "Average of number x and number y = 0\n"
          ]
        }
      ]
    },
    {
      "cell_type": "markdown",
      "source": [
        "這題的目標是計算 `number_x` 及 `number_y` 的平均，並且指派給 `number_z`，所以可以把上面的程式碼區塊修改成如下："
      ],
      "metadata": {
        "id": "HAg2hQIFGpTl"
      }
    },
    {
      "cell_type": "code",
      "source": [
        "# PLEASE MODIFY CODE BELOW.\n",
        "\n",
        "number_z = (number_x + number_y) / 2\n",
        "print(\"Average of number x and number y = {}\".format(number_z))"
      ],
      "metadata": {
        "id": "9LgKTfduIZB_",
        "colab": {
          "base_uri": "https://localhost:8080/"
        },
        "outputId": "e2ea47fe-e801-475b-af75-a8da9e06d16d"
      },
      "execution_count": null,
      "outputs": [
        {
          "output_type": "stream",
          "name": "stdout",
          "text": [
            "Average of number x and number y = 15.0\n"
          ]
        }
      ]
    },
    {
      "cell_type": "markdown",
      "source": [
        "要注意的是，這次作業是會根據你上傳的檔案來自動批改的，批改的邏輯是去看這個變數最後一次修改的內容與答案是否相同，所以你要小心這個變數是否有再被修改到。\n",
        "\n",
        "以下範例，`number_z` 的內容會是 `(number_x + number_y) / 3` 而不是 `(number_x + number_y) / 2`"
      ],
      "metadata": {
        "id": "R8on2NHII3zo"
      }
    },
    {
      "cell_type": "code",
      "source": [
        "# PLEASE MODIFY CODE BELOW.\n",
        "\n",
        "number_z = (number_x + number_y) / 2\n",
        "print(\"Average of number x and number y = {}\".format(number_z))\n",
        "\n",
        "number_z = (number_x + number_y) / 3"
      ],
      "metadata": {
        "id": "_74m67HAJwFy",
        "colab": {
          "base_uri": "https://localhost:8080/"
        },
        "outputId": "55c12491-396f-45d5-a6e4-9b3689dd4e85"
      },
      "execution_count": null,
      "outputs": [
        {
          "output_type": "stream",
          "name": "stdout",
          "text": [
            "Average of number x and number y = 15.0\n"
          ]
        }
      ]
    },
    {
      "cell_type": "markdown",
      "source": [
        "## 題組（一）：疫情確診統計"
      ],
      "metadata": {
        "id": "OF78yAowcDfI"
      }
    },
    {
      "cell_type": "markdown",
      "metadata": {
        "id": "5vz1unmmbghF"
      },
      "source": [
        "![](https://megapx-assets.dcard.tw/images/ac7a8482-21bb-4798-b39f-42c4bfd96e4d/1280.png)\n",
        "\n",
        "([圖片來源](https://www.dcard.tw/f/meme/p/236036879))\n"
      ]
    },
    {
      "cell_type": "markdown",
      "source": [
        "我們從 [Covid-19 Dashboard](https://gisanddata.maps.arcgis.com/apps/dashboards/bda7594740fd40299423467b48e9ecf6) 蒐集了 150 個國家的確診數（截至 2022/04/18），儲存在一個 list 中（`num_cases`）。請試著找出以下資訊：\n",
        "1. 第 89 個國家的確診數為多少？（`eighty_nine_num_case`）\n",
        "    - 我們定義 list 中索引 0 為第 0 個國家，索引 1 為第 1 個國家，以此類推\n",
        "2. 最多確診的國家有多少人確診? （`max_num_case`）\n",
        "3. 這 150 個國家的平均確診數為多少人？小數點請直接捨去（`mean_num_case`）\n",
        "4. 確診人數前五名（第 0 到第 4 名）的國家總共有多少人確診？（`top_five_num_cases`）\n",
        "5. 確診數大於等於 100,000 人的國家有多少個？（`num_high_risk_countires`）"
      ],
      "metadata": {
        "id": "3luUH0LScMFX"
      }
    },
    {
      "cell_type": "code",
      "metadata": {
        "id": "vwBfXBdxfnmh"
      },
      "source": [
        "num_cases = [\n",
        "    38384, 9060923, 895465, 14994937, 100147, 98568, 1527326, 1149447, 16063,\n",
        "    8357, 15712088, 5421236, 1498834, 10432547, 18605, 3145251, 8179, 21903,\n",
        "    43044280, 10630, 29025, 792362, 835090, 3683042, 30252618, 21993, 949583,\n",
        "    115838, 974478, 997395, 132953, 35421, 59969, 1099736, 4046953, 564, 903908,\n",
        "    6901, 4389025, 65337, 813176, 128344, 4053217, 15735, 895775, 14055, 16420,\n",
        "    15927, 662207, 920119, 978665, 36784, 5985251, 19741, 1952326, 4031754,\n",
        "    1995986, 23437145, 3635886, 5727668, 1316, 865585, 17811199, 1694957,\n",
        "    1419729, 39990, 3517, 1653044, 1879480, 13777, 6787, 8520, 80632301,\n",
        "    2881904, 155866, 1787928, 212630, 161687, 29124, 323944, 30364, 22780,\n",
        "    3719485, 16792, 45865, 6557, 768794, 5040518, 3568616, 1394233, 752572,\n",
        "    1038668, 9069, 3530258, 21916961, 3882395, 139749, 112459, 837558, 17430,\n",
        "    16353495, 5715, 28509, 1113517, 103104, 1160300, 2177, 7206959, 6932,\n",
        "    3555739, 35513, 8194946, 6046, 19013, 1095613, 2323132, 844892, 366001,\n",
        "    27960919, 11627487, 145194, 10360, 7197, 1164381, 6039873, 9018, 21224,\n",
        "    3972963, 57263, 25198, 2302, 1049383, 9706, 42944, 140829, 11951, 521965,\n",
        "    31165, 7371466, 6089662, 2506879, 3238169, 172014, 27006, 13647, 2783,\n",
        "    988618, 2495996, 3741230, 28588,\n",
        "]"
      ],
      "execution_count": null,
      "outputs": []
    },
    {
      "cell_type": "code",
      "source": [
        "#@title 1. 第 89 個國家的確診數為多少？（`eighty_nine_num_case`）\n",
        "# PLEASE MODIFY CODE BELOW.\n",
        "\n",
        "eighty_nine_num_case = 0\n",
        "print(\"The number of confirmed cases for the 89th country = {}\".format(eighty_nine_num_case))"
      ],
      "metadata": {
        "id": "QXadg38ZnjJt"
      },
      "execution_count": null,
      "outputs": []
    },
    {
      "cell_type": "code",
      "metadata": {
        "id": "PEO6k_tKgAFf"
      },
      "source": [
        "#@title 2. 最多確診的國家有多少人確診? （`max_num_case`）\n",
        "# PLEASE MODIFY CODE BELOW.\n",
        "\n",
        "max_num_case = 0\n",
        "print(\"The max number of confirmed cases = {}\".format(max_num_case))"
      ],
      "execution_count": null,
      "outputs": []
    },
    {
      "cell_type": "code",
      "metadata": {
        "id": "UAZPWL77g5fH"
      },
      "source": [
        "#@title 3. 這 150 個國家的平均確診數為多少人？小數點請直接捨去（`mean_num_case`）\n",
        "# PLEASE MODIFY CODE BELOW.\n",
        "\n",
        "mean_num_case = 0.0\n",
        "print(\"Average number of confirmed cases = {}\".format(mean_num_case))"
      ],
      "execution_count": null,
      "outputs": []
    },
    {
      "cell_type": "code",
      "metadata": {
        "id": "0PXdme-xhh_V"
      },
      "source": [
        "#@title 4. 確診人數前五名（第 0 到第 4 名）的國家總共有多少人確診？（`top_five_num_cases`）\n",
        "# PLEASE MODIFY CODE BELOW.\n",
        "\n",
        "top_five_num_cases = 0\n",
        "\n",
        "print(\"The number of confirmed cases for top five countires = {}\".format(top_five_num_cases))"
      ],
      "execution_count": null,
      "outputs": []
    },
    {
      "cell_type": "code",
      "source": [
        "#@title 5. 確診數大於等於 100,000 人的國家有多少個？（`num_high_risk_countires`）\n",
        "# PLEASE MODIFY CODE BELOW.\n",
        "\n",
        "num_high_risk_countires = 0\n",
        "\n",
        "print(\"The number of countires that are high risk = {}\".format(num_high_risk_countires))"
      ],
      "metadata": {
        "id": "uiCsa_NTkHDR"
      },
      "execution_count": null,
      "outputs": []
    },
    {
      "cell_type": "markdown",
      "source": [
        "## 題組（二）：2021 日本動畫人氣賞"
      ],
      "metadata": {
        "id": "nZ9VIx6sXu_w"
      }
    },
    {
      "cell_type": "markdown",
      "source": [
        "![Mushoku Tensei: Jobless Reincarnation](https://i.imgur.com/K4uTzBY.png)\n",
        "（[圖片來源](https://gnn.gamer.com.tw/detail.php?sn=204559)）"
      ],
      "metadata": {
        "id": "Y2WBv6zjYyjr"
      }
    },
    {
      "cell_type": "markdown",
      "metadata": {
        "id": "qhAXdsc_Jbxb"
      },
      "source": [
        "\n",
        "\n",
        "2021 年推出了許多精彩好看的日本動畫，我們從 [Anime Corner](https://animecorner.me/) 得到網友票選的前 32 名的動畫，並依照排名順序分別將名稱（`animes`）以及投票率（`votes`，單位為百分比）儲存在 list 中。請試著獲得以下資訊：\n",
        "1. 名稱含有 `season`（**不分大小寫**）的動畫有幾部？（`season_count`）\n",
        "2. 陰陽眼見子（`Mieruko-chan`）排名第幾？（`mieruko_ranking`）\n",
        "    - 附註：list 的第 0 個動畫我們定義為第 0 名\n",
        "3. 最長的動畫名稱為何？（`longest_anime`）\n",
        "    - 附註：名稱的長度以**字元的數量**來定義\n",
        "4. 承上題，該名稱總共含有幾個英文字母（**大小寫都算**）？（`alphabet_count`）\n",
        "5. 所有名稱長度在 8（含） 到 15（含） 之間的動畫投票率總和為多少？答案在誤差範圍 0.01 內都算對（`sum_medium_vote`）\n",
        "    - 附註：名稱的長度以**字元的數量**來定義\n",
        "    - 提示：善用 `zip()` 會讓你更方便得到結果\n",
        "\n"
      ]
    },
    {
      "cell_type": "code",
      "source": [
        "animes = [\"Mushoku Tensei: Jobless Reincarnation\", \"Fruits Basket The Final Season\", \"Re:ZERO -Starting Life in Another World- Season 2\", \"Attack on Titan Final Season\", \"Vivy -Fluorite Eye’s Song-\", \"That Time I Got Reincarnated as a Slime Season 2\", \"Tokyo Revengers\", \"The Quintessential Quintuplets 2\", \"The Duke of Death and His Maid\", \"TSUKIMICHI -Moonlit Fantasy-\", \"The Case Study of Vanitas\", \"Horimiya\", \"Mieruko-chan\", \"The World’s Finest Assassin Gets Reincarnated in Another World as an Aristocrat\", \"Miss Kobayashi’s Dragon Maid S\", \"To Your Eternity\", \"Komi Can’t Communicate\", \"86 EIGHTY-SIX\", \"Blue Period\", \"DON’T TOY WITH ME, MISS NAGATORO\", \"Demon Slayer: Kimetsu no Yaiba Mugen Train Arc\", \"Higehiro: After Being Rejected, I Shaved and Took in a High School Runaway\", \"SHADOWS HOUSE\", \"Remake Our Life!\", \"Girlfriend, Girlfriend\", \"Moriarty the Patriot Part 2\", \"My Hero Academia Season 5\", \"ODDTAXI\", \"Kemono Jihen\", \"SSSS.Dynazenon\", \"Kageki Shojo!!\", \"The Heike Story\"]\n",
        "print(animes)"
      ],
      "metadata": {
        "id": "6qgp5s67V3fz"
      },
      "execution_count": null,
      "outputs": []
    },
    {
      "cell_type": "code",
      "source": [
        "votes = [6.72, 6.09, 5.68, 5.65, 5.59, 5.08, 4.76, 4.6, 4.27, 4.17, 4.12, 4.11, 4.08, 3.41, 3.21, 3.0, 2.92, 2.9, 2.52, 2.28, 2.2, 1.85, 1.81, 1.71, 1.67, 1.21, 1.2, 1.15, 1.1, 0.34, 0.31, 0.29]\n",
        "print(votes)"
      ],
      "metadata": {
        "id": "CJK8xKfViOlq"
      },
      "execution_count": null,
      "outputs": []
    },
    {
      "cell_type": "code",
      "source": [
        "#@title 1. 名稱含有 `season`（**不分大小寫**）的動畫有幾部？（`season_count`）\n",
        "# PLEASE MODIFY CODE BELOW.\n",
        "\n",
        "season_count = 0\n",
        "print(\"The number of animes that contain `season`:\", season_count)"
      ],
      "metadata": {
        "id": "UJf4Vih6ZOQU"
      },
      "execution_count": null,
      "outputs": []
    },
    {
      "cell_type": "code",
      "source": [
        "#@title 2. 陰陽眼見子（`Mieruko-chan`）排名第幾？（`mieruko_ranking`）\n",
        "# PLEASE MODIFY CODE BELOW.\n",
        "\n",
        "mieruko_ranking = 0\n",
        "\n",
        "print(\"The ranknig of Mieruko-chan is\", mieruko_ranking)"
      ],
      "metadata": {
        "id": "W7mYXrsHaZrd"
      },
      "execution_count": null,
      "outputs": []
    },
    {
      "cell_type": "code",
      "source": [
        "#@title 3. 最長的動畫名稱為何？（`longest_anime`）\n",
        "# PLEASE MODIFY CODE BELOW.\n",
        "\n",
        "longest_anime = \"\"\n",
        "\n",
        "print(\"The anime that has longest name:\", longest_anime)"
      ],
      "metadata": {
        "id": "7iLqRmwbewYZ"
      },
      "execution_count": null,
      "outputs": []
    },
    {
      "cell_type": "code",
      "source": [
        "#@title 4. 承上題，該名稱總共含有幾個英文字母（**大小寫都算**）？（`alphabet_count`）\n",
        "# PLEASE MODIFY CODE BELOW.\n",
        "\n",
        "alphabet_count = 0\n",
        "\n",
        "print(\"The alphabet count for longest anime:\", alphabet_count)"
      ],
      "metadata": {
        "id": "cB91KljPgUGk"
      },
      "execution_count": null,
      "outputs": []
    },
    {
      "cell_type": "code",
      "source": [
        "#@title 5. 所有名稱長度在 8（含） 到 15（含） 之間的動畫投票率總和為多少？答案在誤差範圍 0.01 內都算對（`sum_medium_vote`）\n",
        "# PLEASE MODIFY CODE BELOW.\n",
        "\n",
        "sum_medium_vote = 0.0\n",
        "\n",
        "print(\"The total vote rate for all medium animes:\", sum_medium_vote)"
      ],
      "metadata": {
        "id": "Se0YotxMjff6"
      },
      "execution_count": null,
      "outputs": []
    },
    {
      "cell_type": "markdown",
      "source": [
        "## 題組（三）：MLB 打者大亂鬥"
      ],
      "metadata": {
        "id": "oxDi8qf-eR_v"
      }
    },
    {
      "cell_type": "markdown",
      "source": [
        "![](https://memeprod.sgp1.digitaloceanspaces.com/user-wtf/1629424190093.jpg)\n",
        "\n",
        "（[圖片來源](https://memes.tw/wtf/438872)）"
      ],
      "metadata": {
        "id": "QsJu6RkQeZHV"
      }
    },
    {
      "cell_type": "markdown",
      "source": [
        "MLB（美國職棒大聯盟）是職業棒球的最高殿堂，也是許多棒球選手的夢想。即使如願進入了 MLB，選手們仍是戰戰兢兢的完成每場比賽，因為每個球員的表現數據都會詳細記錄下來，會被當成未來是否續約、或是轉換球隊時的重要談判籌碼。\n",
        "\n",
        "我們從 [2022 MLB Player Stats](https://www.rotowire.com/baseball/stats.php) 蒐集了 100 位 MLB 打者的統計資料（截至 2022/04/18），每一個打者資料用一個 dict 來儲存，這 100 個球員的資料則為 list of dict。每個球員的 dict 的 key 所代表的意思為：\n",
        "- `Player`：球員名稱（字串）\n",
        "- `Team`：所屬球隊名稱（字串）\n",
        "- `AB`：打擊數 At Bat（整數）\n",
        "- `H`：安打數 Hit（整數）\n",
        "- `BB`：四壞保送數 Bases on Balls（整數）\n",
        "- `SF`：犧牲高飛打數 Sacrifice Flies（整數）\n",
        "- `HBP`：觸身球數 Hit by Pitch（整數）\n",
        "\n",
        "請試著回答以下問題:\n",
        "1. `Amed Rosario` 以及 `Nathaniel Lowe` 這兩位選手總共打了幾隻安打（`H`）？（`num_hits_amed_nathan`）\n",
        "    - 提示：可以用 `find_player()` 這個函式找出某個名字的球員\n",
        "2. 所有紐約洋基隊（`NYY`）的球員總共獲得了幾次的四壞球保送（`BB`）？（`num_bb_nyy`）\n",
        "3. 打擊數（`AB`）小於大谷翔平（`Shohei Ohtani`）的選手總共有幾個？（`num_less_ohtani`）\n",
        "    - 附註：是\"小於\"，不是\"小於等於\"喔\n",
        "4. 所有球員的 OBP（上壘率）的平均為何？OBP 的計算方式請參考公式一。答案在誤差範圍 0.01 內都算對（`avg_obp`）\n",
        "    - 提示：可以先寫好 `calc_obp()` 這個函式（輸入一個球員的 dict，輸出他的 OBP），再來計算全員的平均 OBP\n",
        "5. 總安打數（`H`）最多的是哪個球隊？\n",
        "    - 提示：先計算各個球隊下的所有球員安打數總和，再去找出最多總安打數的球隊\n",
        "\n",
        "公式一：\n",
        "\n",
        "$OBP = \\frac {H + BB + HBP} {AB + BB + HBP + SF}$"
      ],
      "metadata": {
        "id": "bSQFp8rKebkY"
      }
    },
    {
      "cell_type": "code",
      "metadata": {
        "id": "3CwSbMtG40as"
      },
      "source": [
        "import urllib.request\n",
        "import json\n",
        "\n",
        "# Load the MLB players data.\n",
        "with urllib.request.urlopen(\n",
        "    \"https://raw.githubusercontent.com/AINTUT/code_2023/main/datasets/\"\n",
        "    \"mlb_batters_2022.json\",\n",
        ") as url:\n",
        "    players = json.loads(url.read().decode())"
      ],
      "execution_count": null,
      "outputs": []
    },
    {
      "cell_type": "code",
      "source": [
        "# Print the first 10 players in the list.\n",
        "for player in players[:10]:\n",
        "    print(player)"
      ],
      "metadata": {
        "id": "lpbsoP3D75en"
      },
      "execution_count": null,
      "outputs": []
    },
    {
      "cell_type": "code",
      "metadata": {
        "id": "4DqLqYbFseYq"
      },
      "source": [
        "#@title 1. `Amed Rosario` 以及 `Nathaniel Lowe` 這兩位選手總共打了幾隻安打（`H`）？（`num_hits_amed_nathan`）\n",
        "\n",
        "# Find the corresponding player given its name.\n",
        "def find_player(players, name):\n",
        "    for player in players:\n",
        "        if player[\"Player\"] == name:\n",
        "            return player\n",
        "\n",
        "    return None\n",
        "\n",
        "# PLEASE MODIFY CODE BELOW.\n",
        "\n",
        "num_hits_amed_nathan = 0\n",
        "\n",
        "print(\"Number of hits by Amed and Nathaniel = {}\".format(num_hits_amed_nathan))"
      ],
      "execution_count": null,
      "outputs": []
    },
    {
      "cell_type": "code",
      "metadata": {
        "id": "elR9eesXGXq_"
      },
      "source": [
        "#@title 2. 所有紐約洋基隊（`NYY`）的球員總共獲得了幾次的四壞球保送（`BB`）？（`num_bb_nyy`）\n",
        "\n",
        "# PLEASE MODIFY CODE BELOW.\n",
        "\n",
        "num_bb_nyy = 0\n",
        "\n",
        "print(\"Number of BB got by NYY = {}\".format(num_bb_nyy))"
      ],
      "execution_count": null,
      "outputs": []
    },
    {
      "cell_type": "code",
      "metadata": {
        "id": "-ywX7UMtofg6"
      },
      "source": [
        "#@title 3. 打擊數（`AB`）小於大谷翔平（`Shohei Ohtani`）的選手總共有幾個？（`num_less_ohtani`）\n",
        "# PLEASE MODIFY CODE BELOW.\n",
        "\n",
        "num_less_ohtani = 0\n",
        "\n",
        "print(\"Number of plyaers whose AB is < Ohtani = {}\".format(num_less_ohtani))"
      ],
      "execution_count": null,
      "outputs": []
    },
    {
      "cell_type": "code",
      "source": [
        "#@title 4. 所有球員的 OBP（上壘率）的平均為何？OBP 的計算方式請參考公式一。答案在誤差範圍 0.01 內都算對（`avg_obp`）\n",
        "\n",
        "# PLEASE MODIFY CODE BELOW.\n",
        "\n",
        "def calc_obp(player):\n",
        "    return 0.0\n",
        "\n",
        "avg_obp = 0.0\n",
        "\n",
        "print(\"Average OBP = {}\".format(avg_obp))"
      ],
      "metadata": {
        "id": "a6MqB7ZtGuwI"
      },
      "execution_count": null,
      "outputs": []
    },
    {
      "cell_type": "code",
      "source": [
        "#@title 5. 總安打數（`H`）最多的是哪個球隊？\n",
        "# PLEASE MODIFY CODE BELOW.\n",
        "\n",
        "highest_hits_team = \"\"\n",
        "\n",
        "print(\"The team that has highest hits: {}\".format(highest_hits_team))"
      ],
      "metadata": {
        "id": "zw5YjSxZqGfy"
      },
      "execution_count": null,
      "outputs": []
    }
  ]
}