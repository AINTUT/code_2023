{
  "nbformat": 4,
  "nbformat_minor": 0,
  "metadata": {
    "colab": {
      "provenance": [],
      "collapsed_sections": [
        "2WfICAf2E9Yh",
        "E8yHk75JbSAH",
        "swqwdsqDcCNR",
        "__ssm7WCcFqh",
        "XgiTTctxb5la",
        "fp8_9E_mc2C4",
        "1oqspU_9dBmQ",
        "AXoILMLudCCm",
        "wzWg7v_OdCbG"
      ]
    },
    "kernelspec": {
      "name": "python3",
      "display_name": "Python 3"
    }
  },
  "cells": [
    {
      "cell_type": "markdown",
      "metadata": {
        "id": "hI7hcU3_yQv2"
      },
      "source": [
        "This notebook is freely available for redistribution under the [GPL-3.0 license](https://choosealicense.com/licenses/gpl-3.0/).\n",
        "\n",
        "Author: 蘇嘉冠 feabries@gmail.com\n",
        "\n",
        "Contributors: 蘇郁翔 asdfghjkl225836@gmail.com"
      ]
    },
    {
      "cell_type": "markdown",
      "metadata": {
        "id": "Na0_QjevL_F5"
      },
      "source": [
        "# Python 基礎練習（三）"
      ]
    },
    {
      "cell_type": "markdown",
      "source": [
        "## 在開始之前\n",
        "\n",
        "請先確認以下動作已經完成：\n",
        "1. 登錄你的 Google 帳號\n",
        "2. （之前做過的可以跳過這步驟）按上面工具列的 `工具` -> `設定` 跳出設定視窗，按左邊的 `編輯器`，將右方的 `縮排寬度` 設定為 `4`，再按下 `儲存`\n",
        "3. 按上方工具列的 `檔案` -> `在雲端硬碟中儲存副本`，會跳出一個新視窗，用複製的那一份繼續做編輯。複製的檔案會儲存在你的 [Google Drive](https://drive.google.com/drive) 的 `Colab Notebooks` 資料夾裡"
      ],
      "metadata": {
        "id": "C0Nj7ucf1JIY"
      }
    },
    {
      "cell_type": "markdown",
      "source": [
        "## I. 函式（function）"
      ],
      "metadata": {
        "id": "2WfICAf2E9Yh"
      }
    },
    {
      "cell_type": "markdown",
      "source": [
        "有時候你可能會遇到一種情況：不斷的重複寫類似的程式碼（範例一）。這種時候，你可以將重複的程式碼包裝成一個函式（function），重複呼叫使用（範例二）"
      ],
      "metadata": {
        "id": "07LvMzYLE_Y3"
      }
    },
    {
      "cell_type": "code",
      "source": [
        "weights = [67, 89, 72]\n",
        "heights = [170, 155, 167]\n",
        "\n",
        "print(weights[0] / (heights[0] / 100) ** 2)\n",
        "print(weights[1] / (heights[1] / 100) ** 2)\n",
        "print(weights[2] / (heights[2] / 100) ** 2)"
      ],
      "metadata": {
        "id": "RHvDLU0dFGJc"
      },
      "execution_count": null,
      "outputs": []
    },
    {
      "cell_type": "code",
      "source": [
        "def get_bmi(weight, height):\n",
        "    return weight / (height / 100) ** 2\n",
        "\n",
        "weights = [67, 89, 72]\n",
        "heights = [170, 155, 167]\n",
        "\n",
        "print(get_bmi(weights[0], heights[0]))\n",
        "print(get_bmi(weights[1], heights[1]))\n",
        "print(get_bmi(weights[2], heights[2]))"
      ],
      "metadata": {
        "id": "BtjSpSKvFs8h"
      },
      "execution_count": null,
      "outputs": []
    },
    {
      "cell_type": "code",
      "source": [],
      "metadata": {
        "id": "DtFpHBpuF53L"
      },
      "execution_count": null,
      "outputs": []
    },
    {
      "cell_type": "markdown",
      "source": [
        "定義一個函式的語法如下，其中參數為非必要。如果需要的話，還可以用 `return` 來回傳結果\n",
        "\n",
        "```\n",
        "def 函式名稱(參數1, 參數2, ...):\n",
        "    ……………………\n",
        "    程式區塊\n",
        "    ……………………\n",
        "```"
      ],
      "metadata": {
        "id": "JbpXc2iqF67K"
      }
    },
    {
      "cell_type": "markdown",
      "source": [
        "### return"
      ],
      "metadata": {
        "id": "SuvV0W1_Gsc1"
      }
    },
    {
      "cell_type": "markdown",
      "source": [
        "return 可以寫在一個函式裡的任何地方，return 那行被執行時，函式就會結束並且回傳結果"
      ],
      "metadata": {
        "id": "YnGQZTD6Gti4"
      }
    },
    {
      "cell_type": "code",
      "source": [
        "def get_double_or_triple(number):\n",
        "    if number % 2 == 0:\n",
        "        return 2 * number\n",
        "    return 3 * number\n",
        "\n",
        "print(get_double_or_triple(4)) # 8 (2 * 4)\n",
        "print(get_double_or_triple(5)) # 15 (3 * 5)"
      ],
      "metadata": {
        "id": "qRlx-psdG8Ln"
      },
      "execution_count": null,
      "outputs": []
    },
    {
      "cell_type": "code",
      "source": [],
      "metadata": {
        "id": "O_dYnn52HBBz"
      },
      "execution_count": null,
      "outputs": []
    },
    {
      "cell_type": "markdown",
      "source": [
        "如果執行函式時沒有遇到任何的 return，會回傳 `None`"
      ],
      "metadata": {
        "id": "Fo4xCo0MHOEX"
      }
    },
    {
      "cell_type": "code",
      "source": [
        "def get_double_or_none(number):\n",
        "    if number % 2 == 0:\n",
        "        return 2 * number\n",
        "\n",
        "print(get_double_or_none(4)) # 8 (2 * 4)\n",
        "print(get_double_or_none(5)) # None"
      ],
      "metadata": {
        "id": "b85c81L9HSW2"
      },
      "execution_count": null,
      "outputs": []
    },
    {
      "cell_type": "code",
      "source": [],
      "metadata": {
        "id": "EEOsfi-uHVdN"
      },
      "execution_count": null,
      "outputs": []
    },
    {
      "cell_type": "markdown",
      "source": [
        "return 可以回傳多個值，並且回傳時會自動轉成 tuple"
      ],
      "metadata": {
        "id": "xrFV6PxdHV2L"
      }
    },
    {
      "cell_type": "code",
      "source": [
        "def get_double_and_triple(number):\n",
        "    return 2 * number, 3 * number\n",
        "\n",
        "print(get_double_and_triple(4)) # (8, 12)\n",
        "print(get_double_and_triple(5)) # (10, 15)"
      ],
      "metadata": {
        "id": "WHXHRft8HYLH"
      },
      "execution_count": null,
      "outputs": []
    },
    {
      "cell_type": "code",
      "source": [],
      "metadata": {
        "id": "Dapmh7R8HdJy"
      },
      "execution_count": null,
      "outputs": []
    },
    {
      "cell_type": "markdown",
      "source": [
        "### parameter（參數）與 argument（引數）"
      ],
      "metadata": {
        "id": "EpxZApHaHxf7"
      }
    },
    {
      "cell_type": "markdown",
      "source": [
        "- parameter（參數）：定義函式時的變數，在定義時數值未定\n",
        "- argument（引數）：在呼叫函數時實際的傳入給 parameter 的值"
      ],
      "metadata": {
        "id": "RkubSwZxH0kp"
      }
    },
    {
      "cell_type": "markdown",
      "source": [
        "![image.png](data:image/png;base64,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)"
      ],
      "metadata": {
        "id": "tzjRf6OMItga"
      }
    },
    {
      "cell_type": "markdown",
      "source": [
        "函式的 parameter 可以提供或不提供預設值。對於沒有預設值的 parameter（例如範例中的 `number` 與 `factor`），相對應的 argument 要按照順序填入，我們稱為 positional argument。\n",
        "\n",
        "positional argument 為必填，當漏填時會產生錯誤。"
      ],
      "metadata": {
        "id": "ftjY8FkVIuwK"
      }
    },
    {
      "cell_type": "code",
      "source": [
        "def get_power(number, factor):\n",
        "    return number ** factor\n",
        "\n",
        "print(get_power(2, 2)) # 4 (2 ^ 2)\n",
        "print(get_power(3, 2)) # 9 (3 ^ 2)\n",
        "print(get_power(4)) # This will cause an error."
      ],
      "metadata": {
        "id": "BL9kxi0gKF2B"
      },
      "execution_count": null,
      "outputs": []
    },
    {
      "cell_type": "code",
      "source": [],
      "metadata": {
        "id": "hNOH0VREKISu"
      },
      "execution_count": null,
      "outputs": []
    },
    {
      "cell_type": "markdown",
      "source": [
        "當 parameter 有預設值時，其對應的 argument 稱為 keyword argument。\n",
        "\n",
        "keyword argument 可以不填值，當不填時就會用預設值。另外，keyword argument 可以不按照順序填入。"
      ],
      "metadata": {
        "id": "jho3rPCtKvVY"
      }
    },
    {
      "cell_type": "code",
      "source": [
        "def get_power(number, factor=2, to_int=True):\n",
        "    result = number ** factor\n",
        "    return int(result) if to_int else result\n",
        "\n",
        "print(get_power(2)) # 4 (2 ^ 2)\n",
        "print(get_power(2, factor=2)) # 4 (2 ^ 2)\n",
        "print(get_power(2, factor=3)) # 8 (2 ^ 3)\n",
        "print(get_power(2.5, to_int=False, factor=3)) # 15.625 (2.5 ^ 3)"
      ],
      "metadata": {
        "id": "7ORdTB4mLYUQ"
      },
      "execution_count": null,
      "outputs": []
    },
    {
      "cell_type": "code",
      "source": [],
      "metadata": {
        "id": "gnsCy6MWLfml"
      },
      "execution_count": null,
      "outputs": []
    },
    {
      "cell_type": "markdown",
      "source": [
        "當一個函式同時包含沒有預設值以及有預設值的 parameter 時，沒有預設值的 parameter 必須定義在前面\n",
        "\n",
        "範例一是合法的函式定義，範例二是則會出現錯誤"
      ],
      "metadata": {
        "id": "jg9Wr6N8Lm1e"
      }
    },
    {
      "cell_type": "code",
      "source": [
        "# Valid function definition.\n",
        "def get_power(number, factor=2, to_int=True):\n",
        "    result = number ** factor\n",
        "    return int(result) if to_int else result"
      ],
      "metadata": {
        "id": "btFnirpgL9b1"
      },
      "execution_count": null,
      "outputs": []
    },
    {
      "cell_type": "code",
      "source": [
        "# Invalid function definition.\n",
        "def get_power(factor=2, number, to_int=True):\n",
        "    result = number ** factor\n",
        "    return int(result) if to_int else result"
      ],
      "metadata": {
        "id": "sXq7sjYEL_Wz"
      },
      "execution_count": null,
      "outputs": []
    },
    {
      "cell_type": "markdown",
      "source": [
        "同樣的，同時有 positional argument 跟 keyword argument 時，positional argument 一定要都定義在 keyword argument 前面"
      ],
      "metadata": {
        "id": "E6n9v6rqMSA4"
      }
    },
    {
      "cell_type": "code",
      "source": [
        "def get_power(number, factor=2, to_int=True):\n",
        "    result = number ** factor\n",
        "    return int(result) if to_int else result\n",
        "\n",
        "# Valid function call.\n",
        "get_power(2, factor=3)\n",
        "\n",
        "# Invalid function call.\n",
        "get_power(factor=3, 2)"
      ],
      "metadata": {
        "id": "Azse-0u3MazQ"
      },
      "execution_count": null,
      "outputs": []
    },
    {
      "cell_type": "markdown",
      "source": [
        "### 區域變數（local variables）"
      ],
      "metadata": {
        "id": "Wdc7PrbfTV0A"
      }
    },
    {
      "cell_type": "markdown",
      "source": [
        "函式內部建立的任何變數，包含 parameter 本身，皆為區域變數（local variables），例如範例中的 `number_y`, 與 `number_x`。對於非 paramter 的區域變數修改，不會對函式外部的變數造成影響。"
      ],
      "metadata": {
        "id": "YwMT2wZYNY-E"
      }
    },
    {
      "cell_type": "code",
      "source": [
        "def simple_function(number_y):\n",
        "    number_x = number_y\n",
        "    print(\"In function:\", number_x) # 30\n",
        "\n",
        "number_x = 100\n",
        "print(\"Out of function:\", number_x) # 100\n",
        "\n",
        "simple_function(30)\n",
        "print(\"Out of function:\", number_x) # 100 (Didn't change)"
      ],
      "metadata": {
        "id": "NtIW3ktxP6pl"
      },
      "execution_count": null,
      "outputs": []
    },
    {
      "cell_type": "code",
      "source": [],
      "metadata": {
        "id": "nzYsX7xdRdX9"
      },
      "execution_count": null,
      "outputs": []
    },
    {
      "cell_type": "markdown",
      "source": [
        "但對 parameter 修改則需要非常小心，有時候可能會出現 bug。\n",
        "\n",
        "修改 parameter「本身」不會對外部變數造成影響（範例一），但是當傳入的 argument 是參照到可變物件（例如 list、dict），並且從函式內修改物件的「內容」時，函式外部也會看到該物件的改變（範例二）"
      ],
      "metadata": {
        "id": "uzn7QDLCQH8U"
      }
    },
    {
      "cell_type": "code",
      "source": [
        "def increase_one(number):\n",
        "    number = number + 1\n",
        "\n",
        "x = 10\n",
        "\n",
        "increase_one(x)\n",
        "print(x) # 10"
      ],
      "metadata": {
        "id": "7h4cEl70SiyQ"
      },
      "execution_count": null,
      "outputs": []
    },
    {
      "cell_type": "code",
      "source": [],
      "metadata": {
        "id": "WACnVZMMSjTo"
      },
      "execution_count": null,
      "outputs": []
    },
    {
      "cell_type": "code",
      "source": [
        "def append_one(lst):\n",
        "    lst.append(1)\n",
        "\n",
        "x = [3, 2]\n",
        "\n",
        "append_one(x)\n",
        "print(x) # [3, 2, 1]"
      ],
      "metadata": {
        "id": "wRtzm4ndSF0f"
      },
      "execution_count": null,
      "outputs": []
    },
    {
      "cell_type": "code",
      "source": [],
      "metadata": {
        "id": "Y_JslNn7SJGg"
      },
      "execution_count": null,
      "outputs": []
    },
    {
      "cell_type": "markdown",
      "source": [
        "因此我們有一個原則：**盡量不要修改函式 parameter 的內容**。\n",
        "\n",
        "當我們真的要對其內容做修改時，最簡單的作法是先複製一份"
      ],
      "metadata": {
        "id": "qINQJEJoSvCg"
      }
    },
    {
      "cell_type": "code",
      "source": [
        "def append_one(lst):\n",
        "    new_lst = lst[:] # Copy the list.\n",
        "    new_lst.append(1)\n",
        "\n",
        "    return new_lst\n",
        "\n",
        "x = [3, 2]\n",
        "\n",
        "print(append_one(x)) # [3, 2, 1]\n",
        "print(x) # [3, 2]"
      ],
      "metadata": {
        "id": "HISS7nT3TGIu"
      },
      "execution_count": null,
      "outputs": []
    },
    {
      "cell_type": "code",
      "source": [],
      "metadata": {
        "id": "jX6kIw6BTJpF"
      },
      "execution_count": null,
      "outputs": []
    },
    {
      "cell_type": "markdown",
      "source": [
        "[補充] 上面幾個範例背後的運作機制，請參考這份[連結](https://docs.google.com/presentation/d/1nHwhlccOWh9VBq1EYs7mcCyw5sGswAqwWIFFW_L5190/edit?usp=sharing)"
      ],
      "metadata": {
        "id": "S8kZFQpETclM"
      }
    },
    {
      "cell_type": "markdown",
      "source": [
        "### 函式作為變數使用"
      ],
      "metadata": {
        "id": "m2rNhfp6TstT"
      }
    },
    {
      "cell_type": "markdown",
      "source": [
        "當定義一個函式後，我們可以將函式名稱指派給變數使用，並且在之後呼叫使用"
      ],
      "metadata": {
        "id": "12Jq2tlqT7dR"
      }
    },
    {
      "cell_type": "code",
      "source": [
        "def get_power(number, factor):\n",
        "    return number ** factor\n",
        "\n",
        "power_fn = get_power\n",
        "print(power_fn(2, 3)) # 8 (2 ^ 3)\n",
        "print(power_fn) # a function object"
      ],
      "metadata": {
        "id": "_unNAkaFXPxE"
      },
      "execution_count": null,
      "outputs": []
    },
    {
      "cell_type": "code",
      "source": [],
      "metadata": {
        "id": "hbxGGDozXhBi"
      },
      "execution_count": null,
      "outputs": []
    },
    {
      "cell_type": "markdown",
      "source": [
        "一種好用的方式，是像 `min()`, `max()`, `sorted()` 等在比較數值時，可以多提供一個 keyword argument: `key`。`key` 是一個函式，輸入是 list 中每個 element，輸出則是這個 element 用來比較大小的數值。\n",
        "\n",
        "範例一是對 `max()` 輸入一個 list of dict，並且用每個 dict 的 key `\"age\"` 的 value 來作為比較值\n",
        "\n",
        "範例二則是對 `sorted()` 輸入一個 list of str，並且用每個 str 的長度來作為比較值"
      ],
      "metadata": {
        "id": "F-OMixFtXpB4"
      }
    },
    {
      "cell_type": "code",
      "source": [
        "def get_age(person):\n",
        "    return person[\"age\"]\n",
        "\n",
        "persons = [{\n",
        "    \"name\": \"Biden\",\n",
        "    \"age\": 80,\n",
        "}, {\n",
        "    \"name\": \"Trump\",\n",
        "    \"age\": 87,\n",
        "}, {\n",
        "    \"name\": \"Su\",\n",
        "    \"age\": 18,\n",
        "}]\n",
        "\n",
        "print(max(persons, key=get_age)) # {'name': 'Trump', 'age': 87}"
      ],
      "metadata": {
        "id": "yYOLmOZUYjBG"
      },
      "execution_count": null,
      "outputs": []
    },
    {
      "cell_type": "code",
      "source": [],
      "metadata": {
        "id": "4OmeHQXLZG1P"
      },
      "execution_count": null,
      "outputs": []
    },
    {
      "cell_type": "code",
      "source": [
        "sentences = [\"long sentence\", \"short\", \"very very very long sentence\"]\n",
        "print(sorted(sentences, key=len)) # ['short', 'long sentence', 'very very very long sentence']"
      ],
      "metadata": {
        "id": "mm5d9fmuZOhn"
      },
      "execution_count": null,
      "outputs": []
    },
    {
      "cell_type": "code",
      "source": [],
      "metadata": {
        "id": "rmuGtDrfZiT4"
      },
      "execution_count": null,
      "outputs": []
    },
    {
      "cell_type": "markdown",
      "source": [
        "### Lambda 匿名函式"
      ],
      "metadata": {
        "id": "Qz1125bXaVsg"
      }
    },
    {
      "cell_type": "markdown",
      "source": [
        "如果函式的內容比較簡短而且只用到一次，例如上面範例的 `get_age()`，我們可以考慮改用 lambda，其語法如下：\n",
        "\n",
        "```\n",
        "lambda 參數1, 參數2, ...: 回傳值\n",
        "```\n",
        "\n",
        "lambda 不太適合過於複雜的函式內容，所以適當的使用就好"
      ],
      "metadata": {
        "id": "07GVOeA6aX0S"
      }
    },
    {
      "cell_type": "code",
      "source": [
        "persons = [{\n",
        "    \"name\": \"Biden\",\n",
        "    \"age\": 80,\n",
        "}, {\n",
        "    \"name\": \"Trump\",\n",
        "    \"age\": 87,\n",
        "}, {\n",
        "    \"name\": \"Su\",\n",
        "    \"age\": 18,\n",
        "}]\n",
        "\n",
        "print(max(persons, key=lambda person: person[\"age\"])) # {'name': 'Trump', 'age': 87}"
      ],
      "metadata": {
        "id": "WXgpiju0bI9Y"
      },
      "execution_count": null,
      "outputs": []
    },
    {
      "cell_type": "code",
      "source": [],
      "metadata": {
        "id": "hBP8SODzbRme"
      },
      "execution_count": null,
      "outputs": []
    },
    {
      "cell_type": "markdown",
      "source": [
        "## II. 模組（module）與套件（pakcage）"
      ],
      "metadata": {
        "id": "E8yHk75JbSAH"
      }
    },
    {
      "cell_type": "markdown",
      "source": [
        "### 情境"
      ],
      "metadata": {
        "id": "1wboCZ6jjXuG"
      }
    },
    {
      "cell_type": "markdown",
      "source": [
        "情境一：\n",
        "\n",
        "在比較正式的專案中，通常用 script 的方式開發（撰寫 `.py` 檔案）。當有成千上萬行的成程式碼，不太可能全部內容都放在同一個檔案，因此會考慮：\n",
        "-  將程式碼分割為多個檔案，每個檔案稱為模組（module）\n",
        "- 甚至可以將多個相關的模組集結在同個資料夾下，這個資料夾稱為套件（package）\n",
        "\n",
        "情境二：\n",
        "\n",
        "當已經有我自己或別人寫好的模組、套件時，我該如何用他捫？"
      ],
      "metadata": {
        "id": "xNR1fWreNDiY"
      }
    },
    {
      "cell_type": "markdown",
      "source": [
        "### 模組（module）"
      ],
      "metadata": {
        "id": "13Uc8o73j0Q1"
      }
    },
    {
      "cell_type": "markdown",
      "source": [
        "- 一個 `.py` 結尾的檔名，會被 Python 視為一個模組\n",
        "- 模組名稱就是檔案的主檔名\n",
        "- 通常模組內會定義好函式、變數等，給別的程式碼使用\n",
        "- 使用 `import` 來匯入模組本身或是模組裡的物件\n",
        "- 同一個模組可以給不同專案重複使用"
      ],
      "metadata": {
        "id": "wativ1Uej2NJ"
      }
    },
    {
      "cell_type": "markdown",
      "source": [
        "例如，我們網路上下載一個模組 `circle.py` 到 Coalb 主機中，檔案內容包含變數 `PI`（圓周率）以及函式 `get_area()`（輸入半徑，輸出圓的面積）\n",
        "\n",
        "```python\n",
        "PI = 3.14159\n",
        "\n",
        "def get_area(radius):\n",
        "    return PI * radius * radius\n",
        "```\n",
        "\n",
        "附註：在 Colab 中，最前面加上 `!` 代表該行進入指令模式，而不是執行 Python 程式碼。Colab 要用的是 Linux 指令，類似 Windows 的「命令提示字元」或 Mac 的「終端機」"
      ],
      "metadata": {
        "id": "mNjozr5Glhso"
      }
    },
    {
      "cell_type": "code",
      "source": [
        "!wget https://raw.githubusercontent.com/AINTUT/code_2023/main/examples/circle.py -O circle.py"
      ],
      "metadata": {
        "id": "OuftWZXdlpNd"
      },
      "execution_count": null,
      "outputs": []
    },
    {
      "cell_type": "markdown",
      "source": [
        "按 Colab 界面左邊選單的`檔案`按鈕，會看到`circle.py` 確實被下載到 Colab 主機。按鈕圖示：![image.png](data:image/png;base64,iVBORw0KGgoAAAANSUhEUgAAACQAAAAhCAIAAAA+r558AAAACXBIWXMAAA7EAAAOxAGVKw4bAAAA2UlEQVRIie2WMQ6EIBBF1802cgentqWek3gRD+EdrKk9BLUt9UxtO61bmGyByBqiJhp+B/OTFyYDn2Ke59dVel9GyrBbwj7e2jlnrZ2maW1FREQ8DEZEXddtWZ1zC/IY2DiOcXff9yICAFuGsiwjVb+Nf2WMiRsAoG1bpdS6dPyAEJG1NlgKnKyqqqZp0kjGGGYWkb0wpVRd12mwYPd+eu6lzrAMy7DzFXiumDmSanEx816Y1noYBhFZcjJZWuvgfuF9UpeAIKI0DAAg4lZ++rBT9dxpzLD7wb6VbEym/gyBRQAAAABJRU5ErkJggg==)\n"
      ],
      "metadata": {
        "id": "_r8UZunlmKpi"
      }
    },
    {
      "cell_type": "markdown",
      "source": [
        "接下來我們來看如何使用它"
      ],
      "metadata": {
        "id": "0U4I2aZAnuhE"
      }
    },
    {
      "cell_type": "markdown",
      "source": [
        "### import"
      ],
      "metadata": {
        "id": "WCQBxfScoWeW"
      }
    },
    {
      "cell_type": "markdown",
      "source": [
        "模組基本上有三種引用的形式，第一種是直接匯入整個模組，並且用 `模組.XXX` 來存取某個特定物件\n",
        "\n",
        "```\n",
        "import 模組名稱\n",
        "```"
      ],
      "metadata": {
        "id": "BS5e06dUoXoK"
      }
    },
    {
      "cell_type": "code",
      "source": [
        "import circle\n",
        "\n",
        "print(circle.PI) # 3.14159\n",
        "print(circle.get_area(3)) # 28.274309999999996"
      ],
      "metadata": {
        "id": "WTIVxaH5pG_k"
      },
      "execution_count": null,
      "outputs": []
    },
    {
      "cell_type": "code",
      "source": [],
      "metadata": {
        "id": "16a91HSapU3z"
      },
      "execution_count": null,
      "outputs": []
    },
    {
      "cell_type": "markdown",
      "source": [
        "第二種是匯入模組中的某（幾）個特定物件\n",
        "\n",
        "```\n",
        "from 模組名稱 import 物件名稱1, 物件名稱2, ... \n",
        "```"
      ],
      "metadata": {
        "id": "zy7BVTmJpVYQ"
      }
    },
    {
      "cell_type": "code",
      "source": [
        "from circle import get_area\n",
        "from circle import PI\n",
        "\n",
        "print(get_area(3)) # 28.274309999999996\n",
        "print(PI) # 3.14159"
      ],
      "metadata": {
        "id": "mLyT0f0ppdud"
      },
      "execution_count": null,
      "outputs": []
    },
    {
      "cell_type": "code",
      "source": [],
      "metadata": {
        "id": "rxZ5Bpazpglq"
      },
      "execution_count": null,
      "outputs": []
    },
    {
      "cell_type": "markdown",
      "source": [
        "第三種一次匯入模組的（幾乎）所有的物件名稱，不過建議不要這樣使用，程式碼可讀性低而且容易產生 bug\n",
        "\n",
        "```\n",
        "from 模組名稱 import *\n",
        "```\n",
        "\n",
        "[補充] 第三種形式的相關討論，請看[這裡](https://s16h.medium.com/importing-star-in-python-88fe9e8bd4d2)以及[這裡](https://peps.python.org/pep-0008/#imports)"
      ],
      "metadata": {
        "id": "nLdZErYppo_P"
      }
    },
    {
      "cell_type": "code",
      "source": [
        "from circle import *\n",
        "\n",
        "print(get_area(3)) # 28.274309999999996\n",
        "print(PI) # 3.14159"
      ],
      "metadata": {
        "id": "fQAqBTxop3PV"
      },
      "execution_count": null,
      "outputs": []
    },
    {
      "cell_type": "code",
      "source": [],
      "metadata": {
        "id": "0FXg0kpkp4Wp"
      },
      "execution_count": null,
      "outputs": []
    },
    {
      "cell_type": "markdown",
      "source": [
        "另外，我們也可以在匯入時同時改名\n",
        "\n",
        "```\n",
        "import 模組名稱 as 新模組名稱\n",
        "```\n",
        "\n",
        "```\n",
        "from 模組名稱 import 物件名稱 as 新物件名稱\n",
        "```"
      ],
      "metadata": {
        "id": "Uka_8PKOqS61"
      }
    },
    {
      "cell_type": "code",
      "source": [
        "import circle as cir\n",
        "\n",
        "print(cir.get_area(3)) # 28.274309999999996\n",
        "print(cir.PI) # 3.14159"
      ],
      "metadata": {
        "id": "RGf_vrl5qf6n"
      },
      "execution_count": null,
      "outputs": []
    },
    {
      "cell_type": "code",
      "source": [],
      "metadata": {
        "id": "3XqCbltLqhDc"
      },
      "execution_count": null,
      "outputs": []
    },
    {
      "cell_type": "code",
      "source": [
        "from circle import get_area as get_circle_area\n",
        "\n",
        "print(get_circle_area(3)) # 28.274309999999996"
      ],
      "metadata": {
        "id": "Wvx36Hnzqj0S"
      },
      "execution_count": null,
      "outputs": []
    },
    {
      "cell_type": "code",
      "source": [],
      "metadata": {
        "id": "n4W5HWrGqsMQ"
      },
      "execution_count": null,
      "outputs": []
    },
    {
      "cell_type": "markdown",
      "source": [
        "### 套件（package）"
      ],
      "metadata": {
        "id": "OFw2Wx5Iq9aj"
      }
    },
    {
      "cell_type": "markdown",
      "source": [
        "一個套件集結了多個模組：\n",
        "- 套件名稱就是資料夾的名稱\n",
        "- 除了模組的檔案之外，資料夾下還要包含一個 `__init__.py` 的檔案，告訴 Python 這個資料夾是一個套件\n",
        "- 可以不只一層資料夾\n",
        "- 使用 `import` 來匯入套件、子套件、子模組或是物件等\n",
        "- 同一個套件可以給不同專案重複使用"
      ],
      "metadata": {
        "id": "9X1bBqiNsW7n"
      }
    },
    {
      "cell_type": "markdown",
      "source": [
        "例如，考慮以下程式碼：\n",
        "\n",
        "```python\n",
        "PI = 3.14159\n",
        "\n",
        "def get_circle_area(radius):\n",
        "    return PI * radius * radius\n",
        "\n",
        "def get_rectangle_area(width, height):\n",
        "    return width * height\n",
        "\n",
        "def get_triangle_area(width, height):\n",
        "    return width * height * 0.5\n",
        "```"
      ],
      "metadata": {
        "id": "Fw3ujqzPtQ02"
      }
    },
    {
      "cell_type": "markdown",
      "source": [
        "可以分成幾個模組檔案，以及一個內容為空的 `__init__.py`\n",
        "\n",
        "`circle.py`:\n",
        "```python\n",
        "PI = 3.14159\n",
        "\n",
        "def get_area(radius):\n",
        "    return PI * radius * radius\n",
        "\n",
        "```\n",
        "\n",
        "`rectangle.py`:\n",
        "```python\n",
        "def get_area(width, height):\n",
        "    return width * height\n",
        "```\n",
        "\n",
        "`triangle.py`:\n",
        "```python\n",
        "def get_area(width, height):\n",
        "    return width * height * 0.5\n",
        "```\n",
        "\n",
        "`__init__.py`:\n",
        "```python\n",
        "```"
      ],
      "metadata": {
        "id": "ZyNDG10orAAj"
      }
    },
    {
      "cell_type": "markdown",
      "source": [
        "並且將這幾個檔案都放在 `shape` 資料夾下\n",
        "\n",
        "![image.png](data:image/png;base64,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)"
      ],
      "metadata": {
        "id": "BUoNdX-hwJdi"
      }
    },
    {
      "cell_type": "markdown",
      "source": [
        "這裡我們從網路上下載套件 `shape` 到 Colab 主機中\n",
        "\n",
        "一樣可以按界面左邊的`檔案`按鈕，會看到一個新增的 `shape` 資料夾以及底下的幾個模組檔案。"
      ],
      "metadata": {
        "id": "kvoO-Y9Gws3P"
      }
    },
    {
      "cell_type": "code",
      "source": [
        "!wget https://raw.githubusercontent.com/AINTUT/code_2023/main/examples/shape.zip -O shape.zip && unzip -o shape.zip && rm shape.zip"
      ],
      "metadata": {
        "id": "BPU0BpScuPMj"
      },
      "execution_count": null,
      "outputs": []
    },
    {
      "cell_type": "markdown",
      "source": [
        "使用套件的方式跟模組相當類似，並且多了一種 `import 套件.模組` 的方式"
      ],
      "metadata": {
        "id": "t49X_X-_yx5F"
      }
    },
    {
      "cell_type": "code",
      "source": [
        "from shape import circle # Import circle module under shape package\n",
        "from shape.rectangle import get_area # Import get_area function under circle module\n",
        "import shape.triangle # Import triangle module under shape package\n",
        "\n",
        "print(circle.get_area(3)) # 28.274309999999996\n",
        "print(get_area(4, 3)) # 12\n",
        "print(shape.triangle.get_area(4, 3)) # 6.0"
      ],
      "metadata": {
        "id": "nQ1Xpjr4xtb9"
      },
      "execution_count": null,
      "outputs": []
    },
    {
      "cell_type": "code",
      "source": [],
      "metadata": {
        "id": "Q-dEARDxzazG"
      },
      "execution_count": null,
      "outputs": []
    },
    {
      "cell_type": "markdown",
      "source": [
        "### Python Standard Library"
      ],
      "metadata": {
        "id": "f2qAjfWCzlcg"
      }
    },
    {
      "cell_type": "markdown",
      "source": [
        "Python 內建的 library（函式庫）提供許多好用的模組或套件，例如 `random` 是一個提供產生隨機數相關函式的模組，`datetime` 是與日期、時間相關，`math` 則是與數學計算相關\n",
        "\n",
        "完整的清單，請看[這裡](https://docs.python.org/3/library/)"
      ],
      "metadata": {
        "id": "IiNCamGRznfj"
      }
    },
    {
      "cell_type": "code",
      "source": [
        "import random\n",
        "\n",
        "print(random.random()) # A floating-point between 0 (included) and 1 (excluded).\n",
        "print(random.randint(3, 10)) # An integer between 3 (included) and 10 (included)."
      ],
      "metadata": {
        "id": "HXA0EXKW0cBZ"
      },
      "execution_count": null,
      "outputs": []
    },
    {
      "cell_type": "code",
      "source": [],
      "metadata": {
        "id": "_FsK7bzB0vLb"
      },
      "execution_count": null,
      "outputs": []
    },
    {
      "cell_type": "code",
      "source": [
        "from datetime import datetime\n",
        "\n",
        "print(datetime.now()) # Current date."
      ],
      "metadata": {
        "id": "jyb2LSH90vjh"
      },
      "execution_count": null,
      "outputs": []
    },
    {
      "cell_type": "code",
      "source": [],
      "metadata": {
        "id": "W66SL4km0ypN"
      },
      "execution_count": null,
      "outputs": []
    },
    {
      "cell_type": "code",
      "source": [
        "import math\n",
        "\n",
        "print(math.ceil(3.6)) # 4 (Ceiling of 3.6)\n",
        "print(math.floor(3.6)) # 3 (Ceiling of 3.6)"
      ],
      "metadata": {
        "id": "q2EsIM4Q1KQJ"
      },
      "execution_count": null,
      "outputs": []
    },
    {
      "cell_type": "code",
      "source": [],
      "metadata": {
        "id": "lrfSBR2Q1S7t"
      },
      "execution_count": null,
      "outputs": []
    },
    {
      "cell_type": "markdown",
      "source": [
        "### Python Third-Party Library 與 pip 套件管理工具"
      ],
      "metadata": {
        "id": "Z0wGmaQC1o-Z"
      }
    },
    {
      "cell_type": "markdown",
      "source": [
        "除了 Python 內建的套件之外，也有很多由 third-party（第三方）開發的套件\n",
        "\n",
        "要下載這些套件，一種方法是透過 [PyPI](https://pypi.org/) 來尋找需要的套件，不過相關相依性問題都要自己解決，會很麻煩\n",
        "\n",
        "另一種更常見的方法，是使用 `pip` 這個套件管理工具。pip 會去下載並安裝 PyPI 上的套件，並且自動解決相關的相依性問題"
      ],
      "metadata": {
        "id": "wS0gJWiB1qRC"
      }
    },
    {
      "cell_type": "markdown",
      "source": [
        "當我們要下載某個套件時，只要輸入指令 `pip install 套件名稱` 即可，例如範例會下載名稱為 `gradio` 的套件"
      ],
      "metadata": {
        "id": "Btcjbk0Y48Y_"
      }
    },
    {
      "cell_type": "code",
      "source": [
        "!pip install gradio"
      ],
      "metadata": {
        "id": "734FEbUf5fAZ"
      },
      "execution_count": null,
      "outputs": []
    },
    {
      "cell_type": "code",
      "source": [],
      "metadata": {
        "id": "Khhp5pPv6m6g"
      },
      "execution_count": null,
      "outputs": []
    },
    {
      "cell_type": "markdown",
      "source": [
        "接下我們就可以在 Python 程式碼中使用下載的套件"
      ],
      "metadata": {
        "id": "XVrYQbh37JER"
      }
    },
    {
      "cell_type": "code",
      "source": [
        "import gradio\n",
        "\n",
        "print(gradio.__version__)"
      ],
      "metadata": {
        "id": "JMO7Io-q7dVy"
      },
      "execution_count": null,
      "outputs": []
    },
    {
      "cell_type": "markdown",
      "source": [
        "介紹一些 pip 常用的指令，例如我們可以指令特定的套件版本"
      ],
      "metadata": {
        "id": "Bb_uD24Q6nb8"
      }
    },
    {
      "cell_type": "code",
      "source": [
        "!pip install gradio==3.19.1"
      ],
      "metadata": {
        "id": "IBwBiOaB6mGK"
      },
      "execution_count": null,
      "outputs": []
    },
    {
      "cell_type": "markdown",
      "source": [
        "或是安裝該套件的最新版本"
      ],
      "metadata": {
        "id": "NrhXsEjW69sY"
      }
    },
    {
      "cell_type": "code",
      "source": [
        "!!pip install --upgrade gradio"
      ],
      "metadata": {
        "id": "Qz03vnGL7n66"
      },
      "execution_count": null,
      "outputs": []
    },
    {
      "cell_type": "markdown",
      "source": [
        "我們也可以一次下載多個套件"
      ],
      "metadata": {
        "id": "k9vfUB4Q7yha"
      }
    },
    {
      "cell_type": "code",
      "source": [
        "!pip install gradio streamlit"
      ],
      "metadata": {
        "id": "rcfDcGCs74fI"
      },
      "execution_count": null,
      "outputs": []
    },
    {
      "cell_type": "markdown",
      "source": [
        "查看某個套件的資訊"
      ],
      "metadata": {
        "id": "4tUV0-xC7wUs"
      }
    },
    {
      "cell_type": "code",
      "source": [
        "!pip show gradio"
      ],
      "metadata": {
        "id": "PwJ-3SKv6jYK"
      },
      "execution_count": null,
      "outputs": []
    },
    {
      "cell_type": "markdown",
      "source": [
        "列出所有已安裝的套件"
      ],
      "metadata": {
        "id": "aEKWGiiM8Oni"
      }
    },
    {
      "cell_type": "code",
      "source": [
        "!pip list"
      ],
      "metadata": {
        "id": "G0vCcnL25g03"
      },
      "execution_count": null,
      "outputs": []
    },
    {
      "cell_type": "markdown",
      "source": [
        "## III. numpy"
      ],
      "metadata": {
        "id": "swqwdsqDcCNR"
      }
    },
    {
      "cell_type": "markdown",
      "source": [
        "在機器學習或深度學習領域，我們常常需要處理類似（巢狀） list 的資料，並且在這些資料上做運算\n",
        "\n",
        "雖然我們可以用（巢狀） list 來達成，但效率不高而且缺乏相關運算的函式，這時候使用 numpy 是相當適當的選擇"
      ],
      "metadata": {
        "id": "8JZ5bDqkpWNu"
      }
    },
    {
      "cell_type": "markdown",
      "source": [
        "numpy 的特點\n",
        "- 主要用在資料處理\n",
        "- 可以有效率的產生並且操作多維度的陣列\n",
        "- 許多機器學習領域/深度學習的套件都是奠基在 numpy 的基礎上"
      ],
      "metadata": {
        "id": "ZRZYQoUwNSHQ"
      }
    },
    {
      "cell_type": "markdown",
      "source": [
        "### numpy 的安裝與使用"
      ],
      "metadata": {
        "id": "fhGcL-R-pt6Q"
      }
    },
    {
      "cell_type": "markdown",
      "source": [
        "numpy 的安裝相當簡單，只要使用 pip 安裝即可"
      ],
      "metadata": {
        "id": "mJXjPYUJp4-P"
      }
    },
    {
      "cell_type": "code",
      "source": [
        "!pip install numpy"
      ],
      "metadata": {
        "id": "uF1G2otip-Z4"
      },
      "execution_count": null,
      "outputs": []
    },
    {
      "cell_type": "markdown",
      "source": [
        "import 匯入的名稱是 `numpy`，而且我們通常上都會縮寫成 `np`"
      ],
      "metadata": {
        "id": "6xybq47PqDPo"
      }
    },
    {
      "cell_type": "code",
      "source": [
        "import numpy as np"
      ],
      "metadata": {
        "id": "Ee9aBFchqN8Q"
      },
      "execution_count": null,
      "outputs": []
    },
    {
      "cell_type": "markdown",
      "source": [
        "### numpy.ndarray"
      ],
      "metadata": {
        "id": "g2ND_d9tqXlF"
      }
    },
    {
      "cell_type": "markdown",
      "source": [
        "`numpy.ndarray` 為 numpy 最主要的資料型別，可以用來創建、儲存各種維度的資料：0 維、1 維、2 維、3 維、....\n",
        "\n"
      ],
      "metadata": {
        "id": "FPozxlVaqYci"
      }
    },
    {
      "cell_type": "markdown",
      "source": [
        "![image.png](data:image/png;base64,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)"
      ],
      "metadata": {
        "id": "pv6-P3aXqpOp"
      }
    },
    {
      "cell_type": "markdown",
      "source": [
        "創建 numpy.ndarray 的最直接方法，是用 `numpy.array()` 裡輸入一個 list 或 tuple\n",
        "\n",
        "如範例我們建立了 1 維的 numpy.narray\n",
        "\n",
        "vector: $\\begin{bmatrix}0 \\\\ 1 \\\\ 2 \\end{bmatrix}$"
      ],
      "metadata": {
        "id": "dEgsPjZKqvcC"
      }
    },
    {
      "cell_type": "code",
      "source": [
        "vector = np.array([0, 1, 2])\n",
        "print(vector) # [0 1 2]\n",
        "\n",
        "vector = np.array((0, 1, 2))\n",
        "print(vector) # [0 1 2]"
      ],
      "metadata": {
        "id": "uvfSldm5qhFM"
      },
      "execution_count": null,
      "outputs": []
    },
    {
      "cell_type": "code",
      "source": [],
      "metadata": {
        "id": "8avKb8StsNf6"
      },
      "execution_count": null,
      "outputs": []
    },
    {
      "cell_type": "markdown",
      "source": [
        "如果輸入的 list 或 tuple 是巢狀的話，則可以建立多維的 numpy.ndarray。下面範例建立一個形狀為 2 x 3 的 2 維 numpy.ndarray\n",
        "\n",
        "matrix: $\\begin{bmatrix}0 \\ 1 \\ 2 \\\\ 3 \\ 4 \\ 5 \\end{bmatrix}$"
      ],
      "metadata": {
        "id": "_zXYOHdkvY2H"
      }
    },
    {
      "cell_type": "code",
      "source": [
        "matrix = np.array([[0, 1, 2], [3, 4, 5]])\n",
        "print(matrix) # [[0 1 2] [3 4 5]]"
      ],
      "metadata": {
        "id": "ZwbVuIjbsP5z"
      },
      "execution_count": null,
      "outputs": []
    },
    {
      "cell_type": "code",
      "source": [],
      "metadata": {
        "id": "WHNhK64ushSj"
      },
      "execution_count": null,
      "outputs": []
    },
    {
      "cell_type": "markdown",
      "source": [
        "或是用 numpy 之下的函式來建立 numpy.ndarray，例如：\n",
        "- `numpy.zeros()`: 建立一系列的 0\n",
        "- `numpy.ones()`: 建立一系列的 1\n",
        "- `numpy.arange()`: 建立一系列的數字（類似之前學過的 `range()`，但是更有彈性）"
      ],
      "metadata": {
        "id": "mvU8ie5AstLg"
      }
    },
    {
      "cell_type": "code",
      "source": [
        "vector = np.zeros(3)\n",
        "print(vector) # [0. 0. 0.]\n",
        "\n",
        "vector = np.ones(3)\n",
        "print(vector) # [1. 1. 1.]"
      ],
      "metadata": {
        "id": "oLG1Vp-Ftl-O"
      },
      "execution_count": null,
      "outputs": []
    },
    {
      "cell_type": "code",
      "source": [],
      "metadata": {
        "id": "iIg2fo6Xttvp"
      },
      "execution_count": null,
      "outputs": []
    },
    {
      "cell_type": "code",
      "source": [
        "vector = np.arange(3)\n",
        "print(vector) # [0 1 2]"
      ],
      "metadata": {
        "id": "V4N8OGy1tfcg"
      },
      "execution_count": null,
      "outputs": []
    },
    {
      "cell_type": "code",
      "source": [],
      "metadata": {
        "id": "X4JY9L3DtlO2"
      },
      "execution_count": null,
      "outputs": []
    },
    {
      "cell_type": "code",
      "source": [
        "vector = np.arange(1, 3)\n",
        "print(vector) # [1 2]"
      ],
      "metadata": {
        "id": "2YyoJ-CnD54m"
      },
      "execution_count": null,
      "outputs": []
    },
    {
      "cell_type": "code",
      "source": [],
      "metadata": {
        "id": "pIeouiNhEDxy"
      },
      "execution_count": null,
      "outputs": []
    },
    {
      "cell_type": "code",
      "source": [
        "vector = np.arange(1, 10, 2)\n",
        "print(vector) # [1  3 5 7 9]"
      ],
      "metadata": {
        "id": "-EVPhGApES2s"
      },
      "execution_count": null,
      "outputs": []
    },
    {
      "cell_type": "code",
      "source": [],
      "metadata": {
        "id": "NwJxDfG9EYmh"
      },
      "execution_count": null,
      "outputs": []
    },
    {
      "cell_type": "code",
      "source": [
        "vector = np.arange(1, 2, 0.2)\n",
        "print(vector) # [1. 1.2 1.4 1.6 1.8]"
      ],
      "metadata": {
        "id": "9u-KxQBXEZlA"
      },
      "execution_count": null,
      "outputs": []
    },
    {
      "cell_type": "code",
      "source": [],
      "metadata": {
        "id": "wK-hFcZ1EfVX"
      },
      "execution_count": null,
      "outputs": []
    },
    {
      "cell_type": "markdown",
      "source": [
        "每個 numpy.ndarray 都有相關屬性可以查看，常用的像是：\n",
        "- `ndim`: 這個 numpy.ndarray 的維度\n",
        "- `shape`: 這個 numpy.ndarray 的形狀為何\n",
        "- `size`: 這個 numpy.ndarray 總共有幾個 element\n",
        "- `dtype`: 這個 numpy.ndarray 的資料型別\n"
      ],
      "metadata": {
        "id": "ElSJW14ct9Qe"
      }
    },
    {
      "cell_type": "code",
      "source": [
        "matrix = np.array([[0, 1, 2], [3, 4, 5]])\n",
        "\n",
        "print(matrix.ndim) # 2\n",
        "print(matrix.shape) # (2,3)\n",
        "print(matrix.size) # 6\n",
        "print(matrix.dtype) # \"int64\""
      ],
      "metadata": {
        "id": "cSsyQi-Uultm"
      },
      "execution_count": null,
      "outputs": []
    },
    {
      "cell_type": "code",
      "source": [],
      "metadata": {
        "id": "uaLgtlDduoUu"
      },
      "execution_count": null,
      "outputs": []
    },
    {
      "cell_type": "markdown",
      "source": [
        "在建立 numpy.ndarray 時，可以加入 keyword argument `dtype` 來指定資料型別，或是在建立後呼叫 `.astype()` 來轉化型別"
      ],
      "metadata": {
        "id": "04c_GZhf5VhR"
      }
    },
    {
      "cell_type": "code",
      "source": [
        "vector = np.ones(3)\n",
        "print(vector) # [1. 1. 1.]\n",
        "print(vector.dtype) # float64"
      ],
      "metadata": {
        "id": "Q_UDQ9AQ58BK"
      },
      "execution_count": null,
      "outputs": []
    },
    {
      "cell_type": "code",
      "source": [
        "vector = np.ones(3, dtype=int)\n",
        "print(vector) # [1 1 1]\n",
        "print(vector.dtype) # int64"
      ],
      "metadata": {
        "id": "4vOz9Q3A6Jc5"
      },
      "execution_count": null,
      "outputs": []
    },
    {
      "cell_type": "code",
      "source": [],
      "metadata": {
        "id": "rKzgghNY6Spe"
      },
      "execution_count": null,
      "outputs": []
    },
    {
      "cell_type": "code",
      "source": [
        "vector = np.ones(3).astype(int)\n",
        "print(vector) # [1 1 1]\n",
        "print(vector.dtype) # int64"
      ],
      "metadata": {
        "id": "4dYPVCga6Tid"
      },
      "execution_count": null,
      "outputs": []
    },
    {
      "cell_type": "code",
      "source": [],
      "metadata": {
        "id": "gvOKRjfD6WL0"
      },
      "execution_count": null,
      "outputs": []
    },
    {
      "cell_type": "code",
      "source": [
        "vector = np.ones(3).astype(bool)\n",
        "print(vector) # [True True True]\n",
        "print(vector.dtype) # bool"
      ],
      "metadata": {
        "id": "FwFMaWzg7udl"
      },
      "execution_count": null,
      "outputs": []
    },
    {
      "cell_type": "code",
      "source": [],
      "metadata": {
        "id": "SIC8dm1C78gX"
      },
      "execution_count": null,
      "outputs": []
    },
    {
      "cell_type": "markdown",
      "source": [
        "我們也可以改變 numpy.ndarray 的形狀：\n",
        "- `numpy.ndarray.reshape()`: 改變成指定的形狀\n",
        "- `numpy.ndarray.flatten()`: 改變成 1 惟的形狀"
      ],
      "metadata": {
        "id": "AHAKQUb169qC"
      }
    },
    {
      "cell_type": "code",
      "source": [
        "matrix = np.arange(6).reshape((2, 3)) # Reshape [0 1 2 3 4 5] to [[0 1 2] [3 4 5]]\n",
        "print(matrix) # [[0 1 2] [3 4, 5]]\n",
        "print(matrix.ndim) # 2\n",
        "print(matrix.shape) # (2,3)"
      ],
      "metadata": {
        "id": "oqWbp_w769qD"
      },
      "execution_count": null,
      "outputs": []
    },
    {
      "cell_type": "code",
      "source": [],
      "metadata": {
        "id": "H0z1wi3u69qD"
      },
      "execution_count": null,
      "outputs": []
    },
    {
      "cell_type": "code",
      "source": [
        "matrix = np.arange(6).reshape((2, 3))\n",
        "vector = matrix.flatten() # Flatten [[0 1 2] [3 4 5]] to [0 1 2 3 4 5]\n",
        "print(vector) # [0 1 2 3 4 5]\n",
        "print(vector.ndim) # 1\n",
        "print(vector.shape) # (6,)"
      ],
      "metadata": {
        "id": "5jCx7rP969qD"
      },
      "execution_count": null,
      "outputs": []
    },
    {
      "cell_type": "code",
      "source": [],
      "metadata": {
        "id": "4L7a9rJ969qD"
      },
      "execution_count": null,
      "outputs": []
    },
    {
      "cell_type": "markdown",
      "source": [
        "要注意一下，大部分 numpy 的操作，並不會改變原 numpy.ndarray 本身的內容，而是另外建立一份新的 numpy.ndarray"
      ],
      "metadata": {
        "id": "DQSrAALN7VvT"
      }
    },
    {
      "cell_type": "code",
      "source": [
        "vector = np.arange(6)\n",
        "print(vector.reshape((2, 3))) # [[0 1 2] [3 4 5]]\n",
        "print(vector) # [0 1 2 3 4 5] (Didn't change)"
      ],
      "metadata": {
        "id": "W1INKDD77wSV"
      },
      "execution_count": null,
      "outputs": []
    },
    {
      "cell_type": "markdown",
      "source": [
        "### 存取 numpy.ndarray 的內容"
      ],
      "metadata": {
        "id": "zDUO6PPD6wHd"
      }
    },
    {
      "cell_type": "markdown",
      "source": [
        "numpy.ndarray 提供類似 list 的操作，例如 index、slicing\n",
        "\n",
        "vector:\n",
        "$\\begin{bmatrix}0 \\\\ 1 \\\\ 2 \\end{bmatrix}$\n",
        "\n"
      ],
      "metadata": {
        "id": "v7MGGwj_wmoc"
      }
    },
    {
      "cell_type": "code",
      "source": [
        "vector = np.array([0, 1, 2])\n",
        "print(vector[0]) # 0\n",
        "print(vector[0:2]) # [0 1]"
      ],
      "metadata": {
        "id": "A6KH7rA6wzq1"
      },
      "execution_count": null,
      "outputs": []
    },
    {
      "cell_type": "code",
      "source": [],
      "metadata": {
        "id": "W-m_3OPZw9SQ"
      },
      "execution_count": null,
      "outputs": []
    },
    {
      "cell_type": "markdown",
      "source": [
        "對於多維 numpy.ndarray 的 index 或 slicing，我們會用這樣的寫法：一組中括號加上幾個逗號\n",
        "\n",
        " atrix: $\\begin{bmatrix}0 \\ 1 \\ 2 \\\\ 3 \\ 4 \\ 5 \\end{bmatrix}$"
      ],
      "metadata": {
        "id": "AsejnpZSyuB9"
      }
    },
    {
      "cell_type": "code",
      "source": [
        "matrix = np.array([[0, 1, 2], [3, 4, 5]])\n",
        "print(matrix[1, 2]) # 5\n",
        "print(matrix[1]) # [3 4, 5]\n",
        "print(matrix[1, 1:2]) # [4]\n",
        "print(matrix[:, 1:2]) # [[1] [4]]"
      ],
      "metadata": {
        "id": "D_HKIg_0zLlC"
      },
      "execution_count": null,
      "outputs": []
    },
    {
      "cell_type": "code",
      "source": [],
      "metadata": {
        "id": "hfvmyzd_2dO1"
      },
      "execution_count": null,
      "outputs": []
    },
    {
      "cell_type": "markdown",
      "source": [
        "也可以修改 element 的內容"
      ],
      "metadata": {
        "id": "JKNfC509zWoe"
      }
    },
    {
      "cell_type": "code",
      "source": [
        "vector = np.array([0, 1, 2])\n",
        "print(\"Before:\", vector) # [0 1 2]\n",
        "\n",
        "vector[2] = 3\n",
        "print(\"After:\", vector) # [0 1 3]"
      ],
      "metadata": {
        "id": "URPmU7CrzdYZ"
      },
      "execution_count": null,
      "outputs": []
    },
    {
      "cell_type": "code",
      "source": [],
      "metadata": {
        "id": "DymCmudxzyEv"
      },
      "execution_count": null,
      "outputs": []
    },
    {
      "cell_type": "code",
      "source": [
        "matrix = np.array([[0, 1, 2], [3, 4, 5]])\n",
        "print(\"Before:\")\n",
        "print(matrix)# [[0 1 2], [3 4 5]]\n",
        "\n",
        "matrix[0, 2] = 4\n",
        "print(\"After:\")\n",
        "print(matrix) # [[0 1 4], [3 4 5]]"
      ],
      "metadata": {
        "id": "6whAKCk4zzVh"
      },
      "execution_count": null,
      "outputs": []
    },
    {
      "cell_type": "code",
      "source": [],
      "metadata": {
        "id": "nDygqZzW0Ko0"
      },
      "execution_count": null,
      "outputs": []
    },
    {
      "cell_type": "markdown",
      "source": [
        "要注意的是，無法對一個 numpy.ndarray 動態的增加或刪減 element"
      ],
      "metadata": {
        "id": "inDP09u20Q2W"
      }
    },
    {
      "cell_type": "code",
      "source": [
        "lst = [0, 1, 2]\n",
        "\n",
        "del lst[0] # OK"
      ],
      "metadata": {
        "id": "j0LHs0uO0QLO"
      },
      "execution_count": null,
      "outputs": []
    },
    {
      "cell_type": "code",
      "source": [
        "vector = np.array([0, 1, 2])\n",
        "\n",
        "del vector[0] # This will cause an error."
      ],
      "metadata": {
        "id": "kMSJXxWJ0U7D"
      },
      "execution_count": null,
      "outputs": []
    },
    {
      "cell_type": "markdown",
      "source": [
        "之前學到的 list 相關函式，其中幾個在 numpy 中也有相對應的版本，例如：\n",
        "- `numpy.ndarray.max()`\n",
        "- `numpy.ndarray.min()`\n",
        "- `numpy.ndarray.sum()`\n",
        "- `numpy.ndarray.sort()` (這個**會**改變原 numpy.ndarray 的內容)"
      ],
      "metadata": {
        "id": "LN5Urtvh-nP2"
      }
    },
    {
      "cell_type": "code",
      "source": [
        "vector = np.array([80, 50, 30, 100])\n",
        "print(vector.max()) # 100\n",
        "print(vector.min()) # 50\n",
        "print(vector.sum()) # 260 (80 + 50 + 30 + 100))\n",
        "\n",
        "vector.sort()\n",
        "print(vector) # [30 50 80 100]"
      ],
      "metadata": {
        "id": "gAHHrVcZ_QTB"
      },
      "execution_count": null,
      "outputs": []
    },
    {
      "cell_type": "code",
      "source": [],
      "metadata": {
        "id": "7atqV6u6_qYU"
      },
      "execution_count": null,
      "outputs": []
    },
    {
      "cell_type": "code",
      "source": [
        "matrix = np.array([[80, 50, 10], [30, 110, 100]])\n",
        "print(matrix.max()) # 110\n",
        "print(matrix.min()) # 10\n",
        "print(matrix.sum()) # 380 (80 + 50 + 10 + 30 + 110 + 100)\n",
        "\n",
        "matrix.sort()\n",
        "print(matrix) # [[10  50  80] [30 100 110]]"
      ],
      "metadata": {
        "id": "shrdF4oB_1dE"
      },
      "execution_count": null,
      "outputs": []
    },
    {
      "cell_type": "code",
      "source": [],
      "metadata": {
        "id": "BlJaumDrAJAv"
      },
      "execution_count": null,
      "outputs": []
    },
    {
      "cell_type": "markdown",
      "source": [
        "對於多維的 numpy.ndarray，還可以加上 keyword argument `axis`，可以得到沿著某軸的計算結果"
      ],
      "metadata": {
        "id": "U8JN17WU_sYB"
      }
    },
    {
      "cell_type": "code",
      "source": [
        "matrix = np.array([[80, 50, 10], [30, 110, 100]])\n",
        "print(matrix.max(axis=0)) # [80 110 100] ([[80 30].max() [50 110].max() [10 100].max()])\n",
        "print(matrix.min(axis=1)) # [10, 30] ([[80 50 10].min() [30 110 110].min()])\n",
        "print(matrix.sum(axis=1)) # [140 240]] ([[80 50 10].sum() [30 110 110].sum()])\n",
        "\n",
        "matrix.sort(axis=0)\n",
        "print(matrix) # [[30  50  10] [80 110 100]]"
      ],
      "metadata": {
        "id": "UH43PtO-AQwy"
      },
      "execution_count": null,
      "outputs": []
    },
    {
      "cell_type": "code",
      "source": [],
      "metadata": {
        "id": "szTfPJNlDOqt"
      },
      "execution_count": null,
      "outputs": []
    },
    {
      "cell_type": "markdown",
      "source": [
        "有些功能前面加上 `arg`，會得到相對應的索引位置，而非內容本身：\n",
        "- `numpy.ndarray.argmax()`\n",
        "- `numpy.ndarray.argmin()`\n",
        "- `numpy.ndarray.argsort()` (這個**不會**改變原 numpy.ndarray 的內容)"
      ],
      "metadata": {
        "id": "IZ3uxOWKHAVz"
      }
    },
    {
      "cell_type": "code",
      "source": [
        "vector = np.array([80, 50, 30, 100])\n",
        "print(vector.argmax()) # 3 (index of 100)\n",
        "print(vector.argmin()) # 2 (index of 30)\n",
        "print(vector.argsort()) # [2 1 0 3] (indices of [30 50 80 100])"
      ],
      "metadata": {
        "id": "j3moBzrCHY5i"
      },
      "execution_count": null,
      "outputs": []
    },
    {
      "cell_type": "code",
      "source": [],
      "metadata": {
        "id": "2y0ISe4LH3qh"
      },
      "execution_count": null,
      "outputs": []
    },
    {
      "cell_type": "markdown",
      "source": [
        "numpy 也提供基本的統計功能，例如：\n",
        "- `numpy.ndarray.mean()`: 平均數\n",
        "- `numpy.ndarray.std()`: 標準差\n",
        "- `numpy.ndarray.cov()`: 變異數"
      ],
      "metadata": {
        "id": "YjmMNTwHvv1O"
      }
    },
    {
      "cell_type": "code",
      "source": [
        "vector = np.array([80, 50, 30, 100, 90, 70, 60, 100, 20, 90, 160, 10, 10, 20, 30, 90, 100])\n",
        "print(vector.mean()) # 65.29411764705883\n",
        "print(vector.std()) # 40.31021576238074\n",
        "print(vector.var()) # 1624.9134948096887"
      ],
      "metadata": {
        "id": "eO4Oj__Svjof"
      },
      "execution_count": null,
      "outputs": []
    },
    {
      "cell_type": "code",
      "source": [],
      "metadata": {
        "id": "bajVxP7Wwj_8"
      },
      "execution_count": null,
      "outputs": []
    },
    {
      "cell_type": "markdown",
      "source": [
        "### numpy 基本運算"
      ],
      "metadata": {
        "id": "D84q8q-E2Kc6"
      }
    },
    {
      "cell_type": "markdown",
      "source": [
        "numpy.ndarray 提供許多基本的數學運算，例如 `+`、`-`、`*`、`/`, `**`\n",
        "\n",
        "這些運算是 element-wise，也就是對每個 element 會獨自做運算，因此乘號 `*` 是做 element-wise product，而不是做類似矩陣相乘的運算\n",
        "\n",
        "運算基本上需要兩個形狀相同的 numpy.ndarray，但有時候即使不相同也可以得到結果（我們稱之為 Broadcasting），例如下面兩個範例中的 `numpy.ndarray + 2`"
      ],
      "metadata": {
        "id": "G79laozc8UIF"
      }
    },
    {
      "cell_type": "code",
      "source": [
        "vector_1 = np.array([0, 1, 2])\n",
        "vector_2 = np.array([3, 4, 5])\n",
        "\n",
        "print(vector_1 + vector_2) # [3 5 7]\n",
        "print(vector_1 - vector_2) # [-3 -3 -3]\n",
        "print(vector_1 * vector_2) # [0 4 10]\n",
        "print(vector_1 / vector_2) # [0. 0.25 0.4]\n",
        "print(vector_1 ** vector_2) # [ 0  1 32]\n",
        "print(vector_1 + 2) # [2 3 4]"
      ],
      "metadata": {
        "id": "oqVpyRlp9MuL"
      },
      "execution_count": null,
      "outputs": []
    },
    {
      "cell_type": "code",
      "source": [],
      "metadata": {
        "id": "PRBxoFiw9NwR"
      },
      "execution_count": null,
      "outputs": []
    },
    {
      "cell_type": "code",
      "source": [
        "matrix_1 = np.array([[0, 1, 2], [3, 4, 5]])\n",
        "matrix_2 = np.array([[2, 4, 6], [8, 10, 12]])\n",
        "\n",
        "print(matrix_1 + matrix_2) # [[2  5  8] [11 14 17]]\n",
        "print(matrix_1 - matrix_2) # [[-2 -3 -4] [-5 -6 -7]]\n",
        "print(matrix_1 * matrix_2) # [[0 4 12] [24 40 60]]\n",
        "print(matrix_1 / matrix_2) # [[0. 0.25 0.33333333] [0.375 0.4 0.41666667]]\n",
        "print(matrix_1 ** matrix_2) # [[0 1 64] [6561 1048576 244140625]]\n",
        "print(matrix_1 + 2) # [[2  3  4] [5 6 7]]"
      ],
      "metadata": {
        "id": "jSAHmDla9_dk"
      },
      "execution_count": null,
      "outputs": []
    },
    {
      "cell_type": "code",
      "source": [],
      "metadata": {
        "id": "HwqVDmjC-ISO"
      },
      "execution_count": null,
      "outputs": []
    },
    {
      "cell_type": "markdown",
      "source": [
        "之前學到的一些比較符號，例如 `==`, `!=`, `>`, `>=`, `<`, `<=` 等也都可以用"
      ],
      "metadata": {
        "id": "JzYkp3ekJA5H"
      }
    },
    {
      "cell_type": "code",
      "source": [
        "vector_1 = np.array([0, 4, 2])\n",
        "vector_2 = np.array([3, 4, 5])\n",
        "\n",
        "print(vector_1 == vector_2) # [False True False]\n",
        "print(vector_1 != vector_2) # [True False True]\n",
        "print(vector_1 > vector_2) # [False False False]\n",
        "print(vector_1 >= vector_2) # [False True False]\n",
        "print(vector_1 < vector_2) # [True False True]\n",
        "print(vector_1 <= vector_2) # [True True True]"
      ],
      "metadata": {
        "id": "58uu8YICI-eI"
      },
      "execution_count": null,
      "outputs": []
    },
    {
      "cell_type": "code",
      "source": [],
      "metadata": {
        "id": "Dcsh9zhFJ_3r"
      },
      "execution_count": null,
      "outputs": []
    },
    {
      "cell_type": "markdown",
      "source": [
        "### dot product"
      ],
      "metadata": {
        "id": "THkfMs2Z_OlO"
      }
    },
    {
      "cell_type": "markdown",
      "source": [
        "numpy 提供 `numpy.ndarray.dot()` 運算，稱之為 dot product。對於 1 維 或是 2 維的 numpy.ndarray 而言，可以想成是在做矩陣相乘"
      ],
      "metadata": {
        "id": "CDLYbUD0_Qe9"
      }
    },
    {
      "cell_type": "markdown",
      "source": [
        "這種運算常常出現在機器學習/深度學習的領域中，例如我們要做下列計算：\n",
        "\n",
        "$w_1x_1 + w_2x_2 + w_3x_3 + b$\n",
        "\n",
        "可以定義一個 weights vector $\\begin{bmatrix}w_1 \\\\ w_2 \\\\ w_3 \\end{bmatrix}$、一個 features vector $\\begin{bmatrix}x_1 \\\\ x_2 \\\\ x_3 \\end{bmatrix}$、以及 bias $b$，對 weights 跟 features 做 dot product 後再加上 bias：\n",
        "\n",
        "$\\begin{bmatrix}w_1 \\ w_2 \\ w_3 \\end{bmatrix}̇\\cdot\\begin{bmatrix}x_1 \\\\ x_2 \\\\ x_3 \\end{bmatrix} + b$\n",
        "\n"
      ],
      "metadata": {
        "id": "RVN2WkDpA-_8"
      }
    },
    {
      "cell_type": "markdown",
      "source": [
        "對兩個 vector 做 dot product，會得到一個 scalar"
      ],
      "metadata": {
        "id": "WQmx3gKRDIlI"
      }
    },
    {
      "cell_type": "markdown",
      "source": [
        "![image.png](data:image/png;base64,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)"
      ],
      "metadata": {
        "id": "XiBggmv9C-5-"
      }
    },
    {
      "cell_type": "code",
      "source": [
        "vector_1 = np.array([0, 1, 2])\n",
        "vector_2 = np.array([2, 4, 6])\n",
        "\n",
        "print(vector_1.dot(vector_2)) # 16"
      ],
      "metadata": {
        "id": "WeXiIPx2C_q-"
      },
      "execution_count": null,
      "outputs": []
    },
    {
      "cell_type": "code",
      "source": [],
      "metadata": {
        "id": "fWdyxPInDAec"
      },
      "execution_count": null,
      "outputs": []
    },
    {
      "cell_type": "markdown",
      "source": [
        "一個 matrix 做一個 vector 做 dot product，會得到一個 vector"
      ],
      "metadata": {
        "id": "eGuIvOO1DThQ"
      }
    },
    {
      "cell_type": "markdown",
      "source": [
        "![image.png](data:image/png;base64,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)"
      ],
      "metadata": {
        "id": "PGs2gUx8D-xx"
      }
    },
    {
      "cell_type": "code",
      "source": [
        "matrix = np.array([[0, 1, 2], [3, 4, 5]])\n",
        "vector = np.array([0, 1, 2])\n",
        "\n",
        "print(matrix.dot(vector)) # [5, 14]"
      ],
      "metadata": {
        "id": "WEVQKusfDWEy"
      },
      "execution_count": null,
      "outputs": []
    },
    {
      "cell_type": "code",
      "source": [],
      "metadata": {
        "id": "A6-6h4iFD1bF"
      },
      "execution_count": null,
      "outputs": []
    },
    {
      "cell_type": "markdown",
      "source": [
        "對兩個 matrix 做 dot product，會得到一個 matrix"
      ],
      "metadata": {
        "id": "BoTs47PID7_k"
      }
    },
    {
      "cell_type": "markdown",
      "source": [
        "![image.png](data:image/png;base64,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)"
      ],
      "metadata": {
        "id": "-_BkLEE6EPd7"
      }
    },
    {
      "cell_type": "code",
      "source": [
        "matrix_1 = np.array([[0, 1, 2], [3, 4, 5]])\n",
        "matrix_2 = np.array([[2, 4], [6, 8], [10, 12]])\n",
        "\n",
        "print(matrix_1.dot(matrix_2)) # [[26, 32], [80, 104]]"
      ],
      "metadata": {
        "id": "vtObf7BsEVHQ"
      },
      "execution_count": null,
      "outputs": []
    },
    {
      "cell_type": "code",
      "source": [],
      "metadata": {
        "id": "vtPOT2N5EYkG"
      },
      "execution_count": null,
      "outputs": []
    },
    {
      "cell_type": "markdown",
      "source": [
        "### numpy.函式()"
      ],
      "metadata": {
        "id": "veNSms8WDVc0"
      }
    },
    {
      "cell_type": "markdown",
      "source": [
        "上述提到的 `numpy.ndarray.方法()`或是 numpy.ndarray 的基本運算，基本上都有相對應的 `numpy.函式()`，以下範例秀出其中一小部份"
      ],
      "metadata": {
        "id": "UO_R0eJKDXIS"
      }
    },
    {
      "cell_type": "code",
      "source": [
        "vector = np.array([80, 50, 30, 100])\n",
        "\n",
        "print(vector.max()) # 100\n",
        "print(np.max(vector)) # 100"
      ],
      "metadata": {
        "id": "OcYJhcLMDzDT"
      },
      "execution_count": null,
      "outputs": []
    },
    {
      "cell_type": "code",
      "source": [],
      "metadata": {
        "id": "qYpSiA7tLUxF"
      },
      "execution_count": null,
      "outputs": []
    },
    {
      "cell_type": "code",
      "source": [
        "vector = np.array([80, 50, 30, 100])\n",
        "\n",
        "print(vector.argmax()) # 3\n",
        "print(np.argmax(vector)) # 3"
      ],
      "metadata": {
        "id": "sQyPaEN-MkPE"
      },
      "execution_count": null,
      "outputs": []
    },
    {
      "cell_type": "code",
      "source": [],
      "metadata": {
        "id": "xUANGvUfMn9u"
      },
      "execution_count": null,
      "outputs": []
    },
    {
      "cell_type": "code",
      "source": [
        "vector = np.array([80, 50, 30, 100, 90, 70, 60, 100, 20, 90, 160, 10, 10, 20, 30, 90, 100])\n",
        "print(vector.mean()) # 65.29411764705883\n",
        "print(np.mean(vector)) # 65.29411764705883"
      ],
      "metadata": {
        "id": "RPb6LK_HxfXQ"
      },
      "execution_count": null,
      "outputs": []
    },
    {
      "cell_type": "code",
      "source": [],
      "metadata": {
        "id": "7l5HAXovxh_3"
      },
      "execution_count": null,
      "outputs": []
    },
    {
      "cell_type": "code",
      "source": [
        "vector_1 = np.array([0, 1, 2])\n",
        "vector_2 = np.array([3, 4, 5])\n",
        "\n",
        "print(vector_1 + vector_2) # [3 5 7]\n",
        "print(np.add(vector_1, vector_2)) # [3 5 7]"
      ],
      "metadata": {
        "id": "ddhmlMDcL3F7"
      },
      "execution_count": null,
      "outputs": []
    },
    {
      "cell_type": "code",
      "source": [],
      "metadata": {
        "id": "m7vvP1xzMJmc"
      },
      "execution_count": null,
      "outputs": []
    },
    {
      "cell_type": "code",
      "source": [
        "vector_1 = np.array([0, 4, 2])\n",
        "vector_2 = np.array([3, 4, 5])\n",
        "\n",
        "print(vector_1 == vector_2) # [False True False]\n",
        "print(np.equal(vector_1, vector_2)) # [False True False]"
      ],
      "metadata": {
        "id": "GXxS7zPPMYnY"
      },
      "execution_count": null,
      "outputs": []
    },
    {
      "cell_type": "code",
      "source": [],
      "metadata": {
        "id": "yHY74EvSMdcP"
      },
      "execution_count": null,
      "outputs": []
    },
    {
      "cell_type": "code",
      "source": [
        "vector_1 = np.array([0, 1, 2])\n",
        "vector_2 = np.array([3, 4, 5])\n",
        "\n",
        "print(vector_1.dot(vector_2)) # 14\n",
        "print(np.dot(vector_1, vector_2)) # 14"
      ],
      "metadata": {
        "id": "K7SX5y1uMKwx"
      },
      "execution_count": null,
      "outputs": []
    },
    {
      "cell_type": "code",
      "source": [],
      "metadata": {
        "id": "ib6NGscqMVcb"
      },
      "execution_count": null,
      "outputs": []
    },
    {
      "cell_type": "markdown",
      "source": [
        "### 更深入了解 numpy"
      ],
      "metadata": {
        "id": "vgsKyIN5EnmM"
      }
    },
    {
      "cell_type": "markdown",
      "source": [
        "numpy 的功能眾多，課堂上僅能很有限的列出一小部份。如果想要更深入了解，很推薦同學找時間閱讀這兩份教學：\n",
        "- [NumPy: the absolute basics for beginner](https://numpy.org/devdocs/user/absolute_beginners.html)\n",
        "- [NumPy quickstart](https://numpy.org/devdocs/user/quickstart.html)\n",
        "\n",
        "當要尋找或查閱 numpy 功能時，也可以使用官方說明文件：\n",
        "- [NumPy Documentation](https://numpy.org/doc/)"
      ],
      "metadata": {
        "id": "0zCkBZxsExZe"
      }
    },
    {
      "cell_type": "markdown",
      "source": [
        "## IV. matplotlib"
      ],
      "metadata": {
        "id": "__ssm7WCcFqh"
      }
    },
    {
      "cell_type": "markdown",
      "source": [
        "在任何資料處理與分析的過程中，我們常常需要透過視覺化的方式來了解資料的狀況，matplotlib 提供許多基本好用的功能"
      ],
      "metadata": {
        "id": "Km_blvmONCaE"
      }
    },
    {
      "cell_type": "markdown",
      "source": [
        "![image.png](data:image/png;base64,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)\n",
        "\n",
        "（[圖片來源](https://ml-cheatsheet.readthedocs.io/en/latest/logistic_regression.html)）"
      ],
      "metadata": {
        "id": "jZ-vTU2CipGF"
      }
    },
    {
      "cell_type": "markdown",
      "source": [
        "### matplotlib 的安裝與使用"
      ],
      "metadata": {
        "id": "gmoshx-_JS-G"
      }
    },
    {
      "cell_type": "markdown",
      "source": [
        "matplotlib 只要使用 pip 安裝即可"
      ],
      "metadata": {
        "id": "QpRvOu9uJVka"
      }
    },
    {
      "cell_type": "code",
      "source": [
        "!pip install matplotlib"
      ],
      "metadata": {
        "id": "3tiQDVu7Jm5-"
      },
      "execution_count": null,
      "outputs": []
    },
    {
      "cell_type": "markdown",
      "source": [
        "matplotlib 最常使用的是它底下的 `pyplot` 模組，通成會簡寫成 `plt`"
      ],
      "metadata": {
        "id": "UAu169RjJ_KV"
      }
    },
    {
      "cell_type": "code",
      "source": [
        "import matplotlib.pyplot as plt"
      ],
      "metadata": {
        "id": "EaUaQBJ2Z4LE"
      },
      "execution_count": null,
      "outputs": []
    },
    {
      "cell_type": "markdown",
      "source": [
        "### matplotlib 基本功能"
      ],
      "metadata": {
        "id": "ZI3c9Yh6KS_0"
      }
    },
    {
      "cell_type": "markdown",
      "source": [
        "最基本的功能，可以用來畫各種類型的圖表，例如：折線圖、長條圖、散佈圖 ... 等"
      ],
      "metadata": {
        "id": "QJX-kV0KKUzl"
      }
    },
    {
      "cell_type": "markdown",
      "source": [
        "像是折線圖，可以使用 `pyplot.plot()`，其中：\n",
        "- y 軸的資料必須要提供\n",
        "- x 軸的資料可以不給，預設為 0, 1, 2, 3, ..."
      ],
      "metadata": {
        "id": "C8P0YtwyKYOs"
      }
    },
    {
      "cell_type": "code",
      "source": [
        "plt.plot([1, 2, 3, 4])\n",
        "plt.show()"
      ],
      "metadata": {
        "id": "cDBICSxMKmGR"
      },
      "execution_count": null,
      "outputs": []
    },
    {
      "cell_type": "code",
      "source": [],
      "metadata": {
        "id": "qZyUbDaoL_xi"
      },
      "execution_count": null,
      "outputs": []
    },
    {
      "cell_type": "code",
      "source": [
        "plt.plot([1, 2, 3, 4], [1, 2, 3, 4])\n",
        "plt.show()"
      ],
      "metadata": {
        "id": "BMrfPo3lMQ0h"
      },
      "execution_count": null,
      "outputs": []
    },
    {
      "cell_type": "code",
      "source": [],
      "metadata": {
        "id": "1uafCNHZMRdE"
      },
      "execution_count": null,
      "outputs": []
    },
    {
      "cell_type": "markdown",
      "source": [
        "除了 list 之外，也可以用 numpy.ndarray 當作資料輸入"
      ],
      "metadata": {
        "id": "wOyGjD0jMZni"
      }
    },
    {
      "cell_type": "code",
      "source": [
        "import numpy as np\n",
        "\n",
        "numbers_x = np.arange(1, 5) # [1 2 3 4]\n",
        "numbers_y = np.arange(1, 5) # [1 2 3 4]\n",
        "\n",
        "plt.plot(numbers_x, numbers_y)\n",
        "plt.show()"
      ],
      "metadata": {
        "id": "eNUIEffSMeAs"
      },
      "execution_count": null,
      "outputs": []
    },
    {
      "cell_type": "code",
      "source": [],
      "metadata": {
        "id": "08NPkAE6MjdW"
      },
      "execution_count": null,
      "outputs": []
    },
    {
      "cell_type": "code",
      "source": [
        "numbers_x = np.arange(0, 10) # [0 1 2 3 4 5 6 7 8 9]\n",
        "numbers_y = numbers_x ** 2 # [0 1 4 9 16 25 36 49 64 81]\n",
        "\n",
        "plt.plot(numbers_x, numbers_y)\n",
        "plt.show()"
      ],
      "metadata": {
        "id": "E7cRM2RSM30D"
      },
      "execution_count": null,
      "outputs": []
    },
    {
      "cell_type": "code",
      "source": [],
      "metadata": {
        "id": "3mHg-33iNGY-"
      },
      "execution_count": null,
      "outputs": []
    },
    {
      "cell_type": "code",
      "source": [
        "numbers_x = np.arange(0, np.pi * 2, 0.1) # [0. 0.1 0.2 ... 6.1 6.2]\n",
        "numbers_y = np.sin(numbers_x) # [sin(0.) sin(0.1) sin(0.2) ... sin(6.1) sin(6.2)]\n",
        "\n",
        "plt.plot(numbers_x, numbers_y)\n",
        "plt.show()"
      ],
      "metadata": {
        "id": "5g4UHyFbOCT2"
      },
      "execution_count": null,
      "outputs": []
    },
    {
      "cell_type": "code",
      "source": [],
      "metadata": {
        "id": "7U_mj-4hOZNh"
      },
      "execution_count": null,
      "outputs": []
    },
    {
      "cell_type": "markdown",
      "source": [
        "matplotlib 提供不同的 style（風格）、客製化選項"
      ],
      "metadata": {
        "id": "YeWTxUlKNblp"
      }
    },
    {
      "cell_type": "code",
      "source": [
        "plt.plot([1, 2, 3, 4], [1, 2, 3, 4], \"ro\") # \"ro\": red dot\n",
        "plt.xlabel(\"axis-x\") # Set label name of x-axis\n",
        "plt.ylabel(\"axis-y\") # Set label name of y-axis\n",
        "plt.title(\"You Cool Title\") # Set title\n",
        "plt.axis([0, 5, 0, 5]) # Specify the viewport of the axes. The format is [xmin, xmax, ymin, ymax]\n",
        "plt.show()"
      ],
      "metadata": {
        "id": "0ztB_w4rNeGm"
      },
      "execution_count": null,
      "outputs": []
    },
    {
      "cell_type": "code",
      "source": [],
      "metadata": {
        "id": "5ejlbq1DNlmp"
      },
      "execution_count": null,
      "outputs": []
    },
    {
      "cell_type": "code",
      "source": [
        "numbers_x = [1, 2, 3, 4]\n",
        "numbers_y = [1, 2, 3, 4]\n",
        "\n",
        "plt.plot(numbers_x, numbers_y, \"purple\") # purple line\n",
        "plt.plot(numbers_x, numbers_y, \"bo\") # blue dot\n",
        "plt.show()"
      ],
      "metadata": {
        "id": "sQgEQqpXtD96"
      },
      "execution_count": null,
      "outputs": []
    },
    {
      "cell_type": "code",
      "source": [],
      "metadata": {
        "id": "ZA7gC0bqtiXq"
      },
      "execution_count": null,
      "outputs": []
    },
    {
      "cell_type": "markdown",
      "source": [
        "如果要繪製長條圖，可以使用 `pyplot.bar()`"
      ],
      "metadata": {
        "id": "f_kdrMCENyqR"
      }
    },
    {
      "cell_type": "code",
      "source": [
        "stores = [\"7-11\", \"family mart\", \"hi-life\", \"OK\"]\n",
        "sales = [9, 4, 8, 7]\n",
        "\n",
        "plt.bar(stores, sales)\n",
        "plt.show()"
      ],
      "metadata": {
        "id": "QcKy4o1cN20I"
      },
      "execution_count": null,
      "outputs": []
    },
    {
      "cell_type": "code",
      "source": [],
      "metadata": {
        "id": "YwdO-pp8N4rO"
      },
      "execution_count": null,
      "outputs": []
    },
    {
      "cell_type": "markdown",
      "source": [
        "如果要繪製散佈圖，可以使用 `pyplot.scatter()`"
      ],
      "metadata": {
        "id": "JpIhx-34OidI"
      }
    },
    {
      "cell_type": "code",
      "source": [
        "heights = [182, 166, 166, 185, 179, 173, 180, 184, 170, 168]\n",
        "weights = [72, 88, 68, 86, 60, 58, 74, 71, 77, 60]\n",
        "\n",
        "plt.scatter(heights, weights)\n",
        "plt.show()"
      ],
      "metadata": {
        "id": "4oKXT3QIN9Lm"
      },
      "execution_count": null,
      "outputs": []
    },
    {
      "cell_type": "code",
      "source": [],
      "metadata": {
        "id": "i1IUaQrdOddN"
      },
      "execution_count": null,
      "outputs": []
    },
    {
      "cell_type": "code",
      "source": [
        "male_heights = [182, 166, 166, 185, 179, 173, 180, 184, 170, 168]\n",
        "male_weights = [72, 88, 68, 86, 60, 58, 74, 71, 77, 60]\n",
        "\n",
        "female_heights = [150, 159, 158, 168, 175, 150, 168, 153, 165, 151]\n",
        "female_weights = [59, 42, 49, 43, 49, 43, 70, 56, 57, 62]\n",
        "\n",
        "plt.scatter(male_heights, male_weights, c=\"red\", label=\"male\") # red color point, \"male\" label\n",
        "plt.scatter(female_heights, female_weights, c=\"green\", label=\"female\") # green color point, \"female\" label\n",
        "plt.legend() # Show legend\n",
        "plt.show()"
      ],
      "metadata": {
        "id": "maHF3KYRPA0E"
      },
      "execution_count": null,
      "outputs": []
    },
    {
      "cell_type": "code",
      "source": [],
      "metadata": {
        "id": "UrLxmWwtPCFQ"
      },
      "execution_count": null,
      "outputs": []
    },
    {
      "cell_type": "markdown",
      "source": [
        "如果要繪製直方圖（histogram），可以使用 `pyplot.hist()`"
      ],
      "metadata": {
        "id": "GpUXyEuVR2io"
      }
    },
    {
      "cell_type": "code",
      "source": [
        "numbers = np.array([1, 1, 1, 2, 2, 2, 2, 3, 4, 4, 4, 4, 4, 4])\n",
        "\n",
        "plt.hist(numbers)\n",
        "plt.show()"
      ],
      "metadata": {
        "id": "Ey5AT_vVSNSz"
      },
      "execution_count": null,
      "outputs": []
    },
    {
      "cell_type": "code",
      "source": [],
      "metadata": {
        "id": "WZpHeFRHSoKw"
      },
      "execution_count": null,
      "outputs": []
    },
    {
      "cell_type": "code",
      "source": [
        "numbers = np.random.randn(10000) # Sample 10,000 numbers from normal distribution\n",
        "\n",
        "plt.hist(numbers, bins=100)\n",
        "plt.show()"
      ],
      "metadata": {
        "id": "tpB-0R84SpTk"
      },
      "execution_count": null,
      "outputs": []
    },
    {
      "cell_type": "code",
      "source": [],
      "metadata": {
        "id": "lMeGmuaETDcJ"
      },
      "execution_count": null,
      "outputs": []
    },
    {
      "cell_type": "markdown",
      "source": [
        "如果要在圖上同時繪製好幾個圖表在同份，可以使用 `plt.subplot()` 的功能\n",
        "\n",
        "範例的 `211`，前兩個數字（`21`）代表要分割成 2 個 row 1 個 column，第三個數字（`1`）則代表分割後的第 1 個子區域"
      ],
      "metadata": {
        "id": "jY8zAdJTWfXP"
      }
    },
    {
      "cell_type": "code",
      "source": [
        "numbers = np.arange(0, np.pi * 4, 0.1)\n",
        "\n",
        "plt.figure(figsize=(10, 10)) # Create a new figure (container) whose size is 10 x 10\n",
        "\n",
        "plt.subplot(211)\n",
        "plt.plot(numbers, np.sin(numbers), c=\"blue\")\n",
        "plt.title(\"Sine\")\n",
        "\n",
        "plt.subplot(212)\n",
        "plt.plot(numbers, np.cos(numbers), c=\"red\")\n",
        "plt.title(\"Cosine\")\n",
        "\n",
        "plt.show()"
      ],
      "metadata": {
        "id": "G3EXUe80Wf_d"
      },
      "execution_count": null,
      "outputs": []
    },
    {
      "cell_type": "code",
      "source": [],
      "metadata": {
        "id": "ZyZbVWDIZV_r"
      },
      "execution_count": null,
      "outputs": []
    },
    {
      "cell_type": "markdown",
      "source": [
        "### 操作 matplotlib 的兩種方法\n",
        "\n",
        "上述提到的操作方法，在 matplotlib 稱為 implicit \"pyplot\" interface，也就是一切都透過 `pyplot.函式()` 來操作，相對比較簡單，在需求不複雜的情況下可能就夠用了\n",
        "\n",
        "另一種更有彈性、能解決複雜需求的操作方法稱為 explicit \"Axes\" interface，透過操作型別為 `Axes` 的物件來達成需求。有興趣的同學也可以自己學學看。\n",
        "\n",
        "關於這兩種操作方法的詳細差別，請參考 [Matplotlib Application Interfaces (APIs)](https://matplotlib.org/stable/users/explain/api_interfaces.html#api-interfaces)"
      ],
      "metadata": {
        "id": "3bqyS8imU6Nu"
      }
    },
    {
      "cell_type": "code",
      "source": [
        " # implicit \"pyplot\" interface\n",
        "plt.plot([1, 2, 3, 4], [1, 2, 3, 4])\n",
        "plt.show()"
      ],
      "metadata": {
        "id": "CK_8-NlQdQ3l"
      },
      "execution_count": null,
      "outputs": []
    },
    {
      "cell_type": "code",
      "source": [
        "# explicit \"Axes\" interface\n",
        "fig, ax = plt.subplots()\n",
        "ax.plot([1, 2, 3, 4], [1, 2, 3, 4])\n",
        "fig.show()"
      ],
      "metadata": {
        "id": "XwyXrbWudafx"
      },
      "execution_count": null,
      "outputs": []
    },
    {
      "cell_type": "markdown",
      "source": [
        "### 更深入了解 matplotlib"
      ],
      "metadata": {
        "id": "ld8z4zRPd7Fm"
      }
    },
    {
      "cell_type": "markdown",
      "source": [
        "matplotlib 提供的功能相當完整複雜，目前了解到此即可。之後如果有遇到任何需求，邊做邊查詢就好。\n",
        "\n",
        "如果你很想要了解再多一點，推薦這兩份教學：\n",
        "- [Pyplot tutorial](https://matplotlib.org/stable/tutorials/introductory/pyplot.html)\n",
        "- [Quick start guide](https://matplotlib.org/stable/tutorials/introductory/quick_start.html)"
      ],
      "metadata": {
        "id": "ifEmTHR_d9WP"
      }
    },
    {
      "cell_type": "markdown",
      "source": [
        "### seaborn"
      ],
      "metadata": {
        "id": "7g6xQ7Q6fK7Z"
      }
    },
    {
      "cell_type": "markdown",
      "source": [
        "seaborn 是一個基於 matplotlib 的資料視覺化套件，可以比 matplotlib 更輕鬆地繪製出專業的圖表，通常會搭配下次會提到的 pandas 一起使用。\n",
        "\n",
        "這裡僅秀出一個簡單範例，想了解更多的同學請參考[官方文件](https://seaborn.pydata.org/)"
      ],
      "metadata": {
        "id": "ZjUn3YW8fPR8"
      }
    },
    {
      "cell_type": "code",
      "source": [
        "!pip install seaborn"
      ],
      "metadata": {
        "id": "W1KgJTKIgIvO"
      },
      "execution_count": null,
      "outputs": []
    },
    {
      "cell_type": "code",
      "source": [
        "import seaborn as sns\n",
        "\n",
        "# Apply the default theme.\n",
        "sns.set_theme()\n",
        "\n",
        "# Load an example dataset.\n",
        "tips = sns.load_dataset(\"tips\")\n",
        "\n",
        "# Create a visualization.\n",
        "sns.relplot(\n",
        "    data=tips,\n",
        "    x=\"total_bill\",\n",
        "    y=\"tip\",\n",
        "    col=\"time\",\n",
        "    hue=\"smoker\",\n",
        "    style=\"smoker\",\n",
        "    size=\"size\",\n",
        ")\n",
        "\n",
        "# Show the result.\n",
        "plt.show()\n",
        "\n",
        "# Reset to defaults (such as the theme).\n",
        "sns.reset_defaults()"
      ],
      "metadata": {
        "id": "AAYILGgYfOtX"
      },
      "execution_count": null,
      "outputs": []
    },
    {
      "cell_type": "markdown",
      "source": [
        "## V. 應用練習題"
      ],
      "metadata": {
        "id": "XgiTTctxb5la"
      }
    },
    {
      "cell_type": "markdown",
      "source": [
        "### 練習題（一）：句子計數器"
      ],
      "metadata": {
        "id": "fp8_9E_mc2C4"
      }
    },
    {
      "cell_type": "markdown",
      "source": [
        "我們想要幫一個句子根據條件計算長度。請分完成以下兩個函式：\n",
        "1. `count_alphabet()`：計算輸入的句子（`sentence`）總共有幾個英文字母\n",
        "2. `count_sentence()`：除了計算輸入的句子（`sentence`）有幾個英文字母之外，也可能根據需求（`include_digit` 是否為 True）再加上有幾個數字\n",
        "\n",
        "[提示 1] 目前兩個函式都實做到一半，執行會出錯，請試著修改至不會出錯，並且能讓結果是對的\n",
        "\n",
        "[提示 2] 你可能需要了解以下函式的基本概念：\n",
        "- return\n",
        "- parameter 與 argument"
      ],
      "metadata": {
        "id": "74pRVSb-c_Hx"
      }
    },
    {
      "cell_type": "code",
      "source": [
        "#@title 1. `count_alphabet()`：計算某個輸入的句子（`sentence`）總共有幾個英文字母\n",
        "def count_alphabet(): # PLEASE MODIFY\n",
        "    num_alphabet = len([ch for ch in sentence if ch.isalpha()])\n",
        "\n",
        "    return # PLEASE MODIFY\n",
        "\n",
        "sentence = \"Sometimes there (are) 30 minutes of silence, but then the city is again under attack (from) tanks.\"\n",
        "num_alphabet = count_alphabet(sentence)\n",
        "\n",
        "print(\"Number of alphabet =\", num_alphabet) # Expected output: 74"
      ],
      "metadata": {
        "id": "GnQE8c4QdgpE"
      },
      "execution_count": null,
      "outputs": []
    },
    {
      "cell_type": "code",
      "source": [
        "#@title 參考解答\n",
        "def count_alphabet(sentence): # PLEASE MODIFY\n",
        "    num_alphabet = len([ch for ch in sentence if ch.isalpha()])\n",
        "\n",
        "    return num_alphabet # PLEASE MODIFY\n",
        "\n",
        "sentence = \"Sometimes there (are) 30 minutes of silence, but then the city is again under attack (from) tanks.\"\n",
        "num_alphabet = count_alphabet(sentence)\n",
        "\n",
        "print(\"Number of alphabet =\", num_alphabet) # Expected output: 74"
      ],
      "metadata": {
        "cellView": "form",
        "id": "YN0h8D7FdpbN"
      },
      "execution_count": null,
      "outputs": []
    },
    {
      "cell_type": "code",
      "source": [
        "#@title 2. `count_sentence()`：除了計算輸入的句子（`sentence`）有幾個英文字母之外，也可能根據需求（`include_digit` 是否為 True）再加上有幾個數字\n",
        "def count_sentence(): # PLEASE MODIFY\n",
        "    num_alphabet = count_alphabet(sentence)\n",
        "\n",
        "    if include_digit:\n",
        "        num_digit = len([ch for ch in sentence if ch.isdigit()])\n",
        "        result = num_alphabet + num_digit\n",
        "    else:\n",
        "        result = num_alphabet\n",
        "\n",
        "    return # PLEASE MODIFY\n",
        "\n",
        "sentence = \"Sometimes there (are) 30 minutes of silence, but then the city is again under attack (from) tanks.\"\n",
        "num_alphabet = count_sentence(sentence)\n",
        "num_alphabet_digit = count_sentence(sentence, include_digit=True)\n",
        "\n",
        "print(\"Number of alphabet =\", num_alphabet) # Expected output: 74\n",
        "print(\"Number of alphabet and digit =\", num_alphabet_digit) # Expected output: 76"
      ],
      "metadata": {
        "id": "ahj1mneId8VV"
      },
      "execution_count": null,
      "outputs": []
    },
    {
      "cell_type": "code",
      "source": [
        "#@title 參考解答\n",
        "def count_sentence(sentence, include_digit=False): # PLEASE MODIFY\n",
        "    num_alphabet = count_alphabet(sentence)\n",
        "\n",
        "    if include_digit:\n",
        "        num_digit = len([ch for ch in sentence if ch.isdigit()])\n",
        "        result = num_alphabet + num_digit\n",
        "    else:\n",
        "        result = num_alphabet\n",
        "\n",
        "    return result # PLEASE MODIFY\n",
        "\n",
        "sentence = \"Sometimes there (are) 30 minutes of silence, but then the city is again under attack (from) tanks.\"\n",
        "num_alphabet = count_sentence(sentence)\n",
        "num_alphabet_digit = count_sentence(sentence, include_digit=True)\n",
        "\n",
        "print(\"Number of alphabet =\", num_alphabet) # Expected output: 74\n",
        "print(\"Number of alphabet and digit =\", num_alphabet_digit) # Expected output: 76"
      ],
      "metadata": {
        "cellView": "form",
        "id": "sW1KR3EMe0Vm"
      },
      "execution_count": null,
      "outputs": []
    },
    {
      "cell_type": "markdown",
      "source": [
        "### 練習題（二）：一元二次方程式求解"
      ],
      "metadata": {
        "id": "1oqspU_9dBmQ"
      }
    },
    {
      "cell_type": "markdown",
      "source": [
        "某個聰明的國中生在學會一元二次方程式的公式解後，便試著自己帶入各種的數字來手動計算。然後在確認答案時，需要一直按計算機實在太慢了。因此希望能請你幫忙用 Python 寫一個名為 `get_answer()` 的 函式，並且得到以下的答案：\n",
        "1. $a = 1, b = 4, c = 0$ 的答案\n",
        "2. $a = 2, b = 3, c = -9$ 的答案\n",
        "3. $a = 3, b = -4, c = -7$ 的答案\n",
        "4. $a = 3, b = -4, c = -7$ 的答案，並且將答案的小數點捨棄\n",
        "\n",
        "一元二次方程式的公式解如下：\n",
        "\n",
        "已知 $ax^2 + bx + c = 0 (a ≠ 0)$，則 $ x = (\\frac{-b + \\sqrt{b^2 - 4ac}}{2a}, \\frac{-b - \\sqrt{b^2 - 4ac}}{2a})$\n",
        "\n",
        "[提示] 你可能需要了解以下知識：\n",
        "- 基本的數值運算\n",
        "- 型別轉換，運用 `int()` 將 floating point 轉成 integer\n",
        "- 用 ** 符號做次方的運算（例如：`3 ** 2` 代表 3 的平方，`3 ** 0.5` 代表 3 的開根號）\n",
        "- 函式的基本概念，包含 parameter, argument 與 return 等\n",
        "- 了解 function 的 positional argument 跟 keyword argument 的差別"
      ],
      "metadata": {
        "id": "W0khrIaAdBmR"
      }
    },
    {
      "cell_type": "code",
      "source": [
        "# Define a function to calculate the answer for ax^2 + bx + c = 0.\n",
        "def get_answer(coeff_a, coeff_b, coeff_c, to_int=False):\n",
        "    if coeff_a == 0:\n",
        "        raise ValueError(\"Coefficient `a` must not be zero!\") \n",
        "\n",
        "    # PLEASE MODIFY CODE BELOW.\n",
        "    answer = (0.0, 0.0)\n",
        "\n",
        "    return answer"
      ],
      "metadata": {
        "id": "WKlHqiPfgRa0"
      },
      "execution_count": null,
      "outputs": []
    },
    {
      "cell_type": "code",
      "source": [
        "#@title 參考解答\n",
        "\n",
        "# Define a function to calculate the answer for ax^2 + bx + c = 0.\n",
        "def get_answer(coeff_a, coeff_b, coeff_c, to_int=False):\n",
        "    if coeff_a == 0:\n",
        "        raise ValueError(\"Coefficient `a` must not be zero!\") \n",
        "\n",
        "    # PLEASE MODIFY CODE BELOW.\n",
        "    root_part = (coeff_b ** 2 - 4 * coeff_a * coeff_c) ** 0.5\n",
        "    pos = (-coeff_b + root_part) / (2 * coeff_a)\n",
        "    neg = (-coeff_b - root_part) / (2 * coeff_a)\n",
        "    \n",
        "    if not to_int:\n",
        "        answer = (pos, neg)\n",
        "    else:\n",
        "        answer = (int(pos), int(neg))\n",
        "\n",
        "    return answer"
      ],
      "metadata": {
        "cellView": "form",
        "id": "A-5Ce8obgi21"
      },
      "execution_count": null,
      "outputs": []
    },
    {
      "cell_type": "code",
      "source": [
        "answer_140 = get_answer(1, 4, 0)\n",
        "print(\"When a = 1, b = 4, c = -0, Answer =\", answer_140) # Expected output: (0.0, -4.0)"
      ],
      "metadata": {
        "id": "Et-A_sldgVeB"
      },
      "execution_count": null,
      "outputs": []
    },
    {
      "cell_type": "code",
      "source": [
        "answer_23m9 = get_answer(2, 3, -9)\n",
        "print(\"When a = 2, b = 3, c = -9, Answer =\", answer_23m9) # Expected output: (1.5, -3.0)"
      ],
      "metadata": {
        "id": "nKjxx8Yfgb8d"
      },
      "execution_count": null,
      "outputs": []
    },
    {
      "cell_type": "code",
      "source": [
        "answer_3m4m7 = get_answer(3, -4, -7)\n",
        "print(\"When a = 3, b = -4, c = -7, Answer =\", answer_3m4m7) # Expected output: (2.3333333333333335, -1.0)"
      ],
      "metadata": {
        "id": "evXv06XTgfYM"
      },
      "execution_count": null,
      "outputs": []
    },
    {
      "cell_type": "code",
      "source": [
        "answer_3m4m7_int = get_answer(3, -4, -7, to_int=True)\n",
        "print(\"When a = 3, b = -4, c = -7, Answer (Approximate Version) =\", answer_3m4m7_int) # Expected output: (2, -1)"
      ],
      "metadata": {
        "id": "iHC9uDElggeB"
      },
      "execution_count": null,
      "outputs": []
    },
    {
      "cell_type": "markdown",
      "source": [
        "### 練習題（三）：時間管理大師"
      ],
      "metadata": {
        "id": "AXoILMLudCCm"
      }
    },
    {
      "cell_type": "markdown",
      "source": [
        "做事很有原則的小株，從小目標成為時間管理大師。她每次做事情時，都會紀錄事情開始與完成的時間，並且要求自己每件事情都能在 9487 秒（含）內完成。這是她在 2023 年 3 月 8 日所完成的事情以及時間：\n",
        "- 幫媽媽跑腿買醬油：早上 10 點 32 分 56 秒 到 下午 1 點 8 分 23 秒\n",
        "- 出門健身：下午 2 點 37 分 44 秒 到 下午 5 點 50 分 50 秒\n",
        "\n",
        "請你幫忙實做兩個 function：`get_elapsed()` 與 `is_safe()`，並且求出以下答案：\n",
        "1. 幫媽媽跑腿買醬油總共花了多少秒？\n",
        "2. 幫媽媽跑腿買醬油是否有符合小於等於 9487 秒的要求？\n",
        "3. 出門健身共花了多少秒？\n",
        "4. 出門健身是否有符合小於等於 9487 秒的要求？\n",
        "\n",
        "[提示] 你可能需要了解以下知識：\n",
        "- import 的基本觀念\n",
        "- 學會看 Python Standard Library 的文件\n",
        "- 兩個 [datetime.datetime](https://docs.python.org/3/library/datetime.html#datetime.datetime) 物件之間可以做運算，例如兩個 `datetime.datetime` 物件相減，會產生 [datetime.timedelta](https://docs.python.org/3/library/datetime.html#datetime.timedelta) 物件 \n",
        "- [datetime.timedelta](https://docs.python.org/3/library/datetime.html#datetime.timedelta) 物件可以藉由 [total_seconds()](https://docs.python.org/3/library/datetime.html#datetime.timedelta.total_seconds) 這個方法來計算總共過了幾秒（但請注意我們要的是整數，不需要小數位喔）"
      ],
      "metadata": {
        "id": "TKsdlL_-dCCn"
      }
    },
    {
      "cell_type": "code",
      "metadata": {
        "id": "uvZQG-pxTNnm"
      },
      "source": [
        "from datetime import datetime"
      ],
      "execution_count": null,
      "outputs": []
    },
    {
      "cell_type": "code",
      "metadata": {
        "id": "iSXk1efSUKUo"
      },
      "source": [
        "# Calculate the elapsed time from a date to another date.\n",
        "def get_elapsed(date_from, date_to):\n",
        "    if date_from > date_to:\n",
        "        raise ValueError(\"`date_from` must be less or equal to `date_to`!\")\n",
        "\n",
        "    # PLEASE MODIFY CODE BELOW.\n",
        "    elapsed = 0\n",
        "\n",
        "    return elapsed"
      ],
      "execution_count": null,
      "outputs": []
    },
    {
      "cell_type": "code",
      "source": [
        "#@title 參考解答\n",
        "def get_elapsed(date_from, date_to):\n",
        "    if date_from > date_to:\n",
        "        raise ValueError(\"Date from must be <= date to!\")\n",
        "\n",
        "    # PLEASE MODIFY CODE BELOW.\n",
        "    elapsed = int((date_to - date_from).total_seconds())\n",
        "\n",
        "    return elapsed"
      ],
      "metadata": {
        "cellView": "form",
        "id": "U-Az_E23_iV6"
      },
      "execution_count": null,
      "outputs": []
    },
    {
      "cell_type": "code",
      "metadata": {
        "id": "sb2j4g0GbIIT"
      },
      "source": [
        "def is_safe(elapsed, limit=9487):\n",
        "    return False # PLEASE MODIFY."
      ],
      "execution_count": null,
      "outputs": []
    },
    {
      "cell_type": "code",
      "source": [
        "#@title 參考解答\n",
        "def is_safe(elapsed, limit=9487):\n",
        "    return elapsed <= limit # PLEASE MODIFY."
      ],
      "metadata": {
        "cellView": "form",
        "id": "PIy2IW5n_2VZ"
      },
      "execution_count": null,
      "outputs": []
    },
    {
      "cell_type": "code",
      "source": [
        "shopping_start = datetime(2023, 3, 8, hour=10, minute=32, second=56)\n",
        "shopping_end = datetime(2023, 3, 8, hour=13, minute=8, second=23)"
      ],
      "metadata": {
        "id": "Qc14UCGEa7FV"
      },
      "execution_count": null,
      "outputs": []
    },
    {
      "cell_type": "code",
      "metadata": {
        "id": "Yzd1CYxvblwV"
      },
      "source": [
        "workout_start = datetime(2023, 3, 8, hour=14, minute=37, second=44)\n",
        "workout_end = datetime(2023, 3, 8, hour=17, minute=50, second=50)"
      ],
      "execution_count": null,
      "outputs": []
    },
    {
      "cell_type": "code",
      "source": [
        "#@title 1. 幫媽媽跑腿買醬油總共花了多少秒？\n",
        "shopping_elapsed = get_elapsed(shopping_start, shopping_end)\n",
        "print(\"Shopping Time =\", shopping_elapsed) # Expected output: 9327"
      ],
      "metadata": {
        "id": "OVhZUPe9a9Ob"
      },
      "execution_count": null,
      "outputs": []
    },
    {
      "cell_type": "code",
      "source": [
        "#@title 2. 幫媽媽跑腿買醬油是否有符合小於等於 9487 秒的要求？\n",
        "shopping_safe = is_safe(shopping_elapsed)\n",
        "print(\"Is Shopping Safe ?\", shopping_safe) # Expected output: True"
      ],
      "metadata": {
        "id": "52wr4cyRbZu0"
      },
      "execution_count": null,
      "outputs": []
    },
    {
      "cell_type": "code",
      "metadata": {
        "id": "l5Cbq5VFTbnK"
      },
      "source": [
        "#@title 3. 出門健身共花了多少秒？\n",
        "workout_elapsed = get_elapsed(workout_start, workout_end)\n",
        "print(\"Workout Time =\", workout_elapsed) # Expected output: 11586"
      ],
      "execution_count": null,
      "outputs": []
    },
    {
      "cell_type": "code",
      "source": [
        "#@title 4. 出門健身是否有符合小於等於 9487 秒的要求？\n",
        "workout_safe = is_safe(workout_elapsed)\n",
        "print(\"Is Workout Safe ?\", workout_safe) # Expected output: False"
      ],
      "metadata": {
        "id": "165k5pcGbkM4"
      },
      "execution_count": null,
      "outputs": []
    },
    {
      "cell_type": "markdown",
      "source": [
        "### 練習題（四）：銷售管理系統"
      ],
      "metadata": {
        "id": "wzWg7v_OdCbG"
      }
    },
    {
      "cell_type": "markdown",
      "source": [
        "我們得到了某家店某個月所有商品的銷售資料，包含各個商品的單價（`unit_prices`）以及各個商品每天的銷售量（`num_sales`）。我們想要從中得知：\n",
        "1. 這家店總共有幾種商品？\n",
        "2. 該月總共有幾天？\n",
        "3. 第 2 個商品的單價為多少？\n",
        "4. 如果所有商品各買一個，總共會花多少錢？\n",
        "5. 該月第 2 天總共銷售了幾個商品？\n",
        "6. 該月第 2 天的銷售金額為多少？\n",
        "    - 可以參考：兩個 vector 的 dot product，以及下圖一，幫助你思考\n",
        "7. 該月的總銷售金額為多少？\n",
        "    - 可以參考：matrix 跟 vector 的 dot product，以及下圖一，幫助你思考\n",
        "8. 畫一張圖表，x 軸為該月的第幾天，y 軸為每天的銷售金額，結果類似圖二\n",
        "9. 畫一張圖表，x 軸為該月的第幾天，y 軸為每天的銷售商品總量，結果類似圖三\n",
        "10. 該月第幾天的銷售商品總量最低？\n",
        "11. 第 2 個商品的平均一天可以賣幾個？\n",
        "12. 承上題，第 2 個商品總共有幾天的商品銷售量大於該商品的平均銷售量？\n",
        "13. 前 10 天（亦即第 0 到 第 9 天）的第幾個商品的銷售總量排名第二高？\n",
        "\n",
        "資料說明：\n",
        "- `unit_prices` 是一維的 `numpy.ndarray` 物件，`unit_prices[0]` 代表第 0 個商品的單價，`unit_prices[1]` 則代表第 1 個，以此類推。\n",
        "- `num_sales` 是二維的 `numpy.ndarray` 物件，`num_sales[0, 0]` 代表第 0 天的第 0 個商品的銷售量，`num_sales[0, 1]` 則代表第 0 天的第 1 個商品的銷售量，以此類推。\n",
        "\n",
        "[提示] 你可能需要了解以下知識：\n",
        "- 使用 pip 工具來安裝第三方套件\n",
        "- numpy 的常用功能，例如 `numpy.ndarray`\n",
        "- matplotlib 的常用功能，例如 `matplotlib.pyplot`"
      ],
      "metadata": {
        "id": "LvqDeW360cdj"
      }
    },
    {
      "cell_type": "markdown",
      "source": [
        "圖一：（以該月只有 3 天、商品只有 3 個為例）\n",
        "\n",
        "![image.png](data:image/png;base64,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)"
      ],
      "metadata": {
        "id": "U-83iivW0RR8"
      }
    },
    {
      "cell_type": "markdown",
      "source": [
        "圖二：\n",
        "\n",
        "![image.png](data:image/png;base64,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)"
      ],
      "metadata": {
        "id": "b9rUi96Q5e3X"
      }
    },
    {
      "cell_type": "markdown",
      "source": [
        "圖三：\n",
        "\n",
        "![image.png](data:image/png;base64,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)"
      ],
      "metadata": {
        "id": "P8DFtqv8hePV"
      }
    },
    {
      "cell_type": "code",
      "metadata": {
        "id": "aXjbYNeBo78P"
      },
      "source": [
        "import numpy as np\n",
        "from matplotlib import pyplot as plt"
      ],
      "execution_count": null,
      "outputs": []
    },
    {
      "cell_type": "code",
      "metadata": {
        "id": "yyD4IOjvrck9"
      },
      "source": [
        "unit_prices = np.array([35, 47, 35, 45, 48, 72, 90, 40, 77, 100, 39, 40, 85, 93, 96, 82, 97, 99, 55, 75, 78, 36, 69, 49, 48, 53, 36, 95, 30, 75, 55, 66], dtype=np.int32)\n",
        "num_sales = np.array([[51, 45, 79, 32, 66, 65, 12, 74, 16, 32, 11, 84, 73, 26, 52, 32, 24, 28, 57, 20, 38, 18, 17, 53, 43, 87, 37, 18, 41, 19, 71, 85], [59, 31, 23, 61, 51, 47, 71, 38, 84, 81, 14, 85, 67, 79, 29, 54, 48, 25, 71, 45, 77, 71, 64, 82, 46, 78, 55, 79, 38, 28, 83, 60], [34, 38, 85, 25, 64, 24, 45, 73, 70, 66, 79, 25, 51, 87, 48, 74, 87, 32, 85, 38, 27, 59, 75, 86, 25, 69, 34, 77, 59, 12, 86, 25], [11, 37, 81, 12, 43, 84, 30, 77, 84, 13, 84, 26, 41, 15, 60, 61, 32, 48, 26, 21, 81, 31, 22, 14, 62, 66, 11, 68, 61, 84, 87, 19], [38, 35, 63, 79, 29, 55, 43, 81, 17, 86, 55, 18, 49, 22, 35, 10, 39, 30, 86, 37, 64, 12, 80, 84, 40, 78, 73, 21, 14, 32, 43, 16], [77, 55, 18, 53, 31, 21, 20, 78, 14, 13, 77, 82, 28, 36, 10, 63, 15, 15, 43, 69, 83, 32, 78, 41, 54, 55, 42, 40, 77, 21, 39, 55], [85, 72, 16, 75, 42, 41, 83, 20, 31, 39, 63, 73, 29, 17, 28, 87, 16, 59, 28, 55, 62, 72, 79, 76, 23, 64, 35, 39, 32, 79, 73, 40], [36, 47, 76, 32, 36, 76, 68, 48, 26, 72, 39, 18, 87, 73, 48, 38, 50, 20, 29, 71, 26, 78, 34, 70, 28, 23, 82, 19, 15, 43, 46, 41], [10, 52, 60, 52, 58, 40, 28, 82, 34, 67, 41, 13, 75, 45, 36, 87, 75, 12, 19, 23, 27, 63, 23, 11, 24, 83, 71, 87, 59, 76, 86, 50], [10, 35, 82, 66, 56, 81, 44, 42, 11, 32, 87, 39, 39, 30, 68, 20, 56, 39, 66, 15, 54, 63, 26, 58, 20, 75, 54, 37, 82, 82, 66, 81], [81, 84, 69, 48, 83, 79, 83, 31, 46, 68, 13, 27, 21, 77, 59, 80, 27, 86, 82, 11, 22, 54, 39, 37, 50, 72, 87, 60, 27, 52, 66, 42], [37, 49, 34, 74, 69, 65, 78, 51, 73, 86, 50, 58, 44, 61, 86, 61, 33, 46, 74, 20, 50, 32, 37, 52, 24, 24, 21, 27, 44, 40, 23, 46], [76, 33, 80, 41, 19, 50, 43, 62, 19, 15, 24, 50, 14, 12, 39, 13, 16, 83, 17, 24, 43, 58, 38, 21, 76, 32, 34, 67, 40, 58, 63, 55], [41, 81, 54, 63, 28, 41, 20, 25, 15, 67, 26, 44, 39, 36, 43, 24, 35, 51, 63, 86, 61, 82, 51, 29, 21, 86, 44, 33, 74, 42, 37, 43], [31, 18, 59, 67, 35, 82, 41, 23, 49, 16, 63, 82, 24, 17, 77, 52, 66, 51, 39, 32, 69, 58, 65, 31, 37, 68, 12, 28, 55, 29, 16, 83], [28, 68, 76, 10, 65, 79, 60, 41, 36, 83, 25, 22, 54, 38, 45, 38, 11, 42, 36, 85, 27, 64, 38, 59, 42, 25, 57, 75, 86, 74, 39, 12], [85, 70, 85, 78, 85, 83, 45, 72, 24, 38, 20, 84, 57, 76, 10, 81, 69, 16, 21, 85, 28, 71, 67, 44, 31, 74, 14, 54, 80, 16, 59, 68], [75, 74, 33, 48, 80, 12, 39, 11, 49, 62, 53, 82, 17, 67, 87, 76, 79, 41, 63, 19, 38, 41, 75, 34, 79, 77, 53, 39, 35, 35, 56, 67], [13, 28, 58, 61, 56, 79, 13, 32, 18, 85, 54, 68, 20, 42, 10, 65, 33, 57, 52, 43, 34, 12, 74, 50, 59, 81, 74, 35, 15, 34, 71, 14], [64, 33, 58, 18, 64, 72, 74, 57, 27, 81, 37, 86, 12, 23, 83, 20, 48, 52, 68, 19, 59, 47, 50, 17, 86, 49, 39, 31, 56, 31, 48, 57], [12, 11, 50, 45, 50, 59, 37, 12, 28, 67, 14, 16, 44, 77, 79, 70, 86, 69, 77, 28, 74, 45, 85, 19, 11, 33, 81, 46, 31, 54, 39, 71], [22, 83, 44, 46, 56, 30, 58, 77, 79, 67, 73, 19, 37, 37, 51, 20, 81, 21, 85, 56, 25, 27, 28, 72, 40, 65, 48, 40, 83, 34, 53, 65], [69, 42, 28, 50, 52, 81, 35, 86, 74, 50, 29, 62, 30, 57, 14, 34, 68, 68, 47, 87, 68, 41, 41, 17, 79, 81, 37, 59, 29, 42, 54, 83], [71, 48, 68, 65, 55, 32, 79, 16, 31, 34, 86, 63, 69, 21, 35, 71, 63, 78, 15, 81, 63, 82, 78, 10, 64, 50, 67, 54, 12, 17, 28, 46], [39, 15, 17, 64, 69, 78, 58, 13, 50, 28, 84, 31, 81, 29, 51, 24, 29, 40, 76, 72, 76, 17, 42, 41, 31, 11, 34, 21, 25, 32, 75, 84], [41, 10, 12, 50, 85, 26, 17, 18, 36, 33, 31, 30, 30, 69, 27, 45, 35, 87, 40, 80, 69, 41, 59, 62, 65, 16, 15, 77, 14, 76, 69, 59], [10, 73, 26, 59, 57, 46, 21, 82, 53, 56, 74, 49, 58, 45, 38, 83, 78, 28, 38, 54, 38, 56, 46, 15, 58, 22, 56, 45, 54, 12, 46, 30], [47, 69, 67, 33, 68, 51, 76, 65, 39, 56, 13, 38, 62, 20, 78, 24, 19, 67, 13, 73, 74, 60, 72, 53, 78, 36, 32, 22, 49, 69, 73, 29]], dtype=np.int32)"
      ],
      "execution_count": null,
      "outputs": []
    },
    {
      "cell_type": "code",
      "source": [
        "print(unit_prices.shape)"
      ],
      "metadata": {
        "id": "pYbdx9roGefk"
      },
      "execution_count": null,
      "outputs": []
    },
    {
      "cell_type": "code",
      "source": [
        "print(unit_prices)"
      ],
      "metadata": {
        "id": "xtW-pmUWTgph"
      },
      "execution_count": null,
      "outputs": []
    },
    {
      "cell_type": "code",
      "source": [
        "print(num_sales.shape)"
      ],
      "metadata": {
        "id": "Rq_nHs-vGiL5"
      },
      "execution_count": null,
      "outputs": []
    },
    {
      "cell_type": "code",
      "source": [
        "print(num_sales)"
      ],
      "metadata": {
        "id": "r1RhBXHwTiFZ"
      },
      "execution_count": null,
      "outputs": []
    },
    {
      "cell_type": "code",
      "source": [
        "#@title 1. 這家店總共有幾種商品？\n",
        "num_products = unit_prices.shape[0]\n",
        "print(\"Number of Products =\", num_products) # Expected output: 32"
      ],
      "metadata": {
        "id": "6JgNNgHpGb5M"
      },
      "execution_count": null,
      "outputs": []
    },
    {
      "cell_type": "code",
      "source": [
        "#@title 2. 該月總共有幾天？\n",
        "num_days = 0 # PLEASE MODIFY\n",
        "print(\"Number of days =\", num_days) # Expected output: 28"
      ],
      "metadata": {
        "id": "djvpRuR_G683"
      },
      "execution_count": null,
      "outputs": []
    },
    {
      "cell_type": "code",
      "source": [
        "#@title 參考解答\n",
        "num_days = num_sales.shape[0] # PLEASE MODIFY\n",
        "print(\"Number of days =\", num_days) # Expected output: 28"
      ],
      "metadata": {
        "cellView": "form",
        "id": "WiE-x6-2y1_L"
      },
      "execution_count": null,
      "outputs": []
    },
    {
      "cell_type": "code",
      "source": [
        "#@title 3. 第 2 個商品的單價為多少？\n",
        "second_product_price = 0 # PLEASE MODIFY\n",
        "print(\"The price of second product =\", second_product_price) # Expected output: 35"
      ],
      "metadata": {
        "id": "L22PKgg6HjSs"
      },
      "execution_count": null,
      "outputs": []
    },
    {
      "cell_type": "code",
      "source": [
        "#@title 參考解答\n",
        "second_product_price = unit_prices[2] # PLEASE MODIFY\n",
        "print(\"The price of second product =\", second_product_price) # Expected output: 35"
      ],
      "metadata": {
        "cellView": "form",
        "id": "zoSS1nk_zZ66"
      },
      "execution_count": null,
      "outputs": []
    },
    {
      "cell_type": "code",
      "source": [
        "#@title 4. 如果所有商品各買一個，總共會花多少錢？\n",
        "price_total = 0 # PLEASE MODIFY\n",
        "print(\"The total price of all products =\", price_total) # Expected output: 2040"
      ],
      "metadata": {
        "id": "xIknbVnPK-nE"
      },
      "execution_count": null,
      "outputs": []
    },
    {
      "cell_type": "code",
      "source": [
        "#@title 參考解答\n",
        "price_total = unit_prices.sum() # PLEASE MODIFY\n",
        "print(\"The total price of all products =\", price_total) # Expected output: 2040"
      ],
      "metadata": {
        "cellView": "form",
        "id": "W0XV_zD_0nDb"
      },
      "execution_count": null,
      "outputs": []
    },
    {
      "cell_type": "code",
      "source": [
        "#@title 5. 該月第 2 天總共銷售了幾個商品\n",
        "second_day_num_sales = 0 # PLEASE MODIFY\n",
        "print(\"Number of sales on second day =\", second_day_num_sales) # Expected output: 1764"
      ],
      "metadata": {
        "id": "cBLm3nq5IqhM"
      },
      "execution_count": null,
      "outputs": []
    },
    {
      "cell_type": "code",
      "source": [
        "#@title 參考解答\n",
        "second_day_num_sales = num_sales[2].sum() # PLEASE MODIFY\n",
        "print(\"Number of sales on second day =\", second_day_num_sales) # Expected output: 1764"
      ],
      "metadata": {
        "cellView": "form",
        "id": "d0tn3LQh2G9A"
      },
      "execution_count": null,
      "outputs": []
    },
    {
      "cell_type": "code",
      "source": [
        "#@title 6. 該月第 2 天的銷售金額為多少？\n",
        "second_day_total = 0 # PLEASE MODIFY\n",
        "print(\"Sales amount on second day =\", second_day_total) # Expected output: 113216"
      ],
      "metadata": {
        "id": "TjADKQ6QLcjJ"
      },
      "execution_count": null,
      "outputs": []
    },
    {
      "cell_type": "code",
      "source": [
        "#@title 參考解答\n",
        "second_day_total = num_sales[2].dot(unit_prices) # PLEASE MODIFY\n",
        "print(\"Sales amount on second day =\", second_day_total) # Expected output: 113216"
      ],
      "metadata": {
        "cellView": "form",
        "id": "zNIE0bXb2T48"
      },
      "execution_count": null,
      "outputs": []
    },
    {
      "cell_type": "code",
      "metadata": {
        "id": "G1_EoBbZwjsn"
      },
      "source": [
        "#@title 7. 該月的總銷售金額為多少？\n",
        "month_total = 0 # PLEASE MODIFY\n",
        "print(\"Total sales amount this month =\", month_total) # Expected output: 2781320"
      ],
      "execution_count": null,
      "outputs": []
    },
    {
      "cell_type": "code",
      "source": [
        "#@title 參考解答\n",
        "month_total = num_sales.dot(unit_prices).sum() # PLEASE MODIFY\n",
        "print(\"Total sales amount this month =\", month_total) # Expected output: 2781320"
      ],
      "metadata": {
        "cellView": "form",
        "id": "JRl9jFGq3A_l"
      },
      "execution_count": null,
      "outputs": []
    },
    {
      "cell_type": "code",
      "metadata": {
        "id": "O9JKHCFy9Tfz"
      },
      "source": [
        "#@title 8. 畫一張圖表，x 軸為該月的第幾天，y 軸為每天的銷售金額，結果類似圖一\n",
        "\n",
        "# Plot sale totals everyday.\n",
        "def plot_totals(days, totals):\n",
        "    plt.plot(days, totals)\n",
        "    plt.xlabel(\"Day\")\n",
        "    plt.ylabel(\"Total\")\n",
        "    plt.show()\n",
        "\n",
        "days = np.arange(num_sales.shape[0])\n",
        "totals = np.zeros(num_sales.shape[0]) # PLEASE MODIFY\n",
        "\n",
        "plot_totals(days, totals)"
      ],
      "execution_count": null,
      "outputs": []
    },
    {
      "cell_type": "code",
      "source": [
        "#@title 參考解答\n",
        "\n",
        "# Plot sale totals everyday.\n",
        "def plot_totals(days, totals):\n",
        "    plt.plot(days, totals)\n",
        "    plt.xlabel(\"Day\")\n",
        "    plt.ylabel(\"Total\")\n",
        "    plt.show()\n",
        "\n",
        "days = np.arange(num_sales.shape[0])\n",
        "totals = num_sales.dot(unit_prices) # PLEASE MODIFY\n",
        "\n",
        "plot_totals(days, totals)"
      ],
      "metadata": {
        "cellView": "form",
        "id": "KlO4p-3q3mn-"
      },
      "execution_count": null,
      "outputs": []
    },
    {
      "cell_type": "code",
      "source": [
        "#@title 9. 畫一張圖表，x 軸為該月的第幾天，y 軸為每天的銷售商品總量，結果類似圖二\n",
        "\n",
        "# Plot sales amount everyday.\n",
        "def plot_everyday_sales(days, everyday_sales):\n",
        "    # PLEASE MODIFY CODE BELOW\n",
        "    pass\n",
        "\n",
        "days = np.arange(num_sales.shape[0])\n",
        "everyday_sales = np.zeros(num_sales.shape[0]) # PLEASE MODIFY\n",
        "\n",
        "plot_everyday_sales(days, everyday_sales)"
      ],
      "metadata": {
        "id": "R_hrdKEghv6E"
      },
      "execution_count": null,
      "outputs": []
    },
    {
      "cell_type": "code",
      "source": [
        "#@title 參考解答\n",
        "import numpy as np\n",
        "import matplotlib.pyplot as plt\n",
        "\n",
        "# Plot sales amount everyday.\n",
        "def plot_everyday_sales(days, everyday_sales):\n",
        "    # PLEASE MODIFY CODE BELOW\n",
        "    plt.plot(days, everyday_sales)\n",
        "    plt.xlabel(\"Day\")\n",
        "    plt.ylabel(\"Sales\")\n",
        "    plt.show()\n",
        "\n",
        "days = np.arange(num_sales.shape[0])\n",
        "everyday_sales = num_sales.sum(axis=1) # PLEASE MODIFY\n",
        "\n",
        "plot_everyday_sales(days, everyday_sales)"
      ],
      "metadata": {
        "cellView": "form",
        "id": "05XkphzdjM6Y"
      },
      "execution_count": null,
      "outputs": []
    },
    {
      "cell_type": "code",
      "source": [
        "#@title 10. 該月第幾天的銷售商品總量最低？\n",
        "min_sales_day = 0 # PLEASE MODIFY\n",
        "print(\"The day with minimum number of sales:\", min_sales_day) # Expected output: 12"
      ],
      "metadata": {
        "id": "69LRxV9Hpxhd"
      },
      "execution_count": null,
      "outputs": []
    },
    {
      "cell_type": "code",
      "source": [
        "#@title 參考解答\n",
        "min_sales_day = np.argmin(num_sales.sum(axis=1)) # PLEASE MODIFY\n",
        "print(\"The day with minimum number of sales:\", min_sales_day) # Expected output: 12"
      ],
      "metadata": {
        "cellView": "form",
        "id": "VrlKlWF-qkGW"
      },
      "execution_count": null,
      "outputs": []
    },
    {
      "cell_type": "code",
      "source": [
        "#@title 11. 第 2 個商品的平均一天可以賣幾個？\n",
        "second_avg_sales = 0 # PLEASE MODIFY\n",
        "print(\"Average sales of second product:\", second_avg_sales) # Expected output: 53.607142857142854"
      ],
      "metadata": {
        "id": "yfJunqi9x6aq"
      },
      "execution_count": null,
      "outputs": []
    },
    {
      "cell_type": "code",
      "source": [
        "#@title 參考解答\n",
        "\n",
        "# Solution 1\n",
        "second_avg_sales = num_sales.mean(axis=0)[2] # PLEASE MODIFY\n",
        "print(\"Average sales of second product:\", second_avg_sales) # Expected output: 53.607142857142854\n",
        "\n",
        "# Solution 2\n",
        "second_avg_sales =num_sales[:, 2].mean() # PLEASE MODIFY\n",
        "print(\"Average sales of second product:\", second_avg_sales) # Expected output: 53.607142857142854"
      ],
      "metadata": {
        "cellView": "form",
        "id": "5dJ2Q-rTzE6E"
      },
      "execution_count": null,
      "outputs": []
    },
    {
      "cell_type": "code",
      "source": [
        "#@title 12. 承上題，第 2 個商品總共有幾天的商品銷售量大於該商品的平均銷售量？\n",
        "# PLEASE MODIFY CODE BELOW\n",
        "days_better_than_avg = 0\n",
        "print(\"Number of days that second product better than average:\", days_better_than_avg) # Expected output: 17"
      ],
      "metadata": {
        "id": "4CaJ6y760MAj"
      },
      "execution_count": null,
      "outputs": []
    },
    {
      "cell_type": "code",
      "source": [
        "#@title 參考解答\n",
        "# PLEASE MODIFY CODE BELOW\n",
        "second_num_sales = num_sales[:, 2]\n",
        "second_avg_sales = second_num_sales.mean()\n",
        "is_better_than_avg = second_num_sales > second_avg_sales\n",
        "# Note:\n",
        "# .astype(int) can beinored since True / False will be treated as 1 / 0\n",
        "# for numpy.sum()\n",
        "days_better_than_avg = np.sum(is_better_than_avg.astype(int))\n",
        "print(\"Number of days that second product better than average:\", days_better_than_avg) # Expected output: 17"
      ],
      "metadata": {
        "cellView": "form",
        "id": "4Af3tU_Z5r1f"
      },
      "execution_count": null,
      "outputs": []
    },
    {
      "cell_type": "code",
      "source": [
        "#@title 13. 前 10 天（亦即第 0 到 第 9 天）的第幾個商品的銷售總量排名第二高？\n",
        "# PLEASE MODIFY CODE BELOW\n",
        "second_best_product = 0\n",
        "print(\"Second best saled product from day 0 to day 9:\", second_best_product) # Expected output: 25"
      ],
      "metadata": {
        "id": "LAvzPUjy_eJ-"
      },
      "execution_count": null,
      "outputs": []
    },
    {
      "cell_type": "code",
      "source": [
        "#@title 參考解答\n",
        "# PLEASE MODIFY CODE BELOW\n",
        "ten_days_num_sales = num_sales[:10]\n",
        "product_total_sales = ten_days_num_sales.sum(axis=0)\n",
        "sorted_indices = product_total_sales.argsort()\n",
        "second_best_product = sorted_indices[-2]\n",
        "print(\"Second best saled product from day 0 to day 9:\", second_best_product) # Expected output: 25\n",
        "\n",
        "# You can also write above code in one line\n",
        "second_best_product = num_sales[:10].sum(axis=0).argsort()[-2]\n",
        "print(\"Second best saled product from day 0 to day 9:\", second_best_product) # Expected output: 25"
      ],
      "metadata": {
        "cellView": "form",
        "id": "ZnpKHQGaBTQC"
      },
      "execution_count": null,
      "outputs": []
    }
  ]
}