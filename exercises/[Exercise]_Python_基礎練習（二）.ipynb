{
  "nbformat": 4,
  "nbformat_minor": 0,
  "metadata": {
    "colab": {
      "provenance": [],
      "collapsed_sections": [
        "RpojzAAik8y4",
        "pzjLHX24HeCy",
        "kTlrpkcZ93BW",
        "GKO9hNGB7_LJ",
        "8vcKN_9OBOoJ",
        "PWcIyrC-Bl8U",
        "1Uj2x8xb6wQJ",
        "-2t89PP2389C",
        "FZYGSDtFQgLT",
        "o5VatYgNQjy2"
      ]
    },
    "kernelspec": {
      "name": "python3",
      "display_name": "Python 3"
    }
  },
  "cells": [
    {
      "cell_type": "markdown",
      "metadata": {
        "id": "hI7hcU3_yQv2"
      },
      "source": [
        "This notebook is freely available for redistribution under the [GPL-3.0 license](https://choosealicense.com/licenses/gpl-3.0/).\n",
        "\n",
        "Author: 蘇嘉冠 feabries@gmail.com\n",
        "\n",
        "Contributors: 蘇郁翔 asdfghjkl225836@gmail.com"
      ]
    },
    {
      "cell_type": "markdown",
      "metadata": {
        "id": "Na0_QjevL_F5"
      },
      "source": [
        "# Python 基礎練習（二）"
      ]
    },
    {
      "cell_type": "markdown",
      "source": [
        "## 在開始之前\n",
        "\n",
        "請先確認以下動作已經完成：\n",
        "1. 登錄你的 Google 帳號\n",
        "2. （上次做過的可以跳過這步驟）按上面工具列的 `工具` -> `設定` 跳出設定視窗，按左邊的 `編輯器`，將右方的 `縮排寬度` 設定為 `4`，再按下 `儲存`\n",
        "3. 按上方工具列的 `檔案` -> `在雲端硬碟中儲存副本`，會跳出一個新視窗，用複製的那一份繼續做編輯。複製的檔案會儲存在你的 [Google Drive](https://drive.google.com/drive) 的 `Colab Notebooks` 資料夾裡"
      ],
      "metadata": {
        "id": "C0Nj7ucf1JIY"
      }
    },
    {
      "cell_type": "markdown",
      "source": [
        "## I. 基本資料結構：tuple"
      ],
      "metadata": {
        "id": "RpojzAAik8y4"
      }
    },
    {
      "cell_type": "markdown",
      "source": [
        "tuple 跟 list 很相似，但是只能被建立，不能被修改。\n",
        "\n",
        "我們用左括號 `(` 跟右括號 `)` 來宣告一個 list，並且用逗號 `,` 來分開各個 element。"
      ],
      "metadata": {
        "id": "5WIbOX7R93WC"
      }
    },
    {
      "cell_type": "code",
      "source": [
        "person = (\"Biden\", 78, \"USA\")\n",
        "print(person)"
      ],
      "metadata": {
        "id": "dpAofrXZ-uTI"
      },
      "execution_count": null,
      "outputs": []
    },
    {
      "cell_type": "code",
      "source": [],
      "metadata": {
        "id": "xGQPeLLW-6Lv"
      },
      "execution_count": null,
      "outputs": []
    },
    {
      "cell_type": "markdown",
      "source": [
        "大部分對 list 的操作，也能用在 tuple 上，例如 index、slicing"
      ],
      "metadata": {
        "id": "n9QovepH_Eyz"
      }
    },
    {
      "cell_type": "code",
      "source": [
        "person = (\"Biden\", 80, \"USA\")\n",
        "print(person[0]) # \"Biden\"\n",
        "print(person[:2]) # (\"Biden\", 80)\n",
        "print(87 in person) # False"
      ],
      "metadata": {
        "id": "8xuJIrrR-7h1"
      },
      "execution_count": null,
      "outputs": []
    },
    {
      "cell_type": "code",
      "source": [],
      "metadata": {
        "id": "kIFu32FJ_Lcq"
      },
      "execution_count": null,
      "outputs": []
    },
    {
      "cell_type": "code",
      "source": [
        "numbers = (10, 20, 30)\n",
        "print(min(numbers))\n",
        "print(max(numbers))"
      ],
      "metadata": {
        "id": "u351yvOG_-X_",
        "colab": {
          "base_uri": "https://localhost:8080/"
        },
        "outputId": "132b2166-94fa-43b5-fe7c-2d490e675e1f"
      },
      "execution_count": null,
      "outputs": [
        {
          "output_type": "stream",
          "name": "stdout",
          "text": [
            "10\n",
            "30\n"
          ]
        }
      ]
    },
    {
      "cell_type": "code",
      "source": [],
      "metadata": {
        "id": "OYQh1mtlAPkL"
      },
      "execution_count": null,
      "outputs": []
    },
    {
      "cell_type": "markdown",
      "source": [
        "如果 tuple 只有一個 element，必須要加上逗號"
      ],
      "metadata": {
        "id": "V9hkXU_wAZeM"
      }
    },
    {
      "cell_type": "code",
      "source": [
        "num_x = 78\n",
        "num_y = 9\n",
        "\n",
        "print((num_x + num_y)) # Integer: 87\n",
        "print((num_x + num_y,)) # Tuple: (87,)\n",
        "print(()) # Empty tuple: ()"
      ],
      "metadata": {
        "id": "O6G18vuIAfH0",
        "colab": {
          "base_uri": "https://localhost:8080/"
        },
        "outputId": "e4337b30-935a-41a1-ce81-4a1dbb190785"
      },
      "execution_count": null,
      "outputs": [
        {
          "output_type": "stream",
          "name": "stdout",
          "text": [
            "87\n",
            "(87,)\n",
            "()\n"
          ]
        }
      ]
    },
    {
      "cell_type": "code",
      "source": [],
      "metadata": {
        "id": "z8UOGilmAilH"
      },
      "execution_count": null,
      "outputs": []
    },
    {
      "cell_type": "markdown",
      "source": [
        "你不能對修改 tuple 本身，當你嘗試修改時會出現錯誤訊息"
      ],
      "metadata": {
        "id": "Em5eErrdApgA"
      }
    },
    {
      "cell_type": "code",
      "source": [
        "numbers = (10, 20, 30)\n",
        "numbers[0] = 100"
      ],
      "metadata": {
        "id": "Qytzr1-kAu5S"
      },
      "execution_count": null,
      "outputs": []
    },
    {
      "cell_type": "markdown",
      "source": [
        "list 與 tuple 可以用 `tuple()` 與 `list()` 互相轉換型別"
      ],
      "metadata": {
        "id": "02tvK--vGifB"
      }
    },
    {
      "cell_type": "code",
      "source": [
        "numbers = [100, 200, 300] # list\n",
        "print(\"list:\", numbers)\n",
        "\n",
        "numbers = tuple(numbers) # list -> tuple\n",
        "print(\"list -> set:\", numbers)\n",
        "\n",
        "numbers = list(numbers) # list -> tuple -> list\n",
        "print(\"list -> set -> list:\", numbers)"
      ],
      "metadata": {
        "id": "rakRijaEGqFv"
      },
      "execution_count": null,
      "outputs": []
    },
    {
      "cell_type": "code",
      "source": [],
      "metadata": {
        "id": "vK66jnZZG0TY"
      },
      "execution_count": null,
      "outputs": []
    },
    {
      "cell_type": "markdown",
      "source": [
        "### tuple 的 packing 與 unpacking\n",
        "\n",
        "tuple 的 packing、unpacking 是相當方便且重要的功能：\n",
        "- packing 會將多個用逗號分開、而且沒有小括號包起來的值自動打包成 tuple\n",
        "- unpacking 則可以將 tuple 自動解包給多個變數"
      ],
      "metadata": {
        "id": "O6QjvUfoA58C"
      }
    },
    {
      "cell_type": "code",
      "source": [
        "person = \"Biden\", 80, \"USA\" # Pack into a tuple automatically.\n",
        "print(person) # (\"Biden\", 80, \"USA\")\n",
        "\n",
        "name, age, country = person # Unpack the tuple automatically.\n",
        "print(name) # \"Biden\"\n",
        "print(age) # 80\n",
        "print(country) # \"USA\"\n",
        "\n",
        "name, age, country = \"Biden\", 80, \"USA\" # Pack right hand side firstly, then unpack to left hand side\n",
        "print(name) # \"Biden\"\n",
        "print(age) # 80\n",
        "print(country) # \"USA\""
      ],
      "metadata": {
        "id": "BgmdCPsdBocs"
      },
      "execution_count": null,
      "outputs": []
    },
    {
      "cell_type": "code",
      "source": [],
      "metadata": {
        "id": "Ele-byB2DLqm"
      },
      "execution_count": null,
      "outputs": []
    },
    {
      "cell_type": "code",
      "source": [
        "number_x = 100\n",
        "number_y = 200\n",
        "print(\"Before:\", number_x, number_y)\n",
        "\n",
        "number_x, number_y = number_y, number_x # Exchange values of two variables\n",
        "print(\"After\", number_x, number_y)"
      ],
      "metadata": {
        "id": "DeJUfClEDYI7"
      },
      "execution_count": null,
      "outputs": []
    },
    {
      "cell_type": "code",
      "source": [],
      "metadata": {
        "id": "PiJSuLoEDo00"
      },
      "execution_count": null,
      "outputs": []
    },
    {
      "cell_type": "markdown",
      "source": [
        "Unpacking 給多個變數時，`=` 左邊的變數數量要跟 tuple 的 element 數量相同。如果你只想要取出其中幾個 element，可以搭配使用 `*` 符號"
      ],
      "metadata": {
        "id": "wGZb1mskEEYa"
      }
    },
    {
      "cell_type": "code",
      "source": [
        "person = \"Biden\", 80, \"USA\"\n",
        "name, *_ = person\n",
        "\n",
        "print(name) # \"Biden\""
      ],
      "metadata": {
        "id": "odYwrjYJFVkj"
      },
      "execution_count": null,
      "outputs": []
    },
    {
      "cell_type": "code",
      "source": [],
      "metadata": {
        "id": "XZ7G4tCvFsLi"
      },
      "execution_count": null,
      "outputs": []
    },
    {
      "cell_type": "code",
      "source": [
        "numbers = (100, 200, 300, 400, 500)\n",
        "number_first, *number_middles, number_last = numbers\n",
        "\n",
        "print(number_first) # 100\n",
        "print(number_middles) # [200, 300, 400]\n",
        "print(number_last) # 500"
      ],
      "metadata": {
        "id": "9tao3di5Fvmq"
      },
      "execution_count": null,
      "outputs": []
    },
    {
      "cell_type": "code",
      "source": [],
      "metadata": {
        "id": "yjSyvRJEGE2r"
      },
      "execution_count": null,
      "outputs": []
    },
    {
      "cell_type": "markdown",
      "source": [
        "## II. 字串（string）"
      ],
      "metadata": {
        "id": "pzjLHX24HeCy"
      }
    },
    {
      "cell_type": "markdown",
      "source": [
        "字串跟 list、tuple 一樣，都是一種 sequence（序列）型別，同樣可以使用類似的操作"
      ],
      "metadata": {
        "id": "u9AVHVfSHiuz"
      }
    },
    {
      "cell_type": "code",
      "source": [
        "sentence_x = \"Love you\"\n",
        "sentence_y = \" so much\"\n",
        "\n",
        "print(sentence_x[0]) # \"L\"\n",
        "print(sentence_x[-1]) # \"u\"\n",
        "print(sentence_x[0:4]) # \"Love\"\n",
        "\n",
        "print(len(sentence_x)) # 8\n",
        "\n",
        "print(sentence_x + sentence_y) # “Love you so much”\n",
        "\n",
        "print(\"Love\" in sentence_x) # True"
      ],
      "metadata": {
        "id": "1FEA6J-MdlI8"
      },
      "execution_count": null,
      "outputs": []
    },
    {
      "cell_type": "code",
      "source": [],
      "metadata": {
        "id": "kc-W-IiirwFh"
      },
      "execution_count": null,
      "outputs": []
    },
    {
      "cell_type": "markdown",
      "source": [
        "但要注意的是，被建立的字串不能直接像 list 一樣修改內容，例如以下範例就會出現出錯誤。"
      ],
      "metadata": {
        "id": "Y_3e93_4r6Xl"
      }
    },
    {
      "cell_type": "code",
      "source": [
        "sentence = \"ABC\"\n",
        "sentence[0] = \"a\""
      ],
      "metadata": {
        "id": "gkV_fMrNsDRg"
      },
      "execution_count": null,
      "outputs": []
    },
    {
      "cell_type": "markdown",
      "source": [
        "如果要對字串做處理，基本上要搭 `=` 符號"
      ],
      "metadata": {
        "id": "XETY7873yXWi"
      }
    },
    {
      "cell_type": "code",
      "source": [
        "sentence = \"ABC\"\n",
        "sentence = \"a\" + sentence[1:]\n",
        "print(sentence)"
      ],
      "metadata": {
        "id": "o0oNXVpK0BIg"
      },
      "execution_count": null,
      "outputs": []
    },
    {
      "cell_type": "markdown",
      "source": [
        "接下來介紹一些處理字串的好用功能"
      ],
      "metadata": {
        "id": "Vm-JLkrJyQdl"
      }
    },
    {
      "cell_type": "markdown",
      "source": [
        "### 字串常用的函式與方法"
      ],
      "metadata": {
        "id": "oHfvKrcetXYc"
      }
    },
    {
      "cell_type": "markdown",
      "source": [
        "字串的切割與連接：\n",
        "- `str.split()`: 可以將一個字串切割成一個包含數個字串的 list (list of str)\n",
        "- `str.join()`: 將一個 list of str 連接回一個字串"
      ],
      "metadata": {
        "id": "8XkpxWIFtw65"
      }
    },
    {
      "cell_type": "code",
      "source": [
        "sentence = \"I...hate...you\"\n",
        "print(sentence.split(\"...\")) # [\"I\", \"hate\", \"you\"]"
      ],
      "metadata": {
        "id": "R7KJBXjCuUmH"
      },
      "execution_count": null,
      "outputs": []
    },
    {
      "cell_type": "code",
      "source": [],
      "metadata": {
        "id": "Vi2ChPoQuVJ0"
      },
      "execution_count": null,
      "outputs": []
    },
    {
      "cell_type": "code",
      "source": [
        "words = [\"I\", \"hate\", \"you\"]\n",
        "print(\"...\".join(words)) # \"I...hate...you\""
      ],
      "metadata": {
        "id": "iWpxpeensvZN"
      },
      "execution_count": null,
      "outputs": []
    },
    {
      "cell_type": "code",
      "source": [],
      "metadata": {
        "id": "b8mMahBcuYNJ"
      },
      "execution_count": null,
      "outputs": []
    },
    {
      "cell_type": "markdown",
      "source": [
        "字串內容的判斷：\n",
        "- `str.isdigit()`: 字串內容是否都為數字\n",
        "- `str.isalpha()`: 字串內容是否都為英文字母\n",
        "- `str.islower()`: 字串內容是否都為小寫英文字母\n",
        "- `str.isupper()`: 字串內容是否都為大寫英文字母"
      ],
      "metadata": {
        "id": "yjf9wIL8wUJP"
      }
    },
    {
      "cell_type": "code",
      "source": [
        "sentence = \"AMAZING\"\n",
        "print(sentence.isdigit()) # False\n",
        "print(sentence.isalpha()) # True\n",
        "print(sentence.islower()) # False\n",
        "print(sentence.isupper()) # True"
      ],
      "metadata": {
        "id": "rDGJfImlxNqh"
      },
      "execution_count": null,
      "outputs": []
    },
    {
      "cell_type": "code",
      "source": [],
      "metadata": {
        "id": "GkBPbsVO15Lq"
      },
      "execution_count": null,
      "outputs": []
    },
    {
      "cell_type": "markdown",
      "source": [
        "字串的補充：\n",
        "- `str.find()`: 搜尋某目標內容是否在該字串，如果有的話，回傳第一個被找到的位置，否則回傳 -1（另外還有 `str.rfind()`）\n",
        "- `str.index()`: 與 `str.find()` 相同功能，但找不到目標內容時，會出現例外錯誤（另外還有 `str.rindex()`）\n",
        "- `str.count()`: 計算某目標內容在字串中共出現幾次\n",
        "- `str.startswith()`: 字串內容是否以某目標內容開始\n",
        "- `str.endswith()`: 字串內容是否以某目標內容結尾\n"
      ],
      "metadata": {
        "id": "U9ca7aBFvcjX"
      }
    },
    {
      "cell_type": "code",
      "source": [
        "sentence = \"AMAZING TALK\"\n",
        "print(sentence.find(\"ING\")) # 4\n",
        "print(sentence.index(\"ING\")) # 4"
      ],
      "metadata": {
        "id": "qSau1hL73zR6"
      },
      "execution_count": null,
      "outputs": []
    },
    {
      "cell_type": "code",
      "source": [],
      "metadata": {
        "id": "vE1kbtyb3_n5"
      },
      "execution_count": null,
      "outputs": []
    },
    {
      "cell_type": "code",
      "source": [
        "sentence = \"AMAZING TALK\"\n",
        "print(sentence.count(\"A\")) # 3"
      ],
      "metadata": {
        "id": "RYYgp6PQ4E4d"
      },
      "execution_count": null,
      "outputs": []
    },
    {
      "cell_type": "code",
      "source": [],
      "metadata": {
        "id": "JQlSi2jX4IVy"
      },
      "execution_count": null,
      "outputs": []
    },
    {
      "cell_type": "code",
      "source": [
        "sentence = \"AMAZING TALK\"\n",
        "print(sentence.startswith(\"A\")) # True\n",
        "print(sentence.startswith(\"a\")) # False\n",
        "print(sentence.endswith(\"K\")) # True\n",
        "print(sentence.endswith(\"LK\")) # True"
      ],
      "metadata": {
        "id": "EUIhSW_Q15XF"
      },
      "execution_count": null,
      "outputs": []
    },
    {
      "cell_type": "code",
      "source": [],
      "metadata": {
        "id": "Kp8z3Xjs3Ghd"
      },
      "execution_count": null,
      "outputs": []
    },
    {
      "cell_type": "markdown",
      "source": [
        "字串的修改：\n",
        "- `str.replace()`: 將字串中的某些文字替代成新文字\n",
        "- `str.lower()`: 將字串的所有英文字母轉成小寫\n",
        "- `str.upper()`: 將字串的所有英文字母轉成大寫\n",
        "- `str.strip()`: 刪除字串開頭或結尾的任何空白（另外還有 `str.rstrip()` 以及 `str.lstrip()`）\n",
        "\n",
        "再次提醒，我們不能對字串本身直接做修改，所以以上方法都是回傳一個新的字串，必要時我們要搭配 `=` 符號"
      ],
      "metadata": {
        "id": "-pw0iuSc4VjR"
      }
    },
    {
      "cell_type": "code",
      "source": [
        "sentence = \"  I hate hate hate you \"\n",
        "\n",
        "print(sentence.strip()) # \"I hate hate hate you\"\n",
        "print(sentence.replace(\"hate\", \"love\")) # \"  I love love love you \"\n",
        "print(sentence.upper()) # \"  I HATE HATE HATE YOU \"\n",
        "\n",
        "print(sentence) # \"  I hate hate hate you \"\n",
        "sentence = sentence.upper()\n",
        "print(sentence) # \"  I HATE HATE HATE YOU \""
      ],
      "metadata": {
        "id": "DcXJX1ah5tRp"
      },
      "execution_count": null,
      "outputs": []
    },
    {
      "cell_type": "code",
      "source": [],
      "metadata": {
        "id": "QHu-aXao6LDZ"
      },
      "execution_count": null,
      "outputs": []
    },
    {
      "cell_type": "markdown",
      "source": [
        "[補充] 以上僅列出部份常用的功能，更完整的請參考 [這篇文章](https://selflearningsuccess.com/pythonstring) 與 [官方文件](https://docs.python.org/3/library/stdtypes.html#string-methods)"
      ],
      "metadata": {
        "id": "WroxUd9k0U-Q"
      }
    },
    {
      "cell_type": "markdown",
      "source": [
        "### 跳脫字元（Escape Character）\n",
        "\n",
        "一些字無法直接打出來，必須再前面加上 `\\` 符號，例如：\n",
        "- `\\n`: 換行符號\n",
        "- `\\t`: tab\n",
        "- `\\'`: 單引號\n",
        "- `\\\"`: 雙引號"
      ],
      "metadata": {
        "id": "Kn9e1fNc6fu9"
      }
    },
    {
      "cell_type": "code",
      "source": [
        "print(\"I love you.\\nDo you love me?\")"
      ],
      "metadata": {
        "id": "tZnhG9im7Vwk"
      },
      "execution_count": null,
      "outputs": []
    },
    {
      "cell_type": "code",
      "source": [
        "print(\"I\\tlove\\tyou\")"
      ],
      "metadata": {
        "id": "uPH5LUsi6jU1"
      },
      "execution_count": null,
      "outputs": []
    },
    {
      "cell_type": "code",
      "source": [
        "print(\"How to say \\\"love you\\\" in Chinese?\")"
      ],
      "metadata": {
        "id": "Is68YF8v7evW"
      },
      "execution_count": null,
      "outputs": []
    },
    {
      "cell_type": "markdown",
      "source": [
        "### 格式化字串\n",
        "\n",
        "當需要將好幾個不同變數連接成一個字串時，直接使用 `+` 會讓程式碼看起來相當凌亂。取而代之的是，可以使用 `str.format()` 來格式化字串，增加程式碼的可讀性。"
      ],
      "metadata": {
        "id": "kNcS9Xt57i-c"
      }
    },
    {
      "cell_type": "code",
      "source": [
        "num_x = 78\n",
        "num_y = 9\n",
        "\n",
        "print(str(num_x) + \" + \" + str(num_y) + \" = \" + str(num_x + num_y)) # \"78 + 9 = 87\"\n",
        "print(\"{} + {} = {}\".format(num_x, num_y, num_x + num_y)) # \"78 + 9 = 87\"\n",
        "print(\"{0} + {1} = {2}\".format(num_x, num_y, num_x + num_y)) # \"78 + 9 = 87\"\n",
        "print(\"{x} + {y} = {total}\".format(x=num_x, y=num_y, total=num_x + num_y)) # \"78 + 9 = 87\""
      ],
      "metadata": {
        "id": "27kz47wZ8img"
      },
      "execution_count": null,
      "outputs": []
    },
    {
      "cell_type": "code",
      "source": [],
      "metadata": {
        "id": "lb1e57N88_3v"
      },
      "execution_count": null,
      "outputs": []
    },
    {
      "cell_type": "markdown",
      "source": [
        "另一種常見的格式化字串方式為 f-strings。兩種方式都可以用，我們這門課會以第一種為主"
      ],
      "metadata": {
        "id": "1uAAR4RX9DC3"
      }
    },
    {
      "cell_type": "code",
      "source": [
        "num_x = 78\n",
        "num_y = 9\n",
        "\n",
        "print(f\"{num_x} + {num_y} = {num_x + num_y}\") # \"78 + 9 = 87\""
      ],
      "metadata": {
        "id": "xbiI_diU9V7U"
      },
      "execution_count": null,
      "outputs": []
    },
    {
      "cell_type": "code",
      "source": [],
      "metadata": {
        "id": "YCZ3d9zG9h8a"
      },
      "execution_count": null,
      "outputs": []
    },
    {
      "cell_type": "markdown",
      "source": [
        "## III. 字典（dict）"
      ],
      "metadata": {
        "id": "kTlrpkcZ93BW"
      }
    },
    {
      "cell_type": "markdown",
      "source": [
        "字典（dict）是以 `key: value` 成對的方式儲存的資料結構。類似查詢英中辭典時，用 key（英文單字）查詢對應的 value（中文翻譯）。字典的 key 必須是唯一的。\n",
        "\n",
        "Python 的一個字典以成對的大括號加上數個 `key: value` 組成，並且用中括號加上 key 來取 value 或新增、修改 value"
      ],
      "metadata": {
        "id": "4gJaM9me96ii"
      }
    },
    {
      "cell_type": "code",
      "source": [
        "translation = {\"apple\": \"蘋果\", \"banana\": \"香蕉\"}\n",
        "print(translation[\"apple\"])"
      ],
      "metadata": {
        "id": "RqrNZZBaQ1b6"
      },
      "execution_count": null,
      "outputs": []
    },
    {
      "cell_type": "code",
      "source": [],
      "metadata": {
        "id": "JwCkSpaQRRWp"
      },
      "execution_count": null,
      "outputs": []
    },
    {
      "cell_type": "code",
      "source": [
        "age = {\"Biden\": 80, \"Su\": 18}\n",
        "print(\"Original:\", age) # {\"Biden\": 80, \"Su\": 18, \"Trump\": 87}\n",
        "\n",
        "age[\"Trump\"] = 87\n",
        "print(\"After inserting:\", age) # {\"Biden\": 80, \"Su\": 18, \"Trump\": 87}\n",
        "\n",
        "age[\"Su\"] = 15\n",
        "print(\"After updating:\", age) # {\"Biden\": 80, \"Su\": 15, \"Trump\": 87}"
      ],
      "metadata": {
        "id": "7O3xTlrkR79c"
      },
      "execution_count": null,
      "outputs": []
    },
    {
      "cell_type": "code",
      "source": [],
      "metadata": {
        "id": "lhpPBggISUGa"
      },
      "execution_count": null,
      "outputs": []
    },
    {
      "cell_type": "markdown",
      "source": [
        "一些 list 的功能也能用在字典上，例如：\n",
        "- 使用 `del` 來刪出某筆資料\n",
        "- 使用 `len()` 計算有幾筆資料\n",
        "- 使用 `in` 來判斷某個 key 是否在字典李"
      ],
      "metadata": {
        "id": "AcP__vw3TnQh"
      }
    },
    {
      "cell_type": "code",
      "source": [
        "age = {\"Biden\": 78, \"Su\": 18}\n",
        "print(len(age)) # 2\n",
        "print(\"Biden\" in age) # True\n",
        "\n",
        "del age[\"Biden\"]\n",
        "print(age) # {\"Su\": 18}"
      ],
      "metadata": {
        "id": "ulpLaQzkTxV1"
      },
      "execution_count": null,
      "outputs": []
    },
    {
      "cell_type": "code",
      "source": [],
      "metadata": {
        "id": "_V91mzRVT-Ug"
      },
      "execution_count": null,
      "outputs": []
    },
    {
      "cell_type": "markdown",
      "source": [
        "### 字典的常見 method 與 function"
      ],
      "metadata": {
        "id": "5vM6fSJsVAlt"
      }
    },
    {
      "cell_type": "markdown",
      "source": [
        "取得字典的所有內容：\n",
        "- `dict.keys()`: 得到所有字典所有的 key\n",
        "- `dict.values()`: 得到字典所有的 value\n",
        "- `dict.items()`: 得到字典所有的成對 (key, value)（每筆資料是一個 tuple）"
      ],
      "metadata": {
        "id": "pT2nuGYEVCxu"
      }
    },
    {
      "cell_type": "code",
      "source": [
        "age = {\"Biden\": 80, \"Su\": 18}\n",
        "\n",
        "print(list(age.keys())) # [\"Biden\", \"Su\"]\n",
        "print(list(age.values())) # [80, 18]\n",
        "print(list(age.items())) # [(\"Biden\", 80), (\"Su\", 18)]"
      ],
      "metadata": {
        "id": "QUv2X8jaVWJP"
      },
      "execution_count": null,
      "outputs": []
    },
    {
      "cell_type": "code",
      "source": [],
      "metadata": {
        "id": "EshD5xqYVwvg"
      },
      "execution_count": null,
      "outputs": []
    },
    {
      "cell_type": "markdown",
      "source": [
        "當存取某個字典中不存在的 key 時，會引發錯誤，如以下範例"
      ],
      "metadata": {
        "id": "lvFEKWyJXNky"
      }
    },
    {
      "cell_type": "code",
      "source": [
        "age = {\"Biden\": 80, \"Su\": 18}\n",
        "print(age[\"Trump\"])"
      ],
      "metadata": {
        "id": "f7sRneceZAY5"
      },
      "execution_count": null,
      "outputs": []
    },
    {
      "cell_type": "markdown",
      "source": [
        "為了避免這個問題，我們可以使用 `dict.get()`，當 key 不存在時回傳某個給定的預設值"
      ],
      "metadata": {
        "id": "rIzO6LX_ZMy_"
      }
    },
    {
      "cell_type": "code",
      "source": [
        "age = {\"Biden\": 80, \"Su\": 18}\n",
        "print(age.get(\"Trump\", 18)) # 18"
      ],
      "metadata": {
        "id": "QhMpr1BnZiEl"
      },
      "execution_count": null,
      "outputs": []
    },
    {
      "cell_type": "code",
      "source": [],
      "metadata": {
        "id": "o2zhDetsZmbz"
      },
      "execution_count": null,
      "outputs": []
    },
    {
      "cell_type": "markdown",
      "source": [
        "不一定要提供預設值給 `dict.get()`，這種狀況下預設值為 `None`\n",
        "\n",
        "附註：`None` 在 Python 中用來表現空值，類似 C 語言的 Null"
      ],
      "metadata": {
        "id": "LC-I9wLqZ2T4"
      }
    },
    {
      "cell_type": "code",
      "source": [
        "age = {\"Biden\": 80, \"Su\": 18}\n",
        "print(age.get(\"Trump\")) # None"
      ],
      "metadata": {
        "id": "jdNDffYDaUKm"
      },
      "execution_count": null,
      "outputs": []
    },
    {
      "cell_type": "code",
      "source": [],
      "metadata": {
        "id": "TtJCChE5aWC4"
      },
      "execution_count": null,
      "outputs": []
    },
    {
      "cell_type": "markdown",
      "source": [
        "`dict.setdefault()` 與 `dict.get()` 行為類似，差別是當該 key 不存在時會被自動新增資料"
      ],
      "metadata": {
        "id": "U3j2LzFzZqcd"
      }
    },
    {
      "cell_type": "code",
      "source": [
        "age = {\"Biden\": 80, \"Su\": 18}\n",
        "print(age.setdefault(\"Trump\", 18)) # 18\n",
        "print(age) # {\"Biden\": 80, \"Su\": 15, \"Trump\": 18}"
      ],
      "metadata": {
        "id": "5Ri5aMxwbSwp"
      },
      "execution_count": null,
      "outputs": []
    },
    {
      "cell_type": "code",
      "source": [],
      "metadata": {
        "id": "paV95teDcLT2"
      },
      "execution_count": null,
      "outputs": []
    },
    {
      "cell_type": "markdown",
      "source": [
        "### 可以用來當 key 的型別\n",
        "\n",
        "基本上不會被修改的型別都可以用來當 key：\n",
        "- int、float、bool、str 等可以\n",
        "- tuple 有時可以，需要保證裡面的 element 是不會變動的\n",
        "- list、set、dict 不行"
      ],
      "metadata": {
        "id": "mo_mf3sXbn0K"
      }
    },
    {
      "cell_type": "code",
      "source": [
        "words_set = {}\n",
        "\n",
        "words_set[87] = \"87\" # OK\n",
        "words_set[87.78] = \"87.78\" # OK\n",
        "words_set[True] = \"True\" # OK\n",
        "words_set[\"78\"] = \"78\" # OK\n",
        "words_set[(\"78\", 87)] = \"(78, 87)\" # OK"
      ],
      "metadata": {
        "id": "3FUSQtyJceol"
      },
      "execution_count": null,
      "outputs": []
    },
    {
      "cell_type": "code",
      "source": [
        "words_set = {}\n",
        "\n",
        "words_set[(\"78\", [87])] = \"(78, [87])\" # This will cause an error"
      ],
      "metadata": {
        "id": "QEFiuKjWcgZQ"
      },
      "execution_count": null,
      "outputs": []
    },
    {
      "cell_type": "markdown",
      "source": [
        "### 巢狀（Nested）的字典\n",
        "\n",
        "字典的 value 也可以是一個字典，形成巢狀結構，幫助表達更複雜的資料結構"
      ],
      "metadata": {
        "id": "eaIkzvodb4W5"
      }
    },
    {
      "cell_type": "code",
      "source": [
        "person_dict = {\n",
        "    \"Biden\": {\n",
        "        \"age\": 80,\n",
        "        \"country\": \"USA\",\n",
        "    },\n",
        "    \"Su\": {\n",
        "        \"age\": 18,\n",
        "        \"country\": \"Taiwan\",\n",
        "    },\n",
        "}\n",
        "\n",
        "print(person_dict[\"Su\"]) # {\"age\": 80, \"country\": \"Taiwan\"}\n",
        "print(person_dict[\"Su\"][\"country\"]) # \"Taiwan\""
      ],
      "metadata": {
        "id": "a4fr8B4lcAQX"
      },
      "execution_count": null,
      "outputs": []
    },
    {
      "cell_type": "code",
      "source": [],
      "metadata": {
        "id": "oCOG1iLvcxb3"
      },
      "execution_count": null,
      "outputs": []
    },
    {
      "cell_type": "markdown",
      "source": [
        "## IV. 流程控制：if、while、for"
      ],
      "metadata": {
        "id": "GKO9hNGB7_LJ"
      }
    },
    {
      "cell_type": "markdown",
      "source": [
        "### if"
      ],
      "metadata": {
        "id": "d7uh8MJK8GB0"
      }
    },
    {
      "cell_type": "markdown",
      "source": [
        "if 是用來做流程控制的最基本語法，用來決定什麼條件下，該執行哪些程式碼\n",
        "\n",
        "一個 if 區塊結構如下，條件式是一個布林運算式，`if` 是必須的，`elif`（代表 else if）與 `else` 則可有可無：\n",
        "\n",
        "```\n",
        "if 條件式 1:\n",
        "    程式區塊 1\n",
        "elif 條件式 2:\n",
        "    程式區塊 2\n",
        "…\n",
        "elif 條件式 (n - 1):\n",
        "    程式區塊 (n - 1)\n",
        "else:\n",
        "    程式區塊 n\n",
        "\n",
        "```"
      ],
      "metadata": {
        "id": "DnYAV-8E8LpD"
      }
    },
    {
      "cell_type": "code",
      "source": [
        "height = 172\n",
        "\n",
        "if height >= 175:\n",
        "    level = \"high\"\n",
        "elif height >= 170:\n",
        "    level = \"medium\"\n",
        "else:\n",
        "    level = \"low\"\n",
        "\n",
        "print(level) # \"medium\""
      ],
      "metadata": {
        "id": "TLyEMjyt8iex"
      },
      "execution_count": null,
      "outputs": []
    },
    {
      "cell_type": "code",
      "source": [],
      "metadata": {
        "id": "6HVQeZ9s8j65"
      },
      "execution_count": null,
      "outputs": []
    },
    {
      "cell_type": "markdown",
      "source": [
        "某些時候我們可將 if else 寫成單行，例如：依據條件對變數做不同的指派。這樣讓程式碼看起來更簡潔"
      ],
      "metadata": {
        "id": "uUUFXtba9s7q"
      }
    },
    {
      "cell_type": "code",
      "source": [
        "score = 58\n",
        "\n",
        "if score >= 60:\n",
        "    result = \"success\"\n",
        "else:\n",
        "    result = \"failed\"\n",
        "\n",
        "print(result) # \"failed\"\n",
        "\n",
        "result = \"success\" if score >= 60 else \"failed\"\n",
        "\n",
        "print(result) # \"failed\""
      ],
      "metadata": {
        "id": "AtshXQAP96Nw"
      },
      "execution_count": null,
      "outputs": []
    },
    {
      "cell_type": "code",
      "source": [],
      "metadata": {
        "id": "r43A8qXq977h"
      },
      "execution_count": null,
      "outputs": []
    },
    {
      "cell_type": "markdown",
      "source": [
        "### Python 的布林運算"
      ],
      "metadata": {
        "id": "xXKxoY0X-djb"
      }
    },
    {
      "cell_type": "markdown",
      "source": [
        "在 Python 中，條件式的型別不只能用 bool 型別，大多數的 Python 物件都可以當作布林值來用，例如：\n",
        "- `0`、`0.0`：False，其他數字：True\n",
        "- `“”`（empty str）：False，其他 str：True\n",
        "- `[]`（empty list）：False，其他 list：True\n",
        "- `()`（empty tuple）：False，其他 tuple：True\n",
        "- `{}`（empty dict）：False，其他 dict：True\n",
        "- `None`：False\n"
      ],
      "metadata": {
        "id": "9J-aMX0D-fP1"
      }
    },
    {
      "cell_type": "code",
      "source": [
        "if 0:\n",
        "    print(\"0 will NOT be executed\")\n",
        "if 3:\n",
        "    print(\"3 will be executed\")\n",
        "if []:\n",
        "    print(\"[] will NOT be executed\")\n",
        "if [0]:\n",
        "    print(\"[0] will be executed\")\n",
        "if None:\n",
        "    print(\"None will NOT be executed\")"
      ],
      "metadata": {
        "id": "IQnTRnu-_tri"
      },
      "execution_count": null,
      "outputs": []
    },
    {
      "cell_type": "markdown",
      "source": [
        "如果不確定倒底會被當作 True 還是 False，可以使用 `bool()` 來確認該物件的布林值為 True 還是 False"
      ],
      "metadata": {
        "id": "u2DOFJ3K_2pa"
      }
    },
    {
      "cell_type": "code",
      "source": [
        "print(bool(0)) # False\n",
        "print(bool(3)) # True\n",
        "print(bool([])) # False\n",
        "print(bool([0])) # True\n",
        "print(bool(None)) # False"
      ],
      "metadata": {
        "id": "5hcjEeuO_-ck"
      },
      "execution_count": null,
      "outputs": []
    },
    {
      "cell_type": "markdown",
      "source": [
        "使用比較運算符號來比較物件的值，會產生 True 或 False，包含 `<`、`<=`、`>`、`>=`、`==`、`!=` 等"
      ],
      "metadata": {
        "id": "P1Y61vVrANyz"
      }
    },
    {
      "cell_type": "code",
      "source": [
        "if 3 < 1:\n",
        "    print(\"3 < 1 will NOT be executed\")\n",
        "if 3 <= 3:\n",
        "    print(\"3 <= 3 will be executed\")\n",
        "if 87 == 78:\n",
        "    print(\"87 == 78 will NOT be executed\")\n",
        "if 87 != 78:\n",
        "    print(\"87 != 78 will be executed\")"
      ],
      "metadata": {
        "id": "dLzMtkq0AwIB"
      },
      "execution_count": null,
      "outputs": []
    },
    {
      "cell_type": "markdown",
      "source": [
        "`in` 與 `not in` 也會產生 True 或 False，是來測試序列（list、str、dict 等）中是否有某個成員"
      ],
      "metadata": {
        "id": "f3nMu0oGA_mq"
      }
    },
    {
      "cell_type": "code",
      "source": [
        "names = [\"Biden\", \"Su\"]\n",
        "\n",
        "if \"Biden\" in names:\n",
        "    print(\"Biden in Will be executed\")\n",
        "if \"Trump\" in names:\n",
        "    print(\"Trump in will NOT be executed\")\n",
        "if \"Trump\" not in names:\n",
        "    print(\"Trump not in will be executed\")"
      ],
      "metadata": {
        "id": "EwSKqb_0BMEr"
      },
      "execution_count": null,
      "outputs": []
    },
    {
      "cell_type": "markdown",
      "source": [
        "還有一種 `is` 與 `is not` 來測試兩個物件是否相同（兩個個物件 reference 到同一個物件），一樣會產生 True 或 False。\n",
        "\n",
        "這種比較少用，通常只會用在測試變數是否為 `None`，其他大部分情況會用 `==`、`!=` 來比較物件的**值**是否相同（兩者的具體差別，有興趣了解者可以參考[這份連結](https://stackoverflow.com/questions/132988/is-there-a-difference-between-and-is)）"
      ],
      "metadata": {
        "id": "tunT-fPxBjkI"
      }
    },
    {
      "cell_type": "markdown",
      "source": [
        "這張圖是下面範例的示意：\n",
        "![image.png](data:image/png;base64,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)"
      ],
      "metadata": {
        "id": "0OapViHXDR5Y"
      }
    },
    {
      "cell_type": "code",
      "source": [
        "numbers_x = [123, 456]\n",
        "numbers_y = numbers_x\n",
        "numbers_z = [123, 456]\n",
        "\n",
        "print(numbers_x == numbers_y) # True\n",
        "print(numbers_x == numbers_z) # True\n",
        "print(numbers_x is numbers_y) # True\n",
        "print(numbers_x is numbers_z) # False"
      ],
      "metadata": {
        "id": "s3XSt0oICfcc"
      },
      "execution_count": null,
      "outputs": []
    },
    {
      "cell_type": "markdown",
      "source": [
        "如果需要更多的邏輯判斷，可以用 `and`、`or`、`not` 組成更複雜的布論運算式，必要時可以搭配小括號來確保邏輯是對的"
      ],
      "metadata": {
        "id": "3O_E65cpEKeu"
      }
    },
    {
      "cell_type": "code",
      "source": [
        "if 3 < 10 and 78 < 87:\n",
        "    print(\"3 < 10 and 78 < 87 will be executed\")\n",
        "if 3 < 10 and 78 > 87:\n",
        "    print(\"3 < 10 and 78 > 87 will NOT be executed\")\n",
        "if 3 < 10 or 78 > 87:\n",
        "    print(\"3 < 10 or 78 > 87 will be executed\")\n",
        "if (not 3 < 10) or 78 > 87:\n",
        "    print(\"(not 3 < 10) or 78 > 87 will NOT be executed\")"
      ],
      "metadata": {
        "id": "tfG_9h05EYcB"
      },
      "execution_count": null,
      "outputs": []
    },
    {
      "cell_type": "markdown",
      "source": [
        "### while 迴圈"
      ],
      "metadata": {
        "id": "P3a71XdOEx1T"
      }
    },
    {
      "cell_type": "markdown",
      "source": [
        "while 是讓某些程式碼反覆執行的語法，其結構如下，只要條件式為 True，就會反覆執行主體程式區塊，直到條件式變為 False\n",
        "\n",
        "```\n",
        "while 條件式:\n",
        "    主體程式區塊\n",
        "```"
      ],
      "metadata": {
        "id": "mnSzjhtSE1lG"
      }
    },
    {
      "cell_type": "code",
      "source": [
        "total = 0\n",
        "number = 10\n",
        "\n",
        "while number > 0:\n",
        "    print(\"Number:\", number)\n",
        "\n",
        "    total = total + number\n",
        "    number = number - 1\n",
        "\n",
        "print(\"Total:\", total) # 55 (10 + 9 + ... + 1)"
      ],
      "metadata": {
        "id": "1A2U_inIFf7B"
      },
      "execution_count": null,
      "outputs": []
    },
    {
      "cell_type": "code",
      "source": [],
      "metadata": {
        "id": "xGwUmj5hFgcl"
      },
      "execution_count": null,
      "outputs": []
    },
    {
      "cell_type": "markdown",
      "source": [
        "### break 與 continue"
      ],
      "metadata": {
        "id": "IENI_TVZF6Qv"
      }
    },
    {
      "cell_type": "markdown",
      "source": [
        "在 while 裡面遇到 `break`，會立即中止 while 迴圈"
      ],
      "metadata": {
        "id": "aRNBTjOZF-ha"
      }
    },
    {
      "cell_type": "code",
      "source": [
        "total = 0\n",
        "number = 10\n",
        "\n",
        "while True:\n",
        "    if number <= 0:\n",
        "        break\n",
        "\n",
        "    print(\"Number:\", number)\n",
        "\n",
        "    total = total + number\n",
        "    number = number - 1\n",
        "\n",
        "print(\"Total:\", total) # 55 (10 + 9 + ... + 1)"
      ],
      "metadata": {
        "id": "e88ssyp4GA1d"
      },
      "execution_count": null,
      "outputs": []
    },
    {
      "cell_type": "code",
      "source": [],
      "metadata": {
        "id": "u9oe95KYGdbq"
      },
      "execution_count": null,
      "outputs": []
    },
    {
      "cell_type": "markdown",
      "source": [
        "在 while 裡面遇到 `continue`，則會跳過 continue 後面的程式碼，回到 while 條件式繼續執行下一次迴圈"
      ],
      "metadata": {
        "id": "6Lt6tqFuGhBK"
      }
    },
    {
      "cell_type": "code",
      "source": [
        "number = 10\n",
        "\n",
        "while number > 0:\n",
        "    number = number - 1\n",
        "\n",
        "    if number % 2 == 0:\n",
        "        continue\n",
        "\n",
        "    print(number)"
      ],
      "metadata": {
        "id": "qQ-KSd1pGs2o"
      },
      "execution_count": null,
      "outputs": []
    },
    {
      "cell_type": "code",
      "source": [],
      "metadata": {
        "id": "YCkfBQQyGyBt"
      },
      "execution_count": null,
      "outputs": []
    },
    {
      "cell_type": "markdown",
      "source": [
        "### for 迴圈"
      ],
      "metadata": {
        "id": "u3HhHmkrG5aw"
      }
    },
    {
      "cell_type": "markdown",
      "source": [
        "for 是一種讓某些程式碼反覆執行的語法，Python 跟傳統程式語言不一樣，Python 的 for 迴圈不需要索引，而是直接走訪物件中的元素，其結構如下：\n",
        "\n",
        "```\n",
        "for item in 可走訪物件:\n",
        "    主體程式區塊\n",
        "```"
      ],
      "metadata": {
        "id": "Nv8rhJYmHDP6"
      }
    },
    {
      "cell_type": "markdown",
      "source": [
        "![image.png](data:image/png;base64,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)"
      ],
      "metadata": {
        "id": "VnOLSe_tHfqh"
      }
    },
    {
      "cell_type": "markdown",
      "source": [
        "for 支援的可走訪物件包含：list、tuple、set、str、generator、enumerate() … 等，其中 list 是最常用的"
      ],
      "metadata": {
        "id": "oFEYiPT4HgrH"
      }
    },
    {
      "cell_type": "code",
      "source": [
        "targets = [5566, 94, 87]\n",
        "for target in targets:\n",
        "    print(target)"
      ],
      "metadata": {
        "id": "1Fbf-SXQH5nt"
      },
      "execution_count": null,
      "outputs": []
    },
    {
      "cell_type": "code",
      "source": [],
      "metadata": {
        "id": "FceiY04RH8Th"
      },
      "execution_count": null,
      "outputs": []
    },
    {
      "cell_type": "code",
      "source": [
        "words = (\"I\", \"love\", \"AI\")\n",
        "for word in words:\n",
        "    print(word)"
      ],
      "metadata": {
        "id": "Yw04tT6VH_Tj"
      },
      "execution_count": null,
      "outputs": []
    },
    {
      "cell_type": "code",
      "source": [],
      "metadata": {
        "id": "AE-XNEJHIIvH"
      },
      "execution_count": null,
      "outputs": []
    },
    {
      "cell_type": "markdown",
      "source": [
        "break 與 continue 也可以用在 for 迴圈，行為基本上跟 while 迴圈一樣"
      ],
      "metadata": {
        "id": "VWQPORqmLAnC"
      }
    },
    {
      "cell_type": "code",
      "source": [
        "numbers = [1, 2, 3, 4, 5, 6, 7, 8, 9, 10]\n",
        "for number in numbers:\n",
        "    print(number)\n",
        "\n",
        "    if number >= 5:\n",
        "        break"
      ],
      "metadata": {
        "id": "CPvKG36rLFqM"
      },
      "execution_count": null,
      "outputs": []
    },
    {
      "cell_type": "code",
      "source": [],
      "metadata": {
        "id": "8lqcQMEKLKiE"
      },
      "execution_count": null,
      "outputs": []
    },
    {
      "cell_type": "code",
      "source": [
        "numbers = [1, 2, 3, 4, 5, 6, 7, 8, 9, 10]\n",
        "for number in numbers:\n",
        "    if number % 2 == 0:\n",
        "        continue\n",
        "\n",
        "    print(number)"
      ],
      "metadata": {
        "id": "jZN_o2VvLXV9"
      },
      "execution_count": null,
      "outputs": []
    },
    {
      "cell_type": "code",
      "source": [],
      "metadata": {
        "id": "9D2MrHoHLbkR"
      },
      "execution_count": null,
      "outputs": []
    },
    {
      "cell_type": "markdown",
      "source": [
        "### range()"
      ],
      "metadata": {
        "id": "BEO-MXL-IXUO"
      }
    },
    {
      "cell_type": "markdown",
      "source": [
        "當我們需要類似索引操作的時候，使用 `range()` 函式會相當方便，例如以下範例會產生一個從 0 到 9（不包含 10）的可走訪物件"
      ],
      "metadata": {
        "id": "ILpyBwLuIZOr"
      }
    },
    {
      "cell_type": "code",
      "source": [
        "total = 0\n",
        "\n",
        "for number in range(10):\n",
        "    print(\"Number:\", number)\n",
        "    total = total + number\n",
        "\n",
        "print(\"Total:\", total) # 45 (0 + 1 + ... + 9)"
      ],
      "metadata": {
        "id": "5vngBksrJu2t"
      },
      "execution_count": null,
      "outputs": []
    },
    {
      "cell_type": "code",
      "source": [],
      "metadata": {
        "id": "P4o2bUm-J0Vw"
      },
      "execution_count": null,
      "outputs": []
    },
    {
      "cell_type": "markdown",
      "source": [
        "如果 `range()` 填了兩個數值，則範圍會從第一個數值開始（含）到第二個數值（不含）"
      ],
      "metadata": {
        "id": "b_H167b6J2fA"
      }
    },
    {
      "cell_type": "code",
      "source": [
        "total = 0\n",
        "\n",
        "for number in range(4, 10):\n",
        "    print(\"Number:\", number)\n",
        "    total = total + number\n",
        "\n",
        "print(\"Total:\", total) # 39 (4 + 5 + ... + 9)"
      ],
      "metadata": {
        "id": "PtXG1uEqKT3A"
      },
      "execution_count": null,
      "outputs": []
    },
    {
      "cell_type": "code",
      "source": [],
      "metadata": {
        "id": "0xqkprKsKaDw"
      },
      "execution_count": null,
      "outputs": []
    },
    {
      "cell_type": "markdown",
      "source": [
        "如果 `range()` 填了第三個數值，則第三個數值代表一次會跳多少"
      ],
      "metadata": {
        "id": "_hTh4gyIKawH"
      }
    },
    {
      "cell_type": "code",
      "source": [
        "total = 0\n",
        "\n",
        "for number in range(4, 10, 2):\n",
        "    print(\"Number:\", number)\n",
        "    total = total + number\n",
        "\n",
        "print(\"Total:\", total) # 18 (4 + 6 + 8)"
      ],
      "metadata": {
        "id": "H2qXy9rmKc9S"
      },
      "execution_count": null,
      "outputs": []
    },
    {
      "cell_type": "code",
      "source": [],
      "metadata": {
        "id": "_YtSnDzdKoUI"
      },
      "execution_count": null,
      "outputs": []
    },
    {
      "cell_type": "markdown",
      "source": [
        "`range()` 看起來跟 list 很像，但背後運算不同：\n",
        "- list 裡面的 element 必須先創建好，再讓 for 迴圈一個一個走訪\n",
        "- `range()` 的 element，則是每次走訪時動態產生的，可以省下很多記憶體使用量"
      ],
      "metadata": {
        "id": "EDVP4QJlKssA"
      }
    },
    {
      "cell_type": "markdown",
      "source": [
        "### for 迴圈與 tuple unpacking"
      ],
      "metadata": {
        "id": "J-9s2Ss1LlvL"
      }
    },
    {
      "cell_type": "markdown",
      "source": [
        "當for 迴圈的走訪物件的元素為 tuple 時，可以搭配使用 tuple unpacking，會讓程式碼看起來更容易讀\n",
        "\n",
        "第一個範例不使用 tuple unpacking，第二個範例則是有使用"
      ],
      "metadata": {
        "id": "YMpBDvKrLoYM"
      }
    },
    {
      "cell_type": "code",
      "source": [
        "persons = [(\"Biden\", 80), (\"Su\", 18)]\n",
        "\n",
        "for person in persons:\n",
        "    print(\"Name={}, Age={}\".format(person[0], person[1]))"
      ],
      "metadata": {
        "id": "M4vZfRXsMJkR"
      },
      "execution_count": null,
      "outputs": []
    },
    {
      "cell_type": "code",
      "source": [],
      "metadata": {
        "id": "V2_MYBNPMSLr"
      },
      "execution_count": null,
      "outputs": []
    },
    {
      "cell_type": "code",
      "source": [
        "persons = [(\"Biden\", 80), (\"Su\", 18)]\n",
        "\n",
        "for name, age in persons:\n",
        "    print(\"Name={}, Age={}\".format(name, age))"
      ],
      "metadata": {
        "id": "hEifcUmKMN6V"
      },
      "execution_count": null,
      "outputs": []
    },
    {
      "cell_type": "code",
      "source": [],
      "metadata": {
        "id": "Xm4zVa_NMSg1"
      },
      "execution_count": null,
      "outputs": []
    },
    {
      "cell_type": "markdown",
      "source": [
        "### enumerate()"
      ],
      "metadata": {
        "id": "CfzQ2MA3MYoo"
      }
    },
    {
      "cell_type": "markdown",
      "source": [
        "`enumerate()` 將 list、tuple 的 element 內的元素取出，並且加上該 element 的索引編號\n",
        "\n",
        "第一個範例不使用 `enumerate()`，第二個範例則是有使用"
      ],
      "metadata": {
        "id": "UfQMlI85Mbwg"
      }
    },
    {
      "cell_type": "code",
      "source": [
        "names = [\"Biden\", \"Su\"]\n",
        "\n",
        "for index in range(len(names)):\n",
        "    print(\"Index={}, Name={}\".format(index, names[index]))"
      ],
      "metadata": {
        "id": "eteHX_mlMa9Y"
      },
      "execution_count": null,
      "outputs": []
    },
    {
      "cell_type": "code",
      "source": [],
      "metadata": {
        "id": "ojj_SzGCM0Q7"
      },
      "execution_count": null,
      "outputs": []
    },
    {
      "cell_type": "code",
      "source": [
        "names = [\"Biden\", \"Su\"]\n",
        "\n",
        "for index, name in enumerate(names):\n",
        "    print(\"Index={}, Name={}\".format(index, name))"
      ],
      "metadata": {
        "id": "ckT84mB9M0ly"
      },
      "execution_count": null,
      "outputs": []
    },
    {
      "cell_type": "code",
      "source": [],
      "metadata": {
        "id": "Od88cmzTM2p3"
      },
      "execution_count": null,
      "outputs": []
    },
    {
      "cell_type": "markdown",
      "source": [
        "### zip()"
      ],
      "metadata": {
        "id": "zJaJLviRNL-9"
      }
    },
    {
      "cell_type": "markdown",
      "source": [
        "`zip()` 將兩個可走訪的物件結合起來\n",
        "\n",
        "第一個範例不使用 `zip()`，第二個範例則是有使用"
      ],
      "metadata": {
        "id": "LGmETpZyNNR_"
      }
    },
    {
      "cell_type": "code",
      "source": [
        "names = [\"Biden\", \"Su\"]\n",
        "ages = [80, 18]\n",
        "\n",
        "for index in range(len(ages)):\n",
        "    print(\"Name={}, Age={}\".format(names[index], ages[index]))"
      ],
      "metadata": {
        "id": "ki95NECzNZLc"
      },
      "execution_count": null,
      "outputs": []
    },
    {
      "cell_type": "code",
      "source": [],
      "metadata": {
        "id": "B-8l_YI-Na3U"
      },
      "execution_count": null,
      "outputs": []
    },
    {
      "cell_type": "code",
      "source": [
        "names = [\"Biden\", \"Su\"]\n",
        "ages = [80, 18]\n",
        "\n",
        "for name, age in zip(names, ages):\n",
        "    print(\"Name={}, Age={}\".format(name, age))"
      ],
      "metadata": {
        "id": "ZlP1MFAxNdAr"
      },
      "execution_count": null,
      "outputs": []
    },
    {
      "cell_type": "code",
      "source": [],
      "metadata": {
        "id": "AB4XOk68NfDy"
      },
      "execution_count": null,
      "outputs": []
    },
    {
      "cell_type": "markdown",
      "source": [
        "### Comprehension"
      ],
      "metadata": {
        "id": "o1n0c2yGNlMW"
      }
    },
    {
      "cell_type": "markdown",
      "source": [
        "Comprehension 可以基於某個 list，再建立新的 list 或字典。這是 Python 相當好用的功能，強烈建議大家學起來\n",
        "\n",
        "例如以下兩個範例是計算 list 中每個 element 的平方，並且儲存結果在另一個 list 中。第一個範例沒有使用 Comprehension，第二個則是有"
      ],
      "metadata": {
        "id": "Z7p59qs9Nm_4"
      }
    },
    {
      "cell_type": "code",
      "source": [
        "numbers = [1, 2, 3, 4]\n",
        "\n",
        "squared_numbers = []\n",
        "for number in numbers:\n",
        "    squared_numbers.append(number * number)\n",
        "\n",
        "print(squared_numbers) # [1, 4, 9, 16]"
      ],
      "metadata": {
        "id": "vBBwVZC0O1Tw"
      },
      "execution_count": null,
      "outputs": []
    },
    {
      "cell_type": "code",
      "source": [],
      "metadata": {
        "id": "8C2-QvRIO330"
      },
      "execution_count": null,
      "outputs": []
    },
    {
      "cell_type": "code",
      "source": [
        "numbers = [1, 2, 3, 4]\n",
        "\n",
        "squared_numbers = [number * number for number in numbers]\n",
        "\n",
        "print(squared_numbers) # [1, 4, 9, 16]"
      ],
      "metadata": {
        "id": "Y-U04D3JO4Hh"
      },
      "execution_count": null,
      "outputs": []
    },
    {
      "cell_type": "markdown",
      "source": [
        "Comprehension 甚至可以再加上 if 判斷"
      ],
      "metadata": {
        "id": "0nEU5KarPBcQ"
      }
    },
    {
      "cell_type": "code",
      "source": [
        "numbers = [1, 2, 3, 4]\n",
        "\n",
        "squared_numbers = [number * number for number in numbers if number % 2 == 0]\n",
        "\n",
        "print(squared_numbers) # [4, 16]"
      ],
      "metadata": {
        "id": "kBdXJj7hO5un"
      },
      "execution_count": null,
      "outputs": []
    },
    {
      "cell_type": "code",
      "source": [],
      "metadata": {
        "id": "IRKZbl2BPKyZ"
      },
      "execution_count": null,
      "outputs": []
    },
    {
      "cell_type": "markdown",
      "source": [
        "除了產生 list，Comprehension還可以產生字典，如以下範例"
      ],
      "metadata": {
        "id": "OuFqn7uuPVpY"
      }
    },
    {
      "cell_type": "code",
      "source": [
        "numbers = [1, 2, 3, 4]\n",
        "\n",
        "squared_dict = {number: number * number for number in numbers}\n",
        "\n",
        "print(squared_dict) # {1: 1, 2: 4, 3: 9, 4: 16}"
      ],
      "metadata": {
        "id": "pVzWR5YsPeOb"
      },
      "execution_count": null,
      "outputs": []
    },
    {
      "cell_type": "code",
      "source": [],
      "metadata": {
        "id": "PtLo0cbmPfel"
      },
      "execution_count": null,
      "outputs": []
    },
    {
      "cell_type": "markdown",
      "source": [
        "### Generator"
      ],
      "metadata": {
        "id": "Nifu7TZUPsPy"
      }
    },
    {
      "cell_type": "markdown",
      "source": [
        "基於某個 list，來產生一個 generator 物件，而這個 generator 可以用來做 for 迴圈的走訪，並且跟 `range()` 類似，資料不是事先就全部產生好的，所以可以省下許多記憶體空間"
      ],
      "metadata": {
        "id": "-kh1GcFYPtz_"
      }
    },
    {
      "cell_type": "code",
      "source": [
        "numbers = [1, 2, 3, 4]\n",
        "\n",
        "squared_numbers = (number * number for number in numbers)\n",
        "for squared_number in squared_numbers:\n",
        "    print(squared_number)"
      ],
      "metadata": {
        "id": "usjORiRQP78C"
      },
      "execution_count": null,
      "outputs": []
    },
    {
      "cell_type": "markdown",
      "source": [
        "## V. 應用練習題"
      ],
      "metadata": {
        "id": "8vcKN_9OBOoJ"
      }
    },
    {
      "cell_type": "markdown",
      "source": [
        "### 練習題（一）：愛的情書"
      ],
      "metadata": {
        "id": "PWcIyrC-Bl8U"
      }
    },
    {
      "cell_type": "markdown",
      "source": [
        "我們今天有一封情書的內容（`letter`），想要嘗試做以下分析與修改：\n",
        "1. 這封信的第 87 個字元為何？\n",
        "2. 這封信的第 2 到第 6 個字元形成的字串為何？\n",
        "3. 這封信總共有幾個字元？\n",
        "4. 如果將這封信都改成大寫，內容會變成何種樣子？\n",
        "5. 如果將我（`\"I\"`）替換成古英文的書寫方式（`\"ic\"`），信的內容會變成何種樣子？\n",
        "6. 如果將不考慮空白（`\" \"`）及標點符號（`\",\"`, `\".\"`），則這封信總共有幾個字元？\n",
        "    - 計算方式：將信件的空白及標點符號都去掉後，再算字元的數量\n",
        "7. 這封信總共用了幾*種*單字？（區分大小寫）\n",
        "    - 計算方式：將信件的標點符號（`\",\"`, `\".\"`）都去掉後，用空白（\" \"）分割出所有單字，再算總共有幾種單字\n",
        "\n",
        "[提示] 你可能需要了解以下功能的運作方式：\n",
        "- 字串的 index 與 slicing\n",
        "- `len()`\n",
        "- `str.upper()`\n",
        "- `str.replace()`\n",
        "- `str.split()`\n",
        "- 將 *list* 轉成 *set*\n",
        "\n",
        "附註：這封信參考自[這裡](https://dating.lovetoknow.com/Passionate_Love_Letters)"
      ],
      "metadata": {
        "id": "jhWjbWdaKAAY"
      }
    },
    {
      "cell_type": "code",
      "source": [
        "letter = \"I never knew how joyous life could be until I saw your face. My heart leaps like a hummingbird in flight every time I see you. This is something I have never felt before, and it is you that inspires it.\""
      ],
      "metadata": {
        "id": "Cq2DMzFEjZCv"
      },
      "execution_count": null,
      "outputs": []
    },
    {
      "cell_type": "code",
      "source": [
        "#@title 1. 這封信的第 87 個字元為何？\n",
        "eighty_seventh_ch = letter[87]\n",
        "print(\"The 87-th character is\", eighty_seventh_ch) # Expected output: \"i\""
      ],
      "metadata": {
        "id": "3Abuor6BnNc1"
      },
      "execution_count": null,
      "outputs": []
    },
    {
      "cell_type": "code",
      "source": [
        "#@title 2. 這封信的第 2 到第 6 個字元形成的字串為何？\n",
        "second_sixth_str = \"\" # PLEASE MODIFY\n",
        "print(\"The sub-string from 2nd to 6th elements =\", second_sixth_str) # Expected output: \"never\""
      ],
      "metadata": {
        "id": "pJrkgRAJmqnn"
      },
      "execution_count": null,
      "outputs": []
    },
    {
      "cell_type": "code",
      "source": [
        "#@title 參考解答\n",
        "second_sixth_str = letter[2:6+1] # PLEASE MODIFY\n",
        "print(\"The sub-string from 2nd to 6th elements =\", second_sixth_str) # Expected output: \"never\""
      ],
      "metadata": {
        "cellView": "form",
        "id": "v4OuNqPJDSnT"
      },
      "execution_count": null,
      "outputs": []
    },
    {
      "cell_type": "code",
      "source": [
        "#@title 3. 這封信總共有幾個字元？\n",
        "letter_len = 0 # PLEASE MODIFY\n",
        "print(\"Length of the letter =\", letter_len) # Expected output: 202"
      ],
      "metadata": {
        "id": "zh412luLldg3"
      },
      "execution_count": null,
      "outputs": []
    },
    {
      "cell_type": "code",
      "source": [
        "#@title 參考解答\n",
        "letter_len = len(letter) # PLEASE MODIFY\n",
        "print(\"Length of the letter =\", letter_len) # Expected output: 202"
      ],
      "metadata": {
        "cellView": "form",
        "id": "ctZ_tbHWDvd7"
      },
      "execution_count": null,
      "outputs": []
    },
    {
      "cell_type": "code",
      "source": [
        "#@title 4. 如果將這封信都改成大寫，內容會變成何種樣子？\n",
        "letter_upper = \"\" # PLEASE MODIFY\n",
        "print(\"Uppercase version of the letter =\", letter_upper) # Expected output: \"I NEVER KNEW HOW JOYOUS LIFE COULD BE UNTIL I SAW YOUR FACE. MY HEART LEAPS LIKE A HUMMINGBIRD IN FLIGHT EVERY TIME I SEE YOU. THIS IS SOMETHING I HAVE NEVER FELT BEFORE, AND IT IS YOU THAT INSPIRES IT.\""
      ],
      "metadata": {
        "id": "plnYSQwYp4pq"
      },
      "execution_count": null,
      "outputs": []
    },
    {
      "cell_type": "code",
      "source": [
        "#@title 參考解答\n",
        "letter_upper = letter.upper() # PLEASE MODIFY\n",
        "print(\"Uppercase version of the letter =\", letter_upper) # Expected output: \"I NEVER KNEW HOW JOYOUS LIFE COULD BE UNTIL I SAW YOUR FACE. MY HEART LEAPS LIKE A HUMMINGBIRD IN FLIGHT EVERY TIME I SEE YOU. THIS IS SOMETHING I HAVE NEVER FELT BEFORE, AND IT IS YOU THAT INSPIRES IT.\""
      ],
      "metadata": {
        "cellView": "form",
        "id": "V3UM071jD7Ue"
      },
      "execution_count": null,
      "outputs": []
    },
    {
      "cell_type": "code",
      "source": [
        "#@title 5. 如果將我（`\"I\"`）替換成古英文的書寫方式（`\"ic\"`），信的內容會變成何種樣子？\n",
        "letter_old = \"\" # PLEASE MODIFY\n",
        "print(\"Old english style =\", letter_old) # Expected output: \"ic never knew how joyous life could be until ic saw your face. My heart leaps like a hummingbird in flight every time ic see you. This is something ic have never felt before, and it is you that inspires it.\""
      ],
      "metadata": {
        "id": "PlUuSFn9kRJM"
      },
      "execution_count": null,
      "outputs": []
    },
    {
      "cell_type": "code",
      "source": [
        "#@title 參考解答\n",
        "letter_old = letter.replace(\"I\", \"ic\") # PLEASE MODIFY\n",
        "print(\"Old english style =\", letter_old) # Expected output: \"ic never knew how joyous life could be until ic saw your face. My heart leaps like a hummingbird in flight every time ic see you. This is something ic have never felt before, and it is you that inspires it.\""
      ],
      "metadata": {
        "cellView": "form",
        "id": "yW03eHBgEV5h"
      },
      "execution_count": null,
      "outputs": []
    },
    {
      "cell_type": "code",
      "source": [
        "#@title 6. 如果將不考慮空白（`\" \"`）及標點符號（`\",\"`, `\".\"`），則這封信總共有幾個字元？\n",
        "letter_pure = \"\" # PLEASE MODIFY\n",
        "letter_pure_len = len(letter_pure) # PLEASE MODIFY\n",
        "print(\"Pure length of the letter =\", letter_pure_len) # Expected output: 158"
      ],
      "metadata": {
        "id": "wRyA7XDXo883"
      },
      "execution_count": null,
      "outputs": []
    },
    {
      "cell_type": "code",
      "source": [
        "#@title 參考解答\n",
        "letter_pure = letter.replace(\" \", \"\").replace(\",\", \"\").replace(\".\", \"\") # PLEASE MODIFY\n",
        "letter_pure_len = len(letter_pure) # PLEASE MODIFY\n",
        "print(\"Pure length of the letter =\", letter_pure_len) # Expected output: 158"
      ],
      "metadata": {
        "cellView": "form",
        "id": "-DwPGs3YFfYH"
      },
      "execution_count": null,
      "outputs": []
    },
    {
      "cell_type": "code",
      "source": [
        "#@title 這封信總共用了幾*種*單字？（區分大小寫）\n",
        "# PLEASE MODIFY CODE BELOW (need more than one line of code)\n",
        "num_unique_words = 0\n",
        "print(\"Number of unique words =\", num_unique_words) # Expected output: 34"
      ],
      "metadata": {
        "id": "MIZiGQlYu5Pm"
      },
      "execution_count": null,
      "outputs": []
    },
    {
      "cell_type": "code",
      "source": [
        "#@title 參考解答\n",
        "# PLEASE MODIFY CODE BELOW (need more than one line of code)\n",
        "letter_replaced = letter.replace(\",\", \"\").replace(\".\", \"\")\n",
        "words = letter_replaced.split(\" \")\n",
        "num_unique_words = len(set(words))\n",
        "print(\"Number of unique words =\", num_unique_words) # Expected output: 34"
      ],
      "metadata": {
        "cellView": "form",
        "id": "Iw5d4JtrGyZ2"
      },
      "execution_count": null,
      "outputs": []
    },
    {
      "cell_type": "markdown",
      "source": [
        "### 練習題（二）：今早我想來點..."
      ],
      "metadata": {
        "id": "1Uj2x8xb6wQJ"
      }
    },
    {
      "cell_type": "markdown",
      "source": [
        "某家早餐店分別在兩大知名外送平台：父龐德與巫婆姨上架。身為消費的我們，為了方便精打細算，將兩邊的商品價格分別由不同的字典儲存（`price_bond` 以及 `price_witch`），其中 key 為商品名稱，value 為商品單價。請試著得到：\n",
        "1. 父龐德的三明治（key: `sandwitch`）價格為多少？\n",
        "2. 父龐德的三明治比巫婆姨貴多少？\n",
        "3. 如果透過巫婆姨購買 1 份沙拉（*key*: `salad`）、2 份鬆餅（*key*: `pencake`） 、3 杯咖啡（*key*: `coffee`），含運費（*key*: `delivery`）總共多少元？\n",
        "4. 請列出所有在巫婆姨上架的餐點名稱（包含運費），儲存在一個 list 裡\n",
        "5. 如果將父龐德的所有餐點都各點一份，含運費總共是多少？\n",
        "6. 如果父龐德的運費改成 45 元，新的字典內容應該會是如何？\n",
        "\n",
        "[提示] 你可能要了解以下幾個功能的運作方式：\n",
        "- 字典的基本存取\n",
        "- `dict.keys()`\n",
        "- `dict.values()`\n",
        "- `sum()`"
      ],
      "metadata": {
        "id": "9HtmcYaUdjWC"
      }
    },
    {
      "cell_type": "code",
      "source": [
        "price_bond = {\n",
        "    \"sandwitch\": 55,\n",
        "    \"salad\": 85,\n",
        "    \"pencake\": 75,\n",
        "    \"coffee\": 45,\n",
        "    \"tea\": 20,\n",
        "    \"hotdog\": 25,\n",
        "    \"begal\": 55,\n",
        "    \"delivery\": 30,\n",
        "}\n",
        "\n",
        "price_witch = {\n",
        "    \"sandwitch\": 40,\n",
        "    \"salad\": 90,\n",
        "    \"pencake\": 65,\n",
        "    \"coffee\": 50,\n",
        "    \"tea\": 20,\n",
        "    \"hotdog\": 25,\n",
        "    \"begal\": 55,\n",
        "    \"delivery\": 29,\n",
        "}"
      ],
      "metadata": {
        "id": "pSIXP2-6_gBX"
      },
      "execution_count": null,
      "outputs": []
    },
    {
      "cell_type": "code",
      "source": [
        "#@title 1. 父龐德的三明治（key: `sandwitch`）價格為多少？\n",
        "sandwitch_bond_price = price_bond[\"sandwitch\"] \n",
        "print(\"The price of sandwitch for Bond =\", sandwitch_bond_price) # Expected output: 55"
      ],
      "metadata": {
        "id": "CKqfmc9KA5y8"
      },
      "execution_count": null,
      "outputs": []
    },
    {
      "cell_type": "code",
      "source": [
        "#@title 2. 父龐德的三明治比巫婆姨貴多少？\n",
        "sandwitch_diff = 0 # PLEASE MODIFY\n",
        "print(\"The difference of sandwitch price =\", sandwitch_diff) # Expected output: 15"
      ],
      "metadata": {
        "id": "t6X87DPH__Za"
      },
      "execution_count": null,
      "outputs": []
    },
    {
      "cell_type": "code",
      "source": [
        "#@title 參考解答\n",
        "sandwitch_diff = price_bond[\"sandwitch\"] - price_witch[\"sandwitch\"] # PLEASE MODIFY\n",
        "print(\"The difference of sandwitch price =\", sandwitch_diff) # Expected output: 15"
      ],
      "metadata": {
        "cellView": "form",
        "id": "ZJXwXqDnfGUi"
      },
      "execution_count": null,
      "outputs": []
    },
    {
      "cell_type": "code",
      "source": [
        "#@title 3. 如果透過巫婆姨購買 1 份沙拉（*key*: `salad`）、2 份鬆餅（*key*: `pencake`） 、3 杯咖啡（*key*: `coffee`），含運費（*key*: `delivery`）總共多少元？\n",
        "meal_price = 0 # PLEASE MODIFY\n",
        "print(\"The total price of the meal =\", meal_price) # Expected output: 399"
      ],
      "metadata": {
        "id": "ClkF2okXCePo"
      },
      "execution_count": null,
      "outputs": []
    },
    {
      "cell_type": "code",
      "source": [
        "#@title 參考解答\n",
        "meal_price = price_witch[\"salad\"] + price_witch[\"pencake\"] * 2 + price_witch[\"coffee\"] * 3 + price_witch[\"delivery\"] # PLEASE MODIFY\n",
        "print(\"The total price of the meal =\", meal_price) # Expected output: 399"
      ],
      "metadata": {
        "cellView": "form",
        "id": "rn3ODRM0fbNe"
      },
      "execution_count": null,
      "outputs": []
    },
    {
      "cell_type": "code",
      "source": [
        "#@title 4. 請列出所有在巫婆姨上架的餐點名稱（包含運費），儲存在一個 list 裡\n",
        "witch_items = [] # PLEASE MODIFY\n",
        "\n",
        "print(\"Items list of Witch:\", witch_items) # Expected output: ['sandwitch', 'salad', 'pencake', 'coffee', 'tea', 'hotdog', 'begal', 'delivery']"
      ],
      "metadata": {
        "id": "HOBHFJx_F51a"
      },
      "execution_count": null,
      "outputs": []
    },
    {
      "cell_type": "code",
      "source": [
        "#@title 參考解答\n",
        "witch_items = list(price_witch.keys()) # PLEASE MODIFY\n",
        "\n",
        "print(\"Items list of Witch:\", witch_items) # Expected output: ['sandwitch', 'salad', 'pencake', 'coffee', 'tea', 'hotdog', 'begal', 'delivery']"
      ],
      "metadata": {
        "cellView": "form",
        "id": "tVmrv5-zf4QH"
      },
      "execution_count": null,
      "outputs": []
    },
    {
      "cell_type": "code",
      "source": [
        "#@title 5. 如果將父龐德的所有餐點都各點一份，含運費總共是多少？\n",
        "bond_all_price = 0 # PLEASE MODIFY\n",
        "print(\"The all price of Bond =\", bond_all_price) # Expected output: 390"
      ],
      "metadata": {
        "id": "W_7rPRh5EPlC"
      },
      "execution_count": null,
      "outputs": []
    },
    {
      "cell_type": "code",
      "source": [
        "#@title 參考解答\n",
        "bond_all_price = sum(price_bond.values()) # PLEASE MODIFY\n",
        "print(\"The all price of Bond =\", bond_all_price) # Expected output: 390"
      ],
      "metadata": {
        "cellView": "form",
        "id": "XGl1MJQOgTmr"
      },
      "execution_count": null,
      "outputs": []
    },
    {
      "cell_type": "code",
      "source": [
        "#@title 6. 如果父龐德的運費改成 45 元，新的字典內容應該會是如何？\n",
        "price_bond_new = price_bond.copy() # Make a copy of price_bond\n",
        "price_bond_new # PLEASE MODIFY\n",
        "print(\"The new price dict of Bond:\", price_bond_new) # Expected output:  {'sandwitch': 55, 'salad': 85, 'pencake': 75, 'coffee': 45, 'tea': 20, 'hotdog': 25, 'begal': 55, 'delivery': 45}"
      ],
      "metadata": {
        "id": "egodW3ItGlwL"
      },
      "execution_count": null,
      "outputs": []
    },
    {
      "cell_type": "code",
      "source": [
        "#@title 參考解答\n",
        "price_bond_new = price_bond.copy() # Make a copy of price_bond\n",
        "price_bond_new[\"delivery\"] = 45 # PLEASE MODIFY\n",
        "print(\"The new price dict of Bond:\", price_bond_new) # Expected output:  {'sandwitch': 55, 'salad': 85, 'pencake': 75, 'coffee': 45, 'tea': 20, 'hotdog': 25, 'begal': 55, 'delivery': 45}"
      ],
      "metadata": {
        "id": "kXzyRKqDgwPf"
      },
      "execution_count": null,
      "outputs": []
    },
    {
      "cell_type": "markdown",
      "source": [
        "### 練習題（三）：視力檢查"
      ],
      "metadata": {
        "id": "-2t89PP2389C"
      }
    },
    {
      "cell_type": "markdown",
      "source": [
        "某學校的所有學生做了視力檢查，並將每位同學的視力記錄下來（`visions`）。我們想從中了解以下資訊：\n",
        "1. 如果我們定義視力大於等於 1.0 為好視力（`\"good_vision\"`），否則為差視力（`\"bad_vision\"`），那第 3 位同學是屬於哪種？\n",
        "2. 同上題，但請將判斷式改成一行的版本\n",
        "3. 如果視力小於等於 0.8 要配戴眼鏡，眼鏡價格：視力 0.5（不含） 到 0.8（含）區間為 1,200 元，0.5（含）以下為 3,500 元，那請問第 6 位同學的眼鏡價格為多少？\n",
        "4. 是否有視力剛好為 1.5 的人？\n",
        "5. 請用 for 迴圈的方法，算出所有人的平均視力\n",
        "6. 請用 while 迴圈的方法，算出所有人的平均視力\n",
        "7. 屬於好視力的總共有多少人？\n",
        "8. 請列出所有屬於好視力的順序編號，編號從 0 開始計算\n",
        "9. 同上題，但請用 Comprehension 的方式寫\n",
        "\n",
        "[提示] 你可能要了解以下幾個功能的運作方式：\n",
        "- if 的基本觀念\n",
        "- list 的 `in` 判斷\n",
        "- for 的基本觀念\n",
        "- while 的基本觀念\n",
        "- `enumerate()`\n",
        "- list 的 Comprehension"
      ],
      "metadata": {
        "id": "EPbpfPpwWVDC"
      }
    },
    {
      "cell_type": "code",
      "source": [
        "visions = [1.3, 0.8, 1.3, 0.7, 1.0, 1.4, 0.4, 0.9, 0.2, 0.9, 0.7, 0.1, 1.3, 0.6, 1.1, 0.9, 0.2, 0.4, 0.3, 0.6, 1.0, 1.4, 1.0, 0.1, 0.3, 1.4, 0.4, 1.3, 1.4, 0.1, 1.2, 1.3, 1.3, 1.0, 1.1, 0.6, 1.4, 0.5, 0.1, 1.1, 0.9, 0.4, 0.7, 1.4, 0.1, 0.1, 0.4, 0.9, 0.3, 0.6, 0.7, 0.7, 0.9, 0.2, 1.4, 0.9, 0.7, 1.1, 0.6, 0.6, 0.3, 0.6, 0.1, 0.9, 0.2, 0.5, 0.8, 0.3, 1.1, 1.3, 1.0, 0.4, 0.2, 1.2, 1.1, 0.9, 0.3, 1.2, 0.4, 0.5, 0.3, 0.8, 0.4, 1.3, 0.2, 0.6, 0.3]"
      ],
      "metadata": {
        "id": "WaIbFfpa6qta"
      },
      "execution_count": null,
      "outputs": []
    },
    {
      "cell_type": "code",
      "source": [
        "#@title 1. 如果我們定義視力大於等於 1.0 為好視力（`\"good_vision\"`），否則為差視力（`\"bad_vision\"`），那第 3 位同學是屬於哪種？\n",
        "third_vision = visions[3]\n",
        "\n",
        "if True: # PLEASE MODIFY\n",
        "    third_level = \"good_vision\"\n",
        "else:\n",
        "    third_level = \"bad_vision\"\n",
        "\n",
        "print(\"The level of third person =\", third_level) # Expected output: \"bad_vision\""
      ],
      "metadata": {
        "id": "xj0Z4G6I6rlG"
      },
      "execution_count": null,
      "outputs": []
    },
    {
      "cell_type": "code",
      "source": [
        "#@title 參考解答\n",
        "third_vision = visions[3]\n",
        "\n",
        "if third_vision >= 1.0: # PLEASE MODIFY\n",
        "    third_level = \"good_vision\"\n",
        "else:\n",
        "    third_level = \"bad_vision\"\n",
        "\n",
        "print(\"The level of third person =\", third_level) # Expected output: \"bad_vision\""
      ],
      "metadata": {
        "cellView": "form",
        "id": "iQlOrUj5RVTn"
      },
      "execution_count": null,
      "outputs": []
    },
    {
      "cell_type": "code",
      "source": [
        "#@title 2. 同上題，但請將判斷式改成一行的版本\n",
        "third_vision = visions[3]\n",
        "\n",
        "third_level_line = \"\" # PLEASE MODIFY\n",
        "\n",
        "print(\"The level of third person =\", third_level_line) # Expected output: \"bad_vision\""
      ],
      "metadata": {
        "id": "yorL_YL27UFn"
      },
      "execution_count": null,
      "outputs": []
    },
    {
      "cell_type": "code",
      "source": [
        "#@title 參考解答\n",
        "third_vision = visions[3]\n",
        "\n",
        "third_level_line = \"good_vision\" if third_vision >= 1.0 else \"bad_vision\" # PLEASE MODIFY\n",
        "\n",
        "print(\"The level of third person =\", third_level_line) # Expected output: \"bad_vision\""
      ],
      "metadata": {
        "cellView": "form",
        "id": "Ebk14UL9SKp7"
      },
      "execution_count": null,
      "outputs": []
    },
    {
      "cell_type": "code",
      "source": [
        "#@title 3. 如果視力小於等於 0.8 要配戴眼鏡，眼鏡價格：視力 0.5（不含） 到 0.8（含）區間為 1,200 元，0.5（含）以下為 3,500 元，那請問第 6 位同學的眼鏡價格為多少？\n",
        "sixth_vision = visions[6]\n",
        "\n",
        "if sixth_vision > 0.8:\n",
        "    sixth_glasses_price = 0\n",
        "elif True: #PLEASE MODIFY\n",
        "    sixth_glasses_price = 0 # PLEASE MODIFY\n",
        "else:\n",
        "    sixth_glasses_price = 0 # PLEASE MODIFY\n",
        "\n",
        "print(\"The glasses price of sixth person =\", sixth_glasses_price) # Expected output: 3500"
      ],
      "metadata": {
        "id": "ElsvmFhL9zZf"
      },
      "execution_count": null,
      "outputs": []
    },
    {
      "cell_type": "code",
      "source": [
        "#@title 參考解答\n",
        "sixth_vision = visions[6]\n",
        "\n",
        "if sixth_vision > 0.8:\n",
        "    sixth_glasses_price = 0\n",
        "elif sixth_vision > 0.5:  #PLEASE MODIFY\n",
        "    sixth_glasses_price = 1200 # PLEASE MODIFY\n",
        "else:\n",
        "    sixth_glasses_price = 3500 # PLEASE MODIFY\n",
        "\n",
        "print(\"The glasses price of sixth person =\", sixth_glasses_price) # Expected output: 3500"
      ],
      "metadata": {
        "cellView": "form",
        "id": "qqtPuL6sSw_X"
      },
      "execution_count": null,
      "outputs": []
    },
    {
      "cell_type": "code",
      "source": [
        "#@title 4. 是否有視力剛好為 1.5 的人？\n",
        "has_super_vision = True\n",
        "print(\"Is there person having super vision?\", has_super_vision) # Expected output: False"
      ],
      "metadata": {
        "id": "yifEmOBr_Bm2"
      },
      "execution_count": null,
      "outputs": []
    },
    {
      "cell_type": "code",
      "source": [
        "#@title 參考解答\n",
        "has_super_vision = 1.5 in visions\n",
        "print(\"Is there person having super vision?\", has_super_vision) # Expected output: False"
      ],
      "metadata": {
        "cellView": "form",
        "id": "Zv2Uu8DPTYX6"
      },
      "execution_count": null,
      "outputs": []
    },
    {
      "cell_type": "code",
      "source": [
        "#@title 5. 請用 for 迴圈的方法，算出所有人的平均視力（附註：`pass` 代表那行什麼事都不做）\n",
        "sum_vision = 0\n",
        "\n",
        "for vision in []: # PLEASE MODIFY\n",
        "    pass # PLEASE MODIFY\n",
        "\n",
        "avg_vision = sum_vision / len(visions)\n",
        "print(\"The average vision =\", avg_vision) # Expected output: 0.7344827586206897"
      ],
      "metadata": {
        "id": "U46JKYjp_911"
      },
      "execution_count": null,
      "outputs": []
    },
    {
      "cell_type": "code",
      "source": [
        "#@title 參考解答\n",
        "sum_vision = 0\n",
        "\n",
        "for vision in visions: # PLEASE MODIFY\n",
        "    sum_vision = sum_vision + vision # PLEASE MODIFY\n",
        "\n",
        "avg_vision = sum_vision / len(visions)\n",
        "print(\"The average vision =\", avg_vision) # Expected output: 0.7344827586206897"
      ],
      "metadata": {
        "cellView": "form",
        "id": "z-3FrYscT8iD"
      },
      "execution_count": null,
      "outputs": []
    },
    {
      "cell_type": "code",
      "source": [
        "#@title 6. 請用 while 迴圈的方法，算出所有人的平均視力\n",
        "sum_vision = 0.0\n",
        "index = 0\n",
        "\n",
        "while index < 0: # PLEASE MODIFY\n",
        "    sum_vision = sum_vision + visions[index]\n",
        "    index = index + 1\n",
        "\n",
        "avg_vision_while = sum_vision / len(visions)\n",
        "print(\"The average vision =\", avg_vision_while) # Expected output: 0.7344827586206897"
      ],
      "metadata": {
        "id": "yQDv1dhKA_bt"
      },
      "execution_count": null,
      "outputs": []
    },
    {
      "cell_type": "code",
      "source": [
        "#@title 參考解答\n",
        "sum_vision = 0.0\n",
        "index = 0\n",
        "\n",
        "while index < len(visions): # PLEASE MODIFY\n",
        "    sum_vision = sum_vision + visions[index]\n",
        "    index = index + 1\n",
        "\n",
        "avg_vision_while = sum_vision / len(visions)\n",
        "print(\"The average vision =\", avg_vision_while) # Expected output: 0.7344827586206897"
      ],
      "metadata": {
        "cellView": "form",
        "id": "X1n59LZqUlk7"
      },
      "execution_count": null,
      "outputs": []
    },
    {
      "cell_type": "code",
      "source": [
        "#@title 7. 屬於好視力的總共有多少人？\n",
        "good_vision_count = 0\n",
        "\n",
        "for vision in []: # PLEASE MODIFY\n",
        "    if False: # PLEASE MODIFY\n",
        "        good_vision_count = good_vision_count + 1\n",
        "\n",
        "print(\"The number of persons that have good vision =\", good_vision_count) # Expected output: 29"
      ],
      "metadata": {
        "id": "r0lB3jKjB1jx"
      },
      "execution_count": null,
      "outputs": []
    },
    {
      "cell_type": "code",
      "source": [
        "#@title 參考解答\n",
        "good_vision_count = 0\n",
        "\n",
        "for vision in visions: # PLEASE MODIFY\n",
        "    if vision >= 1.0: # PLEASE MODIFY\n",
        "        good_vision_count = good_vision_count + 1\n",
        "\n",
        "print(\"The number of persons that have good vision =\", good_vision_count) # Expected output: 29"
      ],
      "metadata": {
        "cellView": "form",
        "id": "iecJAUd0U7g5"
      },
      "execution_count": null,
      "outputs": []
    },
    {
      "cell_type": "code",
      "source": [
        "#@title 8. 請列出所有屬於好視力的順序編號，編號從 0 開始計算\n",
        "good_vision_indices = []\n",
        "\n",
        "for index, vision in []: # PLEASE MODIFY\n",
        "    if False: # PLEASE MODIFY\n",
        "        good_vision_indices.append(index)\n",
        "\n",
        "print(\"The list of persons that have good vision =\", good_vision_indices) # Expected output: [0, 2, 4, 5, 12, 14, 20, 21, 22, 25, 27, 28, 30, 31, 32, 33, 34, 36, 39, 43, 54, 57, 68, 69, 70, 73, 74, 77, 83]"
      ],
      "metadata": {
        "id": "V5J8QnCVDdfS"
      },
      "execution_count": null,
      "outputs": []
    },
    {
      "cell_type": "code",
      "source": [
        "#@title 8. 參考解答\n",
        "good_vision_indices = []\n",
        "\n",
        "for index, vision in enumerate(visions): # PLEASE MODIFY\n",
        "    if vision >= 1.0: # PLEASE MODIFY\n",
        "        good_vision_indices.append(index)\n",
        "\n",
        "print(\"The list of persons that have good vision =\", good_vision_indices) # Expected output: [0, 2, 4, 5, 12, 14, 20, 21, 22, 25, 27, 28, 30, 31, 32, 33, 34, 36, 39, 43, 54, 57, 68, 69, 70, 73, 74, 77, 83]"
      ],
      "metadata": {
        "cellView": "form",
        "id": "Pq7RcE8wVnSu"
      },
      "execution_count": null,
      "outputs": []
    },
    {
      "cell_type": "code",
      "source": [
        "#@title 9. 同上題，但請用 Comprehension 的方式寫\n",
        "good_vision_indices_com = [] # PLEASE MODIFY\n",
        "\n",
        "print(\"The list of persons that have good vision =\", good_vision_indices_com) # Expected output: [0, 2, 4, 5, 12, 14, 20, 21, 22, 25, 27, 28, 30, 31, 32, 33, 34, 36, 39, 43, 54, 57, 68, 69, 70, 73, 74, 77, 83]"
      ],
      "metadata": {
        "id": "47hsZpweETlt"
      },
      "execution_count": null,
      "outputs": []
    },
    {
      "cell_type": "code",
      "source": [
        "#@title 參考解答\n",
        "good_vision_indices_com = [index for index, vision in enumerate(visions) if vision >= 1.0] # PLEASE MODIFY\n",
        "\n",
        "print(\"The list of persons that have good vision =\", good_vision_indices_com) # Expected output: [0, 2, 4, 5, 12, 14, 20, 21, 22, 25, 27, 28, 30, 31, 32, 33, 34, 36, 39, 43, 54, 57, 68, 69, 70, 73, 74, 77, 83]"
      ],
      "metadata": {
        "cellView": "form",
        "id": "t4s4pQMuV-ez"
      },
      "execution_count": null,
      "outputs": []
    },
    {
      "cell_type": "markdown",
      "source": [
        "### 練習題（四）：文章單字統計"
      ],
      "metadata": {
        "id": "FZYGSDtFQgLT"
      }
    },
    {
      "cell_type": "markdown",
      "source": [
        "我們有一篇取自[白鯨記](https://en.wikipedia.org/wiki/Moby-Dick)小說的英文文章片段：`article`。請試著從這篇文章片段取出一些關於英文單字（**不分大小寫**）的資訊，包含：\n",
        "1. 出現最多次的單字為何？其出現的次數為多少？\n",
        "2. `\"nothing\"` 出現的的次數為多少？\n",
        "3. 出現 5 次的單字有哪些？\n"
      ],
      "metadata": {
        "id": "FNZb036JQhlT"
      }
    },
    {
      "cell_type": "code",
      "metadata": {
        "id": "7zbuoVwJb_84"
      },
      "source": [
        "article = \\\n",
        "    \"Call me Ishmael. Some years ago, never mind how long precisely,\\n\" \\\n",
        "    \"having little or no money in my purse, and nothing particular\\n\" \\\n",
        "    \"to interest me on shore, I thought I would sail about a little\\n\" \\\n",
        "    \"and see the watery part of the world. It is a way I have\\n\" \\\n",
        "    \"of driving off the spleen and regulating the circulation.\\n\" \\\n",
        "    \"Whenever I find myself growing grim about the mouth.\\n\" \\\n",
        "    \"whenever it is a damp, drizzly November in my soul. whenever I\\n\" \\\n",
        "    \"find myself involuntarily pausing before coffin warehouses,\\n\" \\\n",
        "    \"and bringing up the rear of every funeral I meet.\\n\" \\\n",
        "    \"and especially whenever my hypos get such an upper hand of me,\\n\" \\\n",
        "    \"that it requires a strong moral principle to prevent me from\\n\" \\\n",
        "    \"deliberately stepping into the street, and methodically knocking\\n\" \\\n",
        "    \"hats of people off, then, I account it high time to get to sea\\n\" \\\n",
        "    \"as soon as I can. This is my substitute for pistol and ball.\\n\" \\\n",
        "    \"With a philosophical flourish Cato throws himself upon his sword.\\n\" \\\n",
        "    \"I quietly take to the ship. There is nothing surprising in this.\\n\" \\\n",
        "    \"If they but knew it, almost all men in their degree, some time\\n\" \\\n",
        "    \"or other, cherish very nearly the same feelings towards\\n\" \\\n",
        "    \"the ocean with me.\\n\" \\\n",
        "    \"There now is your insular city of the Manhattoes, belted round by wharves\\n\" \\\n",
        "    \"as Indian isles by coral reefs, commerce surrounds it with her surf.\\n\" \\\n",
        "    \"Right and left, the streets take you waterward. Its extreme downtown\\n\" \\\n",
        "    \"is the battery, where that noble mole is washed by waves, and cooled\\n\" \\\n",
        "    \"by breezes, which a few hours previous were out of sight of land.\\n\" \\\n",
        "    \"Look at the crowds of water-gazers there.\"\n",
        "\n",
        "print(article)"
      ],
      "execution_count": null,
      "outputs": []
    },
    {
      "cell_type": "code",
      "metadata": {
        "id": "DiqAInxfhQ70"
      },
      "source": [
        "# Pre-processing the article by using methods about string.\n",
        "article_preprocessed = article.replace(\",\", \"\")\n",
        "article_preprocessed = article_preprocessed.replace(\"\", \"\") # PLEASE MODIFY: replace \".\" by \"\"\n",
        "article_preprocessed = article_preprocessed.replace(\"\", \"\") # PLEASE MODIFY: replace \"\\n\" by \" \" (whitespace)\n",
        "article_preprocessed = article_preprocessed.lower()\n",
        "\n",
        "# You should get a line of string that only contains lower-case English words\n",
        "# and white spaces.\n",
        "print(article_preprocessed)"
      ],
      "execution_count": null,
      "outputs": []
    },
    {
      "cell_type": "code",
      "source": [
        "#@title 參考解答\n",
        "# Pre-processing the article by using methods about string.\n",
        "article_preprocessed = article.replace(\",\", \"\")\n",
        "article_preprocessed = article_preprocessed.replace(\".\", \"\") # PLEASE MODIFY: replace \".\" by \"\"\n",
        "article_preprocessed = article_preprocessed.replace(\"\\n\", \" \") # PLEASE MODIFY: replace \"\\n\" by \" \" (whitespace)\n",
        "article_preprocessed = article_preprocessed.lower()\n",
        "\n",
        "# You should get a line of string that only contains lower-case English words\n",
        "# and white spaces.\n",
        "print(article_preprocessed)"
      ],
      "metadata": {
        "cellView": "form",
        "id": "u4fgtaOBYUpL"
      },
      "execution_count": null,
      "outputs": []
    },
    {
      "cell_type": "code",
      "source": [
        "# Split the article into words.\n",
        "words = article_preprocessed.split(\" \")\n",
        "print(words)"
      ],
      "metadata": {
        "id": "8nIL7l6hG0Jg"
      },
      "execution_count": null,
      "outputs": []
    },
    {
      "cell_type": "code",
      "metadata": {
        "id": "ZZ0xFvdxme2r"
      },
      "source": [
        "# Count the word frequencies by constructing a dict that key is word, value is\n",
        "# the word's frequency. For example:\n",
        "# {\n",
        "#     \"call\": 1,\n",
        "#     \"me\": 5,\n",
        "# }\n",
        "word_freq = {}\n",
        "for word in words:\n",
        "    # PLEASE MODIFY CODE BELOW\n",
        "    pass\n",
        "\n",
        "print(word_freq)"
      ],
      "execution_count": null,
      "outputs": []
    },
    {
      "cell_type": "code",
      "source": [
        "#@title 參考解答\n",
        "# Count the word frequencies by constructing a dict that key is word, value is\n",
        "# the word's frequency. For example:\n",
        "# {\n",
        "#     \"call\": 1,\n",
        "#     \"me\": 5,\n",
        "# }\n",
        "word_freq = {}\n",
        "for word in words:\n",
        "    # PLEASE MODIFY CODE BELOW\n",
        "    if word not in word_freq:\n",
        "        word_freq[word] = 0\n",
        "    \n",
        "    word_freq[word] = word_freq[word] + 1\n",
        "\n",
        "print(word_freq)\n",
        "\n",
        "# You can also write the code as follows.\n",
        "word_freq = {}\n",
        "for word in words:\n",
        "    word_freq[word] = word_freq.get(word, 0) + 1\n",
        "\n",
        "print(word_freq)"
      ],
      "metadata": {
        "cellView": "form",
        "id": "8kjlh8DDZD4l"
      },
      "execution_count": null,
      "outputs": []
    },
    {
      "cell_type": "code",
      "metadata": {
        "id": "SJj837SpqUYS"
      },
      "source": [
        "#@title 1. 出現最多次的單字為何？其出現的次數為多少？\n",
        "\n",
        "# Now, we want to get the most frequent word and its count.\n",
        "most_freq_word = \"\"\n",
        "most_freq_num = 0\n",
        "for word, freq in word_freq.items():\n",
        "    if freq > most_freq_num:\n",
        "        # PLEASE MODIFY CODE BELOW\n",
        "        pass\n",
        "\n",
        "print(\"Most Frequent Word =\", most_freq_word) # Expected output: \"the\"\n",
        "print(\"Count for Most Frequent Word =\", most_freq_num) # Expected output: 14"
      ],
      "execution_count": null,
      "outputs": []
    },
    {
      "cell_type": "code",
      "source": [
        "#@title 參考解答\n",
        "\n",
        "# Now, we want to get the most frequent word and its count.\n",
        "most_freq_word = \"\"\n",
        "most_freq_num = 0\n",
        "for word, freq in word_freq.items():\n",
        "    if freq > most_freq_num:\n",
        "        # PLEASE MODIFY CODE BELOW\n",
        "        most_freq_word = word\n",
        "        most_freq_num = freq\n",
        "\n",
        "print(\"Most Frequent Word =\", most_freq_word) # Expected output: \"the\"\n",
        "print(\"Count for Most Frequent Word =\", most_freq_num) # Expected output: 14"
      ],
      "metadata": {
        "cellView": "form",
        "id": "3YK7TgK1aQqK"
      },
      "execution_count": null,
      "outputs": []
    },
    {
      "cell_type": "code",
      "metadata": {
        "id": "OdSuQrUvqZnn"
      },
      "source": [
        "#@title 2. `\"nothing\"` 出現的的次數為多少？\n",
        "\n",
        "# Get the frequency count of \"nothing\".\n",
        "nothing_freq = 0 # PLEASE MODIFY\n",
        "print(\"Frequency of \\\"nothing\\\" =\", nothing_freq) # Expected output: 2"
      ],
      "execution_count": null,
      "outputs": []
    },
    {
      "cell_type": "code",
      "source": [
        "#@title 參考解答\n",
        "\n",
        "# Get the frequency count of \"nothing\".\n",
        "nothing_freq = word_freq[\"nothing\"] # PLEASE MODIFY\n",
        "print(\"Frequency of \\\"nothing\\\" =\", nothing_freq) # Expected output: 2"
      ],
      "metadata": {
        "cellView": "form",
        "id": "8oiKgu5Vaq9Y"
      },
      "execution_count": null,
      "outputs": []
    },
    {
      "cell_type": "code",
      "metadata": {
        "id": "8fpAyWrQuBap"
      },
      "source": [
        "#@title 3. 出現 5 次的單字有哪些？\n",
        "\n",
        "# Find words whose frequency is 5 and put the words into the list.\n",
        "freq_five_words = []\n",
        "for word, freq in word_freq.items():\n",
        "    # PLEASE MODIFY CODE BELOW\n",
        "    pass\n",
        "\n",
        "print(\"Words whose Frequencies is 5 =\", freq_five_words) # Expected output: [\"me\", \"to\"]"
      ],
      "execution_count": null,
      "outputs": []
    },
    {
      "cell_type": "code",
      "source": [
        "#@title 參考解答\n",
        "\n",
        "# Find words whose frequency is 5 and put the words into the list.\n",
        "freq_five_words = []\n",
        "for word, freq in word_freq.items():\n",
        "    # PLEASE MODIFY CODE BELOW\n",
        "    if freq == 5:\n",
        "        freq_five_words.append(word)\n",
        "\n",
        "print(\"Words whose Frequencies is 5 =\", freq_five_words) # Expected output: [\"me\", \"to\"]"
      ],
      "metadata": {
        "cellView": "form",
        "id": "ahACVZa4bWsK"
      },
      "execution_count": null,
      "outputs": []
    },
    {
      "cell_type": "markdown",
      "source": [
        "### 練習題（五）：PUI PUI 天竺鼠車車"
      ],
      "metadata": {
        "id": "o5VatYgNQjy2"
      }
    },
    {
      "cell_type": "markdown",
      "source": [
        "![](https://pbs.twimg.com/media/ErXPkNeVcAE4tOs?format=jpg&name=medium)\n",
        "\n",
        "([圖片來源](https://twitter.com/molcar_anime/status/1348223064723628033/photo/1))\n",
        "\n",
        "[《PUI PUI 天竺鼠車車》](https://en.wikipedia.org/wiki/Pui_Pui_Molcar)是日本原創電視定格動畫，在 2021 年於日本電視台播映。「天竺鼠車車」是以天竺鼠為原型的車輛，並且在這部動畫中擔任主要的角色。\n",
        "\n",
        "我們透過了各種管道，終於從製作團隊取得了劇情中各種車車的角色資料。只是取得資料後，才發現資料為 csv（comma-separated values）格式，我們必須對資料（變數名稱為 `raw_data`）做處理，並且取得以下我們有興趣的資訊：\n",
        "1. 所有主要角色的名字？\n",
        "2. 有哪些角色的顏色為棕色？\n",
        "3. 有哪些角色的體重超過（含） 1800 公斤？\n",
        "4. `\"POTATO\"` 的體積是否比 `\"CHOCO\"` 還大？\n",
        "    - 體積計算方式：車體寬度 * 車體長度 * 車體高度\n",
        "\n",
        "`raw_data` 各個欄位的意義如下：\n",
        "- `name`：名字\n",
        "- `is_main`:是否為主要角色，*1* 代表是，*0* 代表不是\n",
        "- `color`：顏色\n",
        "- `width`：車體寬度（公分）\n",
        "- `length`：車體長度（公分）\n",
        "- `height`：車體高度（公分）\n",
        "- `weight`：體重（公斤）"
      ],
      "metadata": {
        "id": "8nqiEizJQkwN"
      }
    },
    {
      "cell_type": "code",
      "metadata": {
        "id": "hXA55HclBwjI"
      },
      "source": [
        "raw_data = \\\n",
        "    \"name,is_main,color,width,length,height,weight\\n\" \\\n",
        "    \"POTATO,1,yellow,173,379,144,1500\\n\" \\\n",
        "    \"SHIROMO,1,white,149,359,177,1236\\n\" \\\n",
        "    \"ABBEY,1,yellow,136,343,182,1329\\n\" \\\n",
        "    \"CHOCO,1,brown,169,305,171,1725\\n\" \\\n",
        "    \"TEDDY,1,brown,147,371,210,1640\\n\" \\\n",
        "    \"POSTAL,0,red,165,370,251,1926\\n\" \\\n",
        "    \"HAMBER,0,yellow,136,353,247,1648\\n\" \\\n",
        "    \"ADVENTURE,0,brown,175,308,133,1588\\n\" \\\n",
        "    \"WEDDING,0,white,176,304,216,1893\\n\"\n",
        "\n",
        "print(raw_data)"
      ],
      "execution_count": null,
      "outputs": []
    },
    {
      "cell_type": "code",
      "source": [
        "# Split the raw text data into raw lines, each line represents a role in string format.\n",
        "raw_lines = raw_data.split(\"\\n\")[1:-1]\n",
        "print(raw_lines)"
      ],
      "metadata": {
        "id": "hkBFPMMIKXMv"
      },
      "execution_count": null,
      "outputs": []
    },
    {
      "cell_type": "code",
      "source": [
        "# For each role line, extract detailed information by splitting the string.\n",
        "# The result is a nested list (i.e., list of list).\n",
        "role_lines = [raw_line.split(\",\") for raw_line in raw_lines]\n",
        "print(role_lines)"
      ],
      "metadata": {
        "id": "3XXqyWmFK8Gh"
      },
      "execution_count": null,
      "outputs": []
    },
    {
      "cell_type": "code",
      "source": [
        "# Convert above role lines into a nested dict (i.e. dict of dict).\n",
        "# The dict looks like as follows:\n",
        "# {\n",
        "#     \"POTATO\": {\n",
        "#         \"is_main\": true,\n",
        "#         \"color\": \"yellow\",\n",
        "#         \"width\": 173,\n",
        "#         \"length\": 379,\n",
        "#         \"height\": 144,\n",
        "#         \"weight\": 1500,\n",
        "#         \"volume\": 9441648\n",
        "#     },\n",
        "#     \"SHIROMO\": {\n",
        "#         \"is_main\": true,\n",
        "#         \"color\": \"white\",\n",
        "#         \"width\": 149,\n",
        "#         \"length\": 359,\n",
        "#         \"height\": 177,\n",
        "#         \"weight\": 1236,\n",
        "#         \"volume\": 9467907\n",
        "#     },\n",
        "# }\n",
        "characters = {}\n",
        "for line in role_lines:\n",
        "    name = line[0]\n",
        "    characters[name] = {\n",
        "        \"is_main\": False, # PLEASE MODIFY: a boolean to indicate the role is main character or not.\n",
        "        \"color\": \"\", # PLEASE MODIFY: a string to store its color.\n",
        "        \"width\": int(line[3]), # An integer to store its width.\n",
        "        \"length\": 0, # PLEASE MODIFY: an integer to store its width.\n",
        "        \"height\": 0, # PLEASE MODIFY: an integer to store its height.\n",
        "        \"weight\": 0, # PLEASE MODIFY: an integer to store its weight.\n",
        "    }\n",
        "    characters[name][\"volume\"] = 0 # PLEASE MODIFY: an integer to store its volume (i.e., width * length * height).\n",
        "\n",
        "print(characters)"
      ],
      "metadata": {
        "id": "l803Ou9TMJlj"
      },
      "execution_count": null,
      "outputs": []
    },
    {
      "cell_type": "code",
      "source": [
        "#@title 參考解答\n",
        "\n",
        "# Convert above role lines into a nested dict (i.e. dict of dict).\n",
        "# The dict looks like as follows:\n",
        "# {\n",
        "#     \"POTATO\": {\n",
        "#         \"is_main\": true,\n",
        "#         \"color\": \"yellow\",\n",
        "#         \"width\": 173,\n",
        "#         \"length\": 379,\n",
        "#         \"height\": 144,\n",
        "#         \"weight\": 1500,\n",
        "#         \"volume\": 9441648\n",
        "#     },\n",
        "#     \"SHIROMO\": {\n",
        "#         \"is_main\": true,\n",
        "#         \"color\": \"white\",\n",
        "#         \"width\": 149,\n",
        "#         \"length\": 359,\n",
        "#         \"height\": 177,\n",
        "#         \"weight\": 1236,\n",
        "#         \"volume\": 9467907\n",
        "#     },\n",
        "# }\n",
        "characters = {}\n",
        "for line in role_lines:\n",
        "    name = line[0]\n",
        "    characters[name] = {\n",
        "        \"is_main\": bool(int(line[1])), # PLEASE MODIFY: a boolean to indicate the role is main character or not.\n",
        "        \"color\": line[2], # PLEASE MODIFY: a string to store its color.\n",
        "        \"width\": int(line[3]), # An integer to store its width.\n",
        "        \"length\": int(line[4]), # PLEASE MODIFY: an integer to store its width.\n",
        "        \"height\": int(line[5]), # PLEASE MODIFY: an integer to store its height.\n",
        "        \"weight\": int(line[6]), # PLEASE MODIFY: an integer to store its weight.\n",
        "    }\n",
        "    characters[name][\"volume\"] = characters[name][\"width\"] * characters[name][\"length\"] * characters[name][\"height\"] # PLEASE MODIFY: an integer to store its volume (i.e., width * length * height).\n",
        "\n",
        "print(characters)"
      ],
      "metadata": {
        "cellView": "form",
        "id": "pAdcjfwCe8R8"
      },
      "execution_count": null,
      "outputs": []
    },
    {
      "cell_type": "code",
      "source": [
        "#@title 1. 所有主要角色的名字？\n",
        "\n",
        "# Identify main characters.\n",
        "main_characters = [] # PLEASE MODIFY\n",
        "print(\"Main Characters =\", main_characters) # Expected output: [\"POTATO\", \"SHIROMO\", \"ABBEY\", \"CHOCO\", \"TEDDY\"]"
      ],
      "metadata": {
        "id": "J98FSC0Rdp2M"
      },
      "execution_count": null,
      "outputs": []
    },
    {
      "cell_type": "code",
      "source": [
        "#@title 參考解答\n",
        "\n",
        "# Identify main characters.\n",
        "main_characters = [name for name, prop in characters.items() if prop[\"is_main\"]] # PLEASE MODIFY\n",
        "print(\"Main Characters =\", main_characters) # Expected output: [\"POTATO\", \"SHIROMO\", \"ABBEY\", \"CHOCO\", \"TEDDY\"]"
      ],
      "metadata": {
        "cellView": "form",
        "id": "Wp2BlbYBdwTV"
      },
      "execution_count": null,
      "outputs": []
    },
    {
      "cell_type": "code",
      "source": [
        "#@title 2. 有哪些角色的顏色為棕色？\n",
        "\n",
        "# Identify brown characters.\n",
        "brown_characters = [] # PLEASE MODIFY\n",
        "print(\"Brown Characters =\", brown_characters) # Expected output: [\"CHOCO\", \"TEDDY\", \"ADVENTURE\"]"
      ],
      "metadata": {
        "id": "Xg0_SAqOOhpv"
      },
      "execution_count": null,
      "outputs": []
    },
    {
      "cell_type": "code",
      "source": [
        "#@title 參考解答\n",
        "\n",
        "# Identify brown characters.\n",
        "brown_characters = [name for name, prop in characters.items() if prop[\"color\"] == \"brown\"] # PLEASE MODIFY\n",
        "print(\"Brown Characters =\", brown_characters) # Expected output: [\"CHOCO\", \"TEDDY\", \"ADVENTURE\"]"
      ],
      "metadata": {
        "cellView": "form",
        "id": "bbojlOiQePTr"
      },
      "execution_count": null,
      "outputs": []
    },
    {
      "cell_type": "code",
      "source": [
        "#@title 3. 有哪些角色的體重超過（含） 1800 公斤？\n",
        "\n",
        "# Identify characters whose weight is >= 1800\n",
        "heavy_characters = [] # PLEASE MODIFY\n",
        "print(\"Heavy Characters =\", heavy_characters) # Expected output: [\"POSTAL\", \"WEDDING\"]"
      ],
      "metadata": {
        "id": "Q7tGBjOHOyt-"
      },
      "execution_count": null,
      "outputs": []
    },
    {
      "cell_type": "code",
      "source": [
        "#@title 參考解答\n",
        "\n",
        "# Identify characters whose weight is >= 1800\n",
        "heavy_characters = [name for name, prop in characters.items() if prop[\"weight\"] >= 1800] # PLEASE MODIFY\n",
        "print(\"Heavy Characters =\", heavy_characters) # Expected output: [\"POSTAL\", \"WEDDING\"]"
      ],
      "metadata": {
        "cellView": "form",
        "id": "X4Ig_C15edR4"
      },
      "execution_count": null,
      "outputs": []
    },
    {
      "cell_type": "code",
      "metadata": {
        "id": "aQtcsI2o9qb7"
      },
      "source": [
        "#@title 4. `\"POTATO\"` 的體積是否比 `\"CHOCO\"` 還大？\n",
        "\n",
        "potato_larger_choco = False\n",
        "print(\"Is POTATO Larger than CHOCO?\", potato_larger_choco) # Expected output: True"
      ],
      "execution_count": null,
      "outputs": []
    },
    {
      "cell_type": "code",
      "source": [
        "#@title 參考解答\n",
        "\n",
        "potato_larger_choco = characters[\"POTATO\"][\"volume\"] > characters[\"CHOCO\"][\"volume\"]\n",
        "print(\"Is POTATO Larger than CHOCO?\", potato_larger_choco) # Expected output: True"
      ],
      "metadata": {
        "cellView": "form",
        "id": "w_LcAN_Oein2"
      },
      "execution_count": null,
      "outputs": []
    }
  ]
}