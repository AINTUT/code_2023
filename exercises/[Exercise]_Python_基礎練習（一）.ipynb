{
  "nbformat": 4,
  "nbformat_minor": 0,
  "metadata": {
    "colab": {
      "provenance": [],
      "collapsed_sections": [
        "RpojzAAik8y4",
        "dh4g-CU-lXxB",
        "-zSS0JlTFBdj"
      ]
    },
    "kernelspec": {
      "name": "python3",
      "display_name": "Python 3"
    }
  },
  "cells": [
    {
      "cell_type": "markdown",
      "metadata": {
        "id": "hI7hcU3_yQv2"
      },
      "source": [
        "This notebook is freely available for redistribution under the [GPL-3.0 license](https://choosealicense.com/licenses/gpl-3.0/).\n",
        "\n",
        "Author: 蘇嘉冠 feabries@gmail.com\n",
        "\n",
        "Contributors: 蘇郁翔 asdfghjkl225836@gmail.com"
      ]
    },
    {
      "cell_type": "markdown",
      "metadata": {
        "id": "Na0_QjevL_F5"
      },
      "source": [
        "# Python 基礎練習（一）\n",
        "\n",
        "歡迎來到我們課堂的第一次的練習！希望透過實際練習，讓你更加熟悉 Python 程式語言，讓接下來的學習之路更加順利\n",
        "\n",
        "Colab 的基本使用方式會在課堂上解說，如果想了解更完整的使用方式請看 [官方介紹](https://colab.research.google.com/notebooks/intro.ipynb)"
      ]
    },
    {
      "cell_type": "markdown",
      "source": [
        "## 在開始之前\n",
        "\n",
        "請先確認以下動作已經完成：\n",
        "1. 登錄你的 Google 帳號\n",
        "2. 按上面工具列的 `工具` -> `設定` 跳出設定視窗，按左邊的 `編輯器`，將右方的 `縮排寬度` 設定為 `4`，再按下 `儲存`\n",
        "3. 按上方工具列的 `檔案` -> `在雲端硬碟中儲存副本`，會跳出一個新視窗，用複製的那一份繼續做編輯。複製的檔案會儲存在你的 [Google Drive](https://drive.google.com/drive) 的 `Colab Notebooks` 資料夾裡"
      ],
      "metadata": {
        "id": "C0Nj7ucf1JIY"
      }
    },
    {
      "cell_type": "markdown",
      "source": [
        "## I. 基礎中的基礎"
      ],
      "metadata": {
        "id": "RpojzAAik8y4"
      }
    },
    {
      "cell_type": "markdown",
      "source": [
        "### 縮排與區塊結構\n",
        "\n",
        "- 程式碼以行作為單位\n",
        "- 空格與縮排來區分區塊結構（迴圈、if else 等等）\n",
        "- 建議用 4 個空白鍵來縮排，而且不要用 tab"
      ],
      "metadata": {
        "id": "-2KA4rAC5Sco"
      }
    },
    {
      "cell_type": "markdown",
      "source": [
        "![image.png](data:image/png;base64,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)"
      ],
      "metadata": {
        "id": "YR8RMwMf5kUt"
      }
    },
    {
      "cell_type": "markdown",
      "source": [
        "### print()\n",
        "\n",
        "`print()` 是一個 Python 的內建函式，可以用它來顯示出任何資訊，例如範例會秀出 `I love AI` 這些字"
      ],
      "metadata": {
        "id": "_RHoflM3-sFf"
      }
    },
    {
      "cell_type": "code",
      "source": [
        "print(\"I love AI\")"
      ],
      "metadata": {
        "id": "GRMTSOT4_A26"
      },
      "execution_count": null,
      "outputs": []
    },
    {
      "cell_type": "code",
      "source": [],
      "metadata": {
        "id": "wPN_fYSKBAfF"
      },
      "execution_count": null,
      "outputs": []
    },
    {
      "cell_type": "markdown",
      "source": [
        "`print()` 可以用放多個要顯示的內容，預設會用空白接起來"
      ],
      "metadata": {
        "id": "6wX8oq9KWPjM"
      }
    },
    {
      "cell_type": "code",
      "source": [
        "print(\"Hello\", \"I love AI\")"
      ],
      "metadata": {
        "id": "ifPp256HWOS2"
      },
      "execution_count": null,
      "outputs": []
    },
    {
      "cell_type": "code",
      "source": [],
      "metadata": {
        "id": "G9UP5LgSW6mU"
      },
      "execution_count": null,
      "outputs": []
    },
    {
      "cell_type": "code",
      "source": [
        "print(\"I'm\", 18, \"years old\")"
      ],
      "metadata": {
        "id": "0gZupAmMW6-N"
      },
      "execution_count": null,
      "outputs": []
    },
    {
      "cell_type": "code",
      "source": [],
      "metadata": {
        "id": "5_MiuNU4XT97"
      },
      "execution_count": null,
      "outputs": []
    },
    {
      "cell_type": "markdown",
      "source": [
        "每個 `print()` 會換行，可以用多個 `print()` 來輸出好幾行文字"
      ],
      "metadata": {
        "id": "pvXig2VoaaaK"
      }
    },
    {
      "cell_type": "code",
      "source": [
        "print(\"I love AI\")\n",
        "print(\"I love it, too\")"
      ],
      "metadata": {
        "id": "Lhu28SSgaxqv"
      },
      "execution_count": null,
      "outputs": []
    },
    {
      "cell_type": "code",
      "source": [],
      "metadata": {
        "id": "wzhcQZq8a2qR"
      },
      "execution_count": null,
      "outputs": []
    },
    {
      "cell_type": "markdown",
      "source": [
        "### 變數\n",
        "\n",
        "語法 `XXXX = YYY`，代表在記憶體中建立一個變數 `XXX`，並且將 `YYY` 的值指派給 `XXX`\n",
        "\n",
        "Python 變數的特性：\n",
        "- 無需事先宣告變數型別，首次指派一個值給變數時，該變數就會自動建立\n",
        "- 可以指派任何型別的物件給變數\n",
        "\n",
        "以下範例，第一段是變數 `var` 被建立並且值派為 `5` (型別為整數)，第二段則是將 `var` *的值改為* `\"five\"` (型別為字串)"
      ],
      "metadata": {
        "id": "IfZa7l43YbeI"
      }
    },
    {
      "cell_type": "code",
      "source": [
        "var = 5\n",
        "print(\"Value of var:\", var)"
      ],
      "metadata": {
        "id": "YZFLpSpfYsSh"
      },
      "execution_count": null,
      "outputs": []
    },
    {
      "cell_type": "code",
      "source": [],
      "metadata": {
        "id": "V6_v3zP1YxeE"
      },
      "execution_count": null,
      "outputs": []
    },
    {
      "cell_type": "code",
      "source": [
        "var = \"five\"\n",
        "print(\"Value of var:\", var)"
      ],
      "metadata": {
        "id": "s7lkL_UlZaw2"
      },
      "execution_count": null,
      "outputs": []
    },
    {
      "cell_type": "code",
      "source": [],
      "metadata": {
        "id": "seXeOOSJZbYz"
      },
      "execution_count": null,
      "outputs": []
    },
    {
      "cell_type": "markdown",
      "source": [
        "為變數命名的時候，盡量使用有意義的名字，增加程式碼的可讀性\n",
        "\n",
        "以下範例，第一段為不好的命名方式（`a`, `b` 讓人很難懂），第二段則好很多（`sentence` 是\"句子\"的意思，`number` 是\"數字\"的意思，讓人一看就懂）"
      ],
      "metadata": {
        "id": "HvRi_RXLcHx0"
      }
    },
    {
      "cell_type": "code",
      "source": [
        "a = \"I love you\"\n",
        "b = 87\n",
        "print(a, b)"
      ],
      "metadata": {
        "id": "Ge45hI_rdQJR"
      },
      "execution_count": null,
      "outputs": []
    },
    {
      "cell_type": "code",
      "source": [],
      "metadata": {
        "id": "fO7k0I0cdZxp"
      },
      "execution_count": null,
      "outputs": []
    },
    {
      "cell_type": "code",
      "source": [
        "sentence = \"I love you\"\n",
        "number = 87\n",
        "print(sentence, number)"
      ],
      "metadata": {
        "id": "moBl5a9RdX-q"
      },
      "execution_count": null,
      "outputs": []
    },
    {
      "cell_type": "code",
      "source": [],
      "metadata": {
        "id": "JAfhp2eHdaTx"
      },
      "execution_count": null,
      "outputs": []
    },
    {
      "cell_type": "markdown",
      "source": [
        "[補充] Python 的變數，實際上運作起來比較像“標籤”，是在做某個物件的 reference（參照），而不是真的把值存起來"
      ],
      "metadata": {
        "id": "KukY_5TwbDwN"
      }
    },
    {
      "cell_type": "markdown",
      "source": [
        "![image.png](data:image/png;base64,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)\n",
        "\n",
        "![image.png](data:image/png;base64,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)"
      ],
      "metadata": {
        "id": "Scqj7LpyazzH"
      }
    },
    {
      "cell_type": "markdown",
      "source": [
        "### 註解\n",
        "\n",
        "執行 Python 時，註解會被忽略不被執行：\n",
        "- 用 `#` 來做當行單行註解\n",
        "- 如果想要多行，可以用多行的 `#`\n",
        "\n",
        "註解通常是用來描述、說明你的程式碼，或是把一些暫時不用的程式碼註解掉"
      ],
      "metadata": {
        "id": "-HT0t1RH_7jF"
      }
    },
    {
      "cell_type": "code",
      "source": [
        "# This is one line comment.\n",
        "number = 100\n",
        "print(number)"
      ],
      "metadata": {
        "id": "jw6iEMl1_vRj"
      },
      "execution_count": null,
      "outputs": []
    },
    {
      "cell_type": "code",
      "source": [
        "# number = 50\n",
        "print(number)"
      ],
      "metadata": {
        "id": "EQ7ohsfgCCUf"
      },
      "execution_count": null,
      "outputs": []
    },
    {
      "cell_type": "code",
      "source": [
        "number = 30 # Comment can also be here.\n",
        "print(number)"
      ],
      "metadata": {
        "id": "1QhxBM8SCEye"
      },
      "execution_count": null,
      "outputs": []
    },
    {
      "cell_type": "code",
      "source": [
        "# This comment is very long, so I split the comment into two\n",
        "# seperate lines.\n",
        "number = 200\n",
        "print(number)"
      ],
      "metadata": {
        "id": "Q6Cp5lX9CGMd"
      },
      "execution_count": null,
      "outputs": []
    },
    {
      "cell_type": "markdown",
      "source": [
        "### 運算式與運算子\n",
        "\n",
        "Python 支援常見的算術與運算式，例如 `+`、`-`、`*`、`/` 分別代表加法、減法、乘法、除法，這些符號我們稱為運算子"
      ],
      "metadata": {
        "id": "HgQRN7xdd3Rb"
      }
    },
    {
      "cell_type": "code",
      "source": [
        "number_x = 10\n",
        "number_y = 5\n",
        "\n",
        "number_z = number_x + number_y\n",
        "print(\"x + y =\", number_z)\n",
        "\n",
        "number_z = number_x - number_y\n",
        "print(\"x - y =\", number_z)\n",
        "\n",
        "number_z = number_x * number_y\n",
        "print(\"x * y =\", number_z)\n",
        "\n",
        "number_z = number_x / number_y\n",
        "print(\"x / y =\", number_z)"
      ],
      "metadata": {
        "id": "6rIWmvhve9NN"
      },
      "execution_count": null,
      "outputs": []
    },
    {
      "cell_type": "code",
      "source": [],
      "metadata": {
        "id": "rFX6G58ogD0w"
      },
      "execution_count": null,
      "outputs": []
    },
    {
      "cell_type": "markdown",
      "source": [
        "要注意的是 `/` 會得到小數點的結果，如果要將小數點捨去，需要用整除運算 `//`"
      ],
      "metadata": {
        "id": "0jiRUksMgGwf"
      }
    },
    {
      "cell_type": "code",
      "source": [
        "number_x = 9\n",
        "number_y = number_x / 2\n",
        "number_z = number_x // 2\n",
        "\n",
        "print(\"3 * 2 =\", number_x)\n",
        "print(\"3 / 2 =\", number_y)\n",
        "print(\"3 // 2 =\", number_z)"
      ],
      "metadata": {
        "id": "_Hlneia8gSdT"
      },
      "execution_count": null,
      "outputs": []
    },
    {
      "cell_type": "code",
      "source": [],
      "metadata": {
        "id": "tqcqRv1igyDK"
      },
      "execution_count": null,
      "outputs": []
    },
    {
      "cell_type": "markdown",
      "source": [
        "`+` 跟 `-` 也可以單獨放在變數前，例如將數值為 `100` 的變數加上 `-` 會得到 `-100`"
      ],
      "metadata": {
        "id": "aAMCnEH3lg_N"
      }
    },
    {
      "cell_type": "code",
      "source": [
        "number = 100\n",
        "print(-number)"
      ],
      "metadata": {
        "id": "wMSrfuoNlHhy"
      },
      "execution_count": null,
      "outputs": []
    },
    {
      "cell_type": "code",
      "source": [],
      "metadata": {
        "id": "wBHFM_dumB5t"
      },
      "execution_count": null,
      "outputs": []
    },
    {
      "cell_type": "markdown",
      "source": [
        "運算子之間是有優先順序的，例如先加減後乘除。如果要改變計算順序，可以用 `(` 跟 `)` 將要優先計算的部份包起來。\n",
        "\n",
        "例如我們想要計算兩個值的平均，範例第一段會得到錯的結果（除法先被計算），第二段才會是對的"
      ],
      "metadata": {
        "id": "uaZVDn3pg4d8"
      }
    },
    {
      "cell_type": "code",
      "source": [
        "number_x = 10\n",
        "number_y = 5\n",
        "number_z = number_x + number_y / 2\n",
        "\n",
        "print(\"Wrong average:\", number_z)"
      ],
      "metadata": {
        "id": "DcpkOsOfjuyp"
      },
      "execution_count": null,
      "outputs": []
    },
    {
      "cell_type": "code",
      "source": [],
      "metadata": {
        "id": "IR7Js9zJj6IJ"
      },
      "execution_count": null,
      "outputs": []
    },
    {
      "cell_type": "code",
      "source": [
        "number_x = 10\n",
        "number_y = 5\n",
        "number_z = (number_x + number_y) / 2\n",
        "\n",
        "print(\"Correct average:\", number_z)"
      ],
      "metadata": {
        "id": "kl6Ugaq8j6jz"
      },
      "execution_count": null,
      "outputs": []
    },
    {
      "cell_type": "code",
      "source": [],
      "metadata": {
        "id": "eneVzvJ2kBq_"
      },
      "execution_count": null,
      "outputs": []
    },
    {
      "cell_type": "markdown",
      "source": [
        "其他幾個常用的預算子：例如：`%` 計算餘數、`**` 計算指數（次方）\n",
        "\n",
        "範例說明：\n",
        "- 13 除以 4 的餘數為 1（13 = 3 * 4 + \"1\"）\n",
        "- 2 的 3 次方"
      ],
      "metadata": {
        "id": "-CrD1Lf8mQBi"
      }
    },
    {
      "cell_type": "code",
      "source": [
        "print(13 % 4) \n",
        "print(2 ** 3)"
      ],
      "metadata": {
        "id": "hdhQjhSXmgwP"
      },
      "execution_count": null,
      "outputs": []
    },
    {
      "cell_type": "code",
      "source": [],
      "metadata": {
        "id": "qnnhwvY_mtkk"
      },
      "execution_count": null,
      "outputs": []
    },
    {
      "cell_type": "markdown",
      "source": [
        "[補充]\n",
        "\n",
        "1. 更完整的 Python 支援的運算子列表，請參考 [這裡](https://www.w3schools.com/python/python_operators.asp) 以及 [這裡](https://docs.python.org/3/library/operator.html#mapping-operators-to-functions)\n",
        "2. 運算子之間的預設的優先順序，則參考 [這裡](https://docs.python.org/3/reference/expressions.html#operator-precedence)"
      ],
      "metadata": {
        "id": "bBfKzTE_e9no"
      }
    },
    {
      "cell_type": "markdown",
      "source": [
        "### 字串（String）\n",
        "\n",
        "字串是一種很常用的型別，用來表達一連串的字元。我們可以用兩個單引號 `'` 或是雙引號 `\"` 包起一串字，來做為一個字串。\n",
        "\n",
        "為了維持一致性，這門課我們基本上都用雙引號"
      ],
      "metadata": {
        "id": "3fkQNsVZoDPQ"
      }
    },
    {
      "cell_type": "code",
      "source": [
        "sentence = \"I love AI\" # OK\n",
        "print(sentence)\n",
        "\n",
        "sentence = 'I love AI' # Also OK\n",
        "print(sentence)"
      ],
      "metadata": {
        "id": "8bDj7cZUp_6j"
      },
      "execution_count": null,
      "outputs": []
    },
    {
      "cell_type": "code",
      "source": [],
      "metadata": {
        "id": "N7-d_Uvsrbx2"
      },
      "execution_count": null,
      "outputs": []
    },
    {
      "cell_type": "markdown",
      "source": [
        "Python 內建 `str()` 函式，可以將變數轉成字串型別。"
      ],
      "metadata": {
        "id": "5vooG8hnLKjy"
      }
    },
    {
      "cell_type": "code",
      "source": [
        "number = 100 # 100\n",
        "print(number)\n",
        "\n",
        "sentence = str(number) # \"100\"\n",
        "print(sentence)"
      ],
      "metadata": {
        "id": "-PEIbRDTLUxb"
      },
      "execution_count": null,
      "outputs": []
    },
    {
      "cell_type": "code",
      "source": [],
      "metadata": {
        "id": "7bIRut7KLyuS"
      },
      "execution_count": null,
      "outputs": []
    },
    {
      "cell_type": "markdown",
      "source": [
        "[補充] 如果遇到字傳很長的狀況，會有以下兩種寫法，比較建議用第一種寫法，第二種容易產生預期外的結果，比較不推薦"
      ],
      "metadata": {
        "id": "UP2pi2t-rcJp"
      }
    },
    {
      "cell_type": "code",
      "source": [
        "# Recommended.\n",
        "long_sentence = \"Hello, this is a very very long story.\" \\\n",
        "                \"A long time long time ago, a girl was born.\"\n",
        "print(long_sentence)"
      ],
      "metadata": {
        "id": "HDdzLeVprUnK"
      },
      "execution_count": null,
      "outputs": []
    },
    {
      "cell_type": "code",
      "source": [
        "# Not recommended.\n",
        "long_sentence = \"\"\"Hello, this is a very very long story.\n",
        "A long time long time ago, a girl was born.\n",
        "\"\"\"\n",
        "print(long_sentence)"
      ],
      "metadata": {
        "id": "GVpRYUihrYdG"
      },
      "execution_count": null,
      "outputs": []
    },
    {
      "cell_type": "markdown",
      "source": [
        "### 數字\n",
        "\n",
        "Python 提供四種數字相關的型別：整數（Integer）、浮點數（Floating Point）、布林（Boolean）、複數（Complex Number），其中前三種都相當常用"
      ],
      "metadata": {
        "id": "JtNCGNQxsMu_"
      }
    },
    {
      "cell_type": "code",
      "source": [
        "number_int = 100 # Integer (int)\n",
        "print(number_int)\n",
        "\n",
        "number_float = 100.5 # Floating Point (float)\n",
        "print(number_float)\n",
        "\n",
        "number_bool = True # Boolean (bool)\n",
        "print(number_bool)"
      ],
      "metadata": {
        "id": "ExTnz7VYs-LA"
      },
      "execution_count": null,
      "outputs": []
    },
    {
      "cell_type": "code",
      "source": [],
      "metadata": {
        "id": "faJIaXBLx2uw"
      },
      "execution_count": null,
      "outputs": []
    },
    {
      "cell_type": "markdown",
      "source": [
        "Python 內建許多跟數字相關的函式，常用的如：\n",
        "- `int()`: 將型別轉換成整數\n",
        "- `float()`: 將型別轉換成浮點數\n",
        "- `bool()`: 將型別轉換成布林\n",
        "- `abs()`: 計算絕對值\n",
        "- `round()`: 四捨五入"
      ],
      "metadata": {
        "id": "QMs7OSEUtWnw"
      }
    },
    {
      "cell_type": "code",
      "source": [
        "print(int(100.1)) # 100.1 => 100\n",
        "print(int(\"100\")) # \"100\" (str) => 100 (int)\n",
        "print(float(100)) # 100 => 100.0\n",
        "print(float(\"100.5\")) # \"100.5\" (str) => 100.5 (float)\n",
        "print(bool(1)) # 1 => True\n",
        "print(bool(0)) # 0 => False\n",
        "print(abs(-3)) # -3 => 3\n",
        "print(round(3.4)) # 3.4 => 3\n",
        "print(round(3.5)) # 3.5 => 4"
      ],
      "metadata": {
        "id": "2XFiHCjdtWBl"
      },
      "execution_count": null,
      "outputs": []
    },
    {
      "cell_type": "code",
      "source": [],
      "metadata": {
        "id": "hNqIFyE0t6oE"
      },
      "execution_count": null,
      "outputs": []
    },
    {
      "cell_type": "markdown",
      "source": [
        "[補充] 更完整的內建函式，請參考 [這裡](https://docs.python.org/3/library/functions.html)"
      ],
      "metadata": {
        "id": "YPAolTNqvc1W"
      }
    },
    {
      "cell_type": "markdown",
      "source": [
        "### 取得變數的型別\n",
        "\n",
        "如果想要知道某個變數的型別，可以用內建函式 `type()` 來取得"
      ],
      "metadata": {
        "id": "_98BygfeIq_C"
      }
    },
    {
      "cell_type": "code",
      "source": [
        "var = 10 # Integer (int)\n",
        "print(var, \"=>\", type(var))\n",
        "\n",
        "var = 10.5 # Floating Point (float)\n",
        "print(var, \"=>\", type(var))\n",
        "\n",
        "var = \"10.5\" # String (str)\n",
        "print(var, \"=>\", type(var))"
      ],
      "metadata": {
        "id": "gc2peKr7I6Rh"
      },
      "execution_count": null,
      "outputs": []
    },
    {
      "cell_type": "code",
      "source": [],
      "metadata": {
        "id": "Ly11qUj_Jnoi"
      },
      "execution_count": null,
      "outputs": []
    },
    {
      "cell_type": "markdown",
      "source": [
        "### [補充] Python 的命名習慣\n",
        "\n",
        "- 變數、函式、套件名稱都用小寫，需要時可以加上 `_`\n",
        "    - 這種風格稱之為 snake_case\n",
        "- 常數全部用大寫，單字之間加底線\n",
        "- Class 名稱，每個英文單字第一個字母大寫\n",
        "    - 這種風格稱之為 CamelCase\n"
      ],
      "metadata": {
        "id": "jAKSMrelxRp4"
      }
    },
    {
      "cell_type": "code",
      "source": [
        "my_response = \"You are a good guy\" # Variable\n",
        "MY_RESPONSE = \"You are a good guy\" # Constant\n",
        "\n",
        "# Class\n",
        "class MyResponse():\n",
        "    def reply(self):\n",
        "        return \"You are a good guy\""
      ],
      "metadata": {
        "id": "ltagvMmCx65B"
      },
      "execution_count": null,
      "outputs": []
    },
    {
      "cell_type": "markdown",
      "source": [
        "## II. 基本資料結構：list 與 set"
      ],
      "metadata": {
        "id": "dh4g-CU-lXxB"
      }
    },
    {
      "cell_type": "markdown",
      "source": [
        "### list\n",
        "\n",
        "當我們要讓一個變數同時儲存很多值時，我們最常使用的資料結構為 list。\n",
        "\n",
        "list 很像其他語言的\"陣列\"，由有順序的 element 所構成。我們用左中括號 `[` 跟右中括號 `]` 來宣告一個 list，並且用逗號 `,` 來分開各個 element。\n",
        "\n",
        "範例第一段代表宣告有 3 個整數的 list（按順序為 `0`, `1`, `2`），第二段則是有 2 個字串的 list（案順序為 `\"zero\"`, `\"one\"`），第三段則是 0 個 element 的 list。\n"
      ],
      "metadata": {
        "id": "FECAxpFg7hki"
      }
    },
    {
      "cell_type": "code",
      "source": [
        "numbers = [0, 1, 2]\n",
        "print(numbers)"
      ],
      "metadata": {
        "id": "-O-XlD9288WD"
      },
      "execution_count": null,
      "outputs": []
    },
    {
      "cell_type": "code",
      "source": [],
      "metadata": {
        "id": "l7Zo8ehO-sjx"
      },
      "execution_count": null,
      "outputs": []
    },
    {
      "cell_type": "code",
      "source": [
        "sentences = [\"zero\", \"one\"]\n",
        "print(sentences)"
      ],
      "metadata": {
        "id": "l0aAO51q-tuH"
      },
      "execution_count": null,
      "outputs": []
    },
    {
      "cell_type": "code",
      "source": [],
      "metadata": {
        "id": "ZHInwQSq-yyH"
      },
      "execution_count": null,
      "outputs": []
    },
    {
      "cell_type": "code",
      "source": [
        "nothing_list = []\n",
        "print(nothing_list)"
      ],
      "metadata": {
        "id": "iCL2I6mk-_fm"
      },
      "execution_count": null,
      "outputs": []
    },
    {
      "cell_type": "markdown",
      "source": [
        "一個 list 裡的 element 可以有不同型別的 element，但通常不太建議這樣做\n"
      ],
      "metadata": {
        "id": "NEnbBc6R889C"
      }
    },
    {
      "cell_type": "code",
      "source": [
        "hybrids = [3, \"love\", 3.5, [1, 2, 3]]\n",
        "print(hybrids)"
      ],
      "metadata": {
        "id": "5gtIGqTz_IZ-"
      },
      "execution_count": null,
      "outputs": []
    },
    {
      "cell_type": "markdown",
      "source": [
        "可以用 `len()` 這個內建函式來計算一個 list 的 element 數量"
      ],
      "metadata": {
        "id": "N9dsmb7B_I9e"
      }
    },
    {
      "cell_type": "code",
      "source": [
        "numbers = [0, 1, 2]\n",
        "print(len(numbers))"
      ],
      "metadata": {
        "id": "pNg20DHT_azp"
      },
      "execution_count": null,
      "outputs": []
    },
    {
      "cell_type": "code",
      "source": [],
      "metadata": {
        "id": "zhh5JYJR_dpu"
      },
      "execution_count": null,
      "outputs": []
    },
    {
      "cell_type": "markdown",
      "source": [
        "### list 的 index\n",
        "\n",
        "當我們要取出 list 中的某個 element，可以在 list 後面加上 `[index]` 來取出\n",
        "。index 為一個整數，順序是從 0 開始，例如範例的 `\"a\"` 我們會說是第 0 個 element，而不是第 1 個"
      ],
      "metadata": {
        "id": "A8HIAfoTAyl2"
      }
    },
    {
      "cell_type": "code",
      "source": [
        "words = [\"a\", \"b\", \"c\", \"d\", \"e\"]\n",
        "\n",
        "print(words[0])\n",
        "print(words[3])"
      ],
      "metadata": {
        "id": "va4Xq1vSBq55"
      },
      "execution_count": null,
      "outputs": []
    },
    {
      "cell_type": "code",
      "source": [],
      "metadata": {
        "id": "DjN2nazXBwlc"
      },
      "execution_count": null,
      "outputs": []
    },
    {
      "cell_type": "markdown",
      "source": [
        "index 也可以是負數，則從 list 尾端開始算，例如 -1 代表最後一個，-2 代表倒數第二個"
      ],
      "metadata": {
        "id": "QcKPWUlHByHD"
      }
    },
    {
      "cell_type": "code",
      "source": [
        "words = [\"a\", \"b\", \"c\", \"d\", \"e\"]\n",
        "\n",
        "print(words[-1])\n",
        "print(words[-2])"
      ],
      "metadata": {
        "id": "BFz0ODtNCGUD"
      },
      "execution_count": null,
      "outputs": []
    },
    {
      "cell_type": "code",
      "source": [],
      "metadata": {
        "id": "9yqD6VLDCUNy"
      },
      "execution_count": null,
      "outputs": []
    },
    {
      "cell_type": "markdown",
      "source": [
        "### list 的 slicing\n",
        "\n",
        "slicing 是用來一次取 list 中的多個 element，其結果仍為一個 list。\n",
        "\n",
        "語法：`[index1:index2]` 代表取出 index1 到 index2 之間，含 index1 但不含 index2 的 element，例如當 index1 為 0、index2 為 2 時，取出第 0 個跟第 1 個 element"
      ],
      "metadata": {
        "id": "EqJd6QfaCZ9J"
      }
    },
    {
      "cell_type": "code",
      "source": [
        "words = [\"a\", \"b\", \"c\", \"d\", \"e\"]\n",
        "\n",
        "print(words[0:2])\n",
        "print(words[1:4])\n",
        "print(words[0:-1])\n",
        "print(words[-2:-1])"
      ],
      "metadata": {
        "id": "T6JzZQaiDgDy"
      },
      "execution_count": null,
      "outputs": []
    },
    {
      "cell_type": "code",
      "source": [],
      "metadata": {
        "id": "cc6fU3NfHx-1"
      },
      "execution_count": null,
      "outputs": []
    },
    {
      "cell_type": "markdown",
      "source": [
        "index1 跟 index2 可以忽略：\n",
        "- 忽略 index1 等同於 index1 為 0，例如 `[:2]` 等同於 `[0:2]`\n",
        "- 忽略 index2 時，則會取到最後一個 element，例如範例的 `[3:]` 代表取出第 3 跟 第 4 個 element\n",
        "- 兩個都忽略時，則會取出所有 element"
      ],
      "metadata": {
        "id": "ndq7o1NaGbwY"
      }
    },
    {
      "cell_type": "code",
      "source": [
        "words = [\"a\", \"b\", \"c\", \"d\", \"e\"]\n",
        "\n",
        "print(words[:2])\n",
        "print(words[3:])\n",
        "print(words[:])"
      ],
      "metadata": {
        "id": "yDeWNkw7H0-P"
      },
      "execution_count": null,
      "outputs": []
    },
    {
      "cell_type": "code",
      "source": [],
      "metadata": {
        "id": "6xqMClyiJS6J"
      },
      "execution_count": null,
      "outputs": []
    },
    {
      "cell_type": "markdown",
      "source": [
        "### 更改 list 的 element\n",
        "\n",
        "結合 list 的 index / slicing，加上 `=`，就可以更改 list 的 element"
      ],
      "metadata": {
        "id": "fWTgGhWTJz_h"
      }
    },
    {
      "cell_type": "code",
      "source": [
        "words = [\"a\", \"b\", \"c\", \"d\", \"e\"]\n",
        "print(\"Before:\", words)\n",
        "\n",
        "words[1] = \"bb\"\n",
        "print(\"After:\", words)"
      ],
      "metadata": {
        "id": "GOnOufABKCiq"
      },
      "execution_count": null,
      "outputs": []
    },
    {
      "cell_type": "code",
      "source": [],
      "metadata": {
        "id": "ZxyO4iWqKRl5"
      },
      "execution_count": null,
      "outputs": []
    },
    {
      "cell_type": "code",
      "source": [
        "words = [\"a\", \"b\", \"c\", \"d\", \"e\"]\n",
        "print(\"Before:\", words)\n",
        "\n",
        "words[1:3] = [\"bb\", \"cc\"]\n",
        "print(\"After:\", words)"
      ],
      "metadata": {
        "id": "FR9p_jcmKVka"
      },
      "execution_count": null,
      "outputs": []
    },
    {
      "cell_type": "code",
      "source": [],
      "metadata": {
        "id": "Khx5sfQ7Kakw"
      },
      "execution_count": null,
      "outputs": []
    },
    {
      "cell_type": "markdown",
      "source": [
        "### list 常用的函式與方法\n",
        "\n",
        "list 有許多相關的函式（`function(變數)`）與方法（`變數.method()`），以下介紹幾個常見的"
      ],
      "metadata": {
        "id": "syy1-zhEMxDS"
      }
    },
    {
      "cell_type": "markdown",
      "source": [
        "list 可以動態增加的 element，透過以下幾個方法或是 `+` 運算子：\n",
        "- `list.append()`: 將某個 element 加入到 list 的最後一個位置\n",
        "- `list.insert()`: 將某個 element 加入到 list 的某個位置\n",
        "- `list.extend()`: 將另一個 list 的所有 element 加入到 list 中\n",
        "- `list3 = list1 + list2`: 指派 list3 的內容為另外兩個 list 的所有 element"
      ],
      "metadata": {
        "id": "of3Kyi40PH5x"
      }
    },
    {
      "cell_type": "code",
      "source": [
        "numbers = [0, 1, 2]\n",
        "numbers.append(3)\n",
        "print(numbers) "
      ],
      "metadata": {
        "id": "-d2Fi_47QxQR"
      },
      "execution_count": null,
      "outputs": []
    },
    {
      "cell_type": "code",
      "source": [],
      "metadata": {
        "id": "oJzR05bWQy4b"
      },
      "execution_count": null,
      "outputs": []
    },
    {
      "cell_type": "code",
      "source": [
        "numbers = [0, 1, 2]\n",
        "numbers.insert(1, 10)\n",
        "print(numbers)"
      ],
      "metadata": {
        "id": "G1vIvUdrRVDE"
      },
      "execution_count": null,
      "outputs": []
    },
    {
      "cell_type": "code",
      "source": [],
      "metadata": {
        "id": "hWjcPWPWRaNA"
      },
      "execution_count": null,
      "outputs": []
    },
    {
      "cell_type": "code",
      "source": [
        "numbers = [0, 1, 2]\n",
        "numbers_another = [3, 4]\n",
        "numbers.extend(numbers_another)\n",
        "print(numbers)"
      ],
      "metadata": {
        "id": "XmH_CMBhRaib"
      },
      "execution_count": null,
      "outputs": []
    },
    {
      "cell_type": "code",
      "source": [],
      "metadata": {
        "id": "9E7btP63Rdl9"
      },
      "execution_count": null,
      "outputs": []
    },
    {
      "cell_type": "code",
      "source": [
        "numbers = [0, 1, 2]\n",
        "numbers_another = [3, 4]\n",
        "numbers_final = numbers + numbers_another\n",
        "print(numbers_final)\n",
        "print(numbers)\n",
        "print(numbers_another)"
      ],
      "metadata": {
        "id": "yhtpOWaeRd5-"
      },
      "execution_count": null,
      "outputs": []
    },
    {
      "cell_type": "code",
      "source": [],
      "metadata": {
        "id": "4tfo06s2R7s4"
      },
      "execution_count": null,
      "outputs": []
    },
    {
      "cell_type": "markdown",
      "source": [
        "如果想要刪除某個 element，則可以使用：\n",
        "- `del list[index]`: 移除某個位置的 element\n",
        "- `list.remove()`: 移除第一個遇到的某個值的 element"
      ],
      "metadata": {
        "id": "IQ05wwa9TZg5"
      }
    },
    {
      "cell_type": "code",
      "source": [
        "numbers = [0, 1, 2]\n",
        "del numbers[1]\n",
        "print(numbers)"
      ],
      "metadata": {
        "id": "BgCWAcvcT1_W"
      },
      "execution_count": null,
      "outputs": []
    },
    {
      "cell_type": "code",
      "source": [],
      "metadata": {
        "id": "uZfD35IbT5eu"
      },
      "execution_count": null,
      "outputs": []
    },
    {
      "cell_type": "code",
      "source": [
        "numbers = [0, 3, 2, 3]\n",
        "numbers.remove(3)\n",
        "print(numbers) # [0, 2, 3]\n",
        "numbers.remove(3)\n",
        "print(numbers) # [0, 2]"
      ],
      "metadata": {
        "id": "uVYGJGaqT6hb"
      },
      "execution_count": null,
      "outputs": []
    },
    {
      "cell_type": "code",
      "source": [],
      "metadata": {
        "id": "c8R35CEaT-l2"
      },
      "execution_count": null,
      "outputs": []
    },
    {
      "cell_type": "markdown",
      "source": [
        "如果要比較 list 中各個 element 數值，可以使用：\n",
        "- `min()`: 取得 list 中最小值的 element\n",
        "- `max()`: 取得 list 中最大值的 element\n",
        "- `list2 = sorted(list1)`: 將 list1 中 element 排序，結果指派給 list2。預設為從小排到大"
      ],
      "metadata": {
        "id": "JWRKS8n_UzHa"
      }
    },
    {
      "cell_type": "code",
      "source": [
        "numbers = [9, 4, 8, 7]\n",
        "print(min(numbers))\n",
        "print(max(numbers))"
      ],
      "metadata": {
        "id": "GZ0EqoCTVnyl"
      },
      "execution_count": null,
      "outputs": []
    },
    {
      "cell_type": "code",
      "source": [],
      "metadata": {
        "id": "IKr2vTCaVr4t"
      },
      "execution_count": null,
      "outputs": []
    },
    {
      "cell_type": "code",
      "source": [
        "numbers = [9, 4, 8, 7]\n",
        "sorted_numbers = sorted(numbers)\n",
        "print(sorted_numbers)\n",
        "print(numbers)"
      ],
      "metadata": {
        "id": "T6Nr-357Vtrr"
      },
      "execution_count": null,
      "outputs": []
    },
    {
      "cell_type": "code",
      "source": [],
      "metadata": {
        "id": "UF7IqtQ7V4Hc"
      },
      "execution_count": null,
      "outputs": []
    },
    {
      "cell_type": "code",
      "source": [
        "numbers = [9, 4, 8, 7]\n",
        "sorted_numbers = sorted(numbers, reverse=True)\n",
        "print(sorted_numbers)"
      ],
      "metadata": {
        "id": "T_1byS1EV5EG"
      },
      "execution_count": null,
      "outputs": []
    },
    {
      "cell_type": "code",
      "source": [],
      "metadata": {
        "id": "aakU7NvgV-PR"
      },
      "execution_count": null,
      "outputs": []
    },
    {
      "cell_type": "markdown",
      "source": [
        "如果 list 中都是數字，可以用 `sum()` 來做總和"
      ],
      "metadata": {
        "id": "7_UyRHYQ0iuF"
      }
    },
    {
      "cell_type": "code",
      "source": [
        "numbers = [9, 4, 8, 7]\n",
        "print(sum(numbers))"
      ],
      "metadata": {
        "id": "DVKYIQQi0h6G"
      },
      "execution_count": null,
      "outputs": []
    },
    {
      "cell_type": "code",
      "source": [],
      "metadata": {
        "id": "bLOqDgUR0xjQ"
      },
      "execution_count": null,
      "outputs": []
    },
    {
      "cell_type": "markdown",
      "source": [
        "判斷某個 element 是否存在於某 list 之中：\n",
        "- `element in list`: 如果 element 存在 list 之中，回傳 True，否則回傳 False\n",
        "- `element not in list`: 如果 element 不存在 list 之中，回傳 True，否則回傳 False"
      ],
      "metadata": {
        "id": "nmmqk3JlWGrX"
      }
    },
    {
      "cell_type": "code",
      "source": [
        "numbers = [9, 4, 8, 7]\n",
        "print(9 in numbers)\n",
        "print(5 in numbers)\n",
        "print(5 not in numbers)"
      ],
      "metadata": {
        "id": "X3k6zHpwWmwL"
      },
      "execution_count": null,
      "outputs": []
    },
    {
      "cell_type": "code",
      "source": [],
      "metadata": {
        "id": "oo6xNZIhWpx2"
      },
      "execution_count": null,
      "outputs": []
    },
    {
      "cell_type": "markdown",
      "source": [
        "### set\n",
        "\n",
        "set 是另一種 Python 的內建型別，set 如同 list 可以讓一個變數儲存很多值，但 set 裡面重複的資料會被自動刪除（數學概念中的\"集合\"）。\n",
        "\n",
        "類似 list，我們用左大括號 `{` 跟右中括號 `}` 來宣告一個 set，並且用逗號 `,` 來分開各個 element。"
      ],
      "metadata": {
        "id": "LDVo9_p3XjL9"
      }
    },
    {
      "cell_type": "code",
      "source": [
        "numbers_set = {9, 4, 8, 7}\n",
        "print(numbers_set)"
      ],
      "metadata": {
        "id": "jtmpuLE4Y3i3"
      },
      "execution_count": null,
      "outputs": []
    },
    {
      "cell_type": "code",
      "source": [],
      "metadata": {
        "id": "cdxatxVYZYR7"
      },
      "execution_count": null,
      "outputs": []
    },
    {
      "cell_type": "code",
      "source": [
        "numbers_set = {9, 9, 4, 4, 4, 8, 8, 7, 7}\n",
        "print(numbers_set)"
      ],
      "metadata": {
        "id": "s_ZIghPYZYqk"
      },
      "execution_count": null,
      "outputs": []
    },
    {
      "cell_type": "code",
      "source": [],
      "metadata": {
        "id": "1FyRy7YgZY-H"
      },
      "execution_count": null,
      "outputs": []
    },
    {
      "cell_type": "markdown",
      "source": [
        "要增加或刪除 set 中的 element，可以使用 `set.add()` 或 `set.remove()`"
      ],
      "metadata": {
        "id": "u4TlhH5eZdiP"
      }
    },
    {
      "cell_type": "code",
      "source": [
        "numbers_set = {9, 4, 8, 7}\n",
        "\n",
        "numbers_set.add(5)\n",
        "print(numbers_set)\n",
        "\n",
        "numbers_set.add(9)\n",
        "print(numbers_set)\n",
        "\n",
        "numbers_set.remove(9)\n",
        "print(numbers_set)"
      ],
      "metadata": {
        "id": "jiY_mmM8Z2W7"
      },
      "execution_count": null,
      "outputs": []
    },
    {
      "cell_type": "code",
      "source": [],
      "metadata": {
        "id": "QH1ACHAoaI2f"
      },
      "execution_count": null,
      "outputs": []
    },
    {
      "cell_type": "markdown",
      "source": [
        "list 的相關函式，大部分也可以套用在 set 上，例如 `min()`, `len()`"
      ],
      "metadata": {
        "id": "65fsOUpIbC8Z"
      }
    },
    {
      "cell_type": "code",
      "source": [
        "numbers_set = {9, 4, 8, 7}\n",
        "print(min(numbers_set))"
      ],
      "metadata": {
        "id": "I8K-xORmbJDW"
      },
      "execution_count": null,
      "outputs": []
    },
    {
      "cell_type": "code",
      "source": [],
      "metadata": {
        "id": "C23OSVZSbSDr"
      },
      "execution_count": null,
      "outputs": []
    },
    {
      "cell_type": "code",
      "source": [
        "numbers_set = {9, 4, 8, 7}\n",
        "print(len(numbers_set))\n",
        "\n",
        "numbers_set = {9, 4, 8, 7, 7}\n",
        "print(len(numbers_set)) # The length is 4, not 5!"
      ],
      "metadata": {
        "id": "iQ7JZx7pbTW_"
      },
      "execution_count": null,
      "outputs": []
    },
    {
      "cell_type": "code",
      "source": [],
      "metadata": {
        "id": "gwOen9zxbaNh"
      },
      "execution_count": null,
      "outputs": []
    },
    {
      "cell_type": "markdown",
      "source": [
        "list 與 set 可以用 `set()` 與 `list()` 互相轉換型別，要注意轉換後的內容可能會部份遺失"
      ],
      "metadata": {
        "id": "6u-lcryjbiUN"
      }
    },
    {
      "cell_type": "code",
      "source": [
        "numbers = [9, 9, 4, 4, 4, 8, 8, 7, 7] # list\n",
        "print(\"list:\", numbers)\n",
        "\n",
        "numbers = set(numbers) # convert list to set\n",
        "print(\"list -> set:\", numbers)\n",
        "\n",
        "numbers = list(numbers) # convert back to list\n",
        "print(\"list -> set -> list:\", numbers)"
      ],
      "metadata": {
        "id": "0L_TCSEKb4Q2"
      },
      "execution_count": null,
      "outputs": []
    },
    {
      "cell_type": "code",
      "source": [],
      "metadata": {
        "id": "OAOoO3CWcWPE"
      },
      "execution_count": null,
      "outputs": []
    },
    {
      "cell_type": "markdown",
      "source": [
        "## III. 應用練習"
      ],
      "metadata": {
        "id": "-zSS0JlTFBdj"
      }
    },
    {
      "cell_type": "markdown",
      "metadata": {
        "id": "xGEuxLe0YRAm"
      },
      "source": [
        "### 應用練習題的編寫規則\n",
        "\n",
        "1. 每個應用練習題，都會有題目的說明、程式碼區塊與預期的答案等。請注意的是程式碼區塊已經有先設定好的變數名稱、順序等，因此除了有出現類似 `# PLEASE MODIFY` 的區塊之外，**請盡量不要更動裡面的內容**，避免得到錯的結果。\n",
        "2. 每題都會附上參考解答，除非你真的解不出來，否則盡量在答對該題後再打開它"
      ]
    },
    {
      "cell_type": "markdown",
      "source": [
        "### （一）期中考分數大比較\n",
        "\n",
        "小明與小華是兩位都是班上的學霸，常常會互相比較考試分數。某次期中考的科目分別為國文、英文、數學，我們分別已知小明（`ming_chinese`、`ming_english`、`ming_math`）與小華（`hua_chinese`、`hua_english`、`hua_math`）的分數，想要從這些資訊中得到：\n",
        "\n",
        "1. 小明三科的總分\n",
        "2. 小華三科的總分\n",
        "3. 兩人數學的平均\n",
        "4. 小明與小華國文分數差距的絕對值\n",
        "\n",
        "[提示] 你可能需要了解以下功能的運作方式：\n",
        "- 基本的數值運算\n",
        "- 運用 *abs()* 函式，得到數字的絕對值"
      ],
      "metadata": {
        "id": "C-SBGnxXUPLM"
      }
    },
    {
      "cell_type": "code",
      "source": [
        "ming_chinese = 92\n",
        "ming_english = 89\n",
        "ming_math = 83\n",
        "\n",
        "hua_chinese = 87\n",
        "hua_english = 90\n",
        "hua_math = 95"
      ],
      "metadata": {
        "id": "smyFfIyzZT31"
      },
      "execution_count": null,
      "outputs": []
    },
    {
      "cell_type": "code",
      "source": [
        "#@title 1. 小明三科的總分\n",
        "ming_total = ming_chinese + ming_english + ming_math\n",
        "print(\"Total score of Ming =\", ming_total) # Expected output: 264"
      ],
      "metadata": {
        "id": "URboB8oCZs3K"
      },
      "execution_count": null,
      "outputs": []
    },
    {
      "cell_type": "code",
      "source": [
        "#@title 2. 小華三科的總分\n",
        "hua_total = 0 # PLEASE MODIFY\n",
        "print(\"Total score of Hua =\", hua_total) # Expected output: 272"
      ],
      "metadata": {
        "id": "L24Y6m_Hl42B"
      },
      "execution_count": null,
      "outputs": []
    },
    {
      "cell_type": "code",
      "source": [
        "#@title 參考解答\n",
        "hua_total = hua_chinese + hua_english + hua_math # PLEASE MODIFY\n",
        "print(\"Total score of Hua =\", hua_total) # Expected output: 272"
      ],
      "metadata": {
        "cellView": "form",
        "id": "vUTBpJd_oF17"
      },
      "execution_count": null,
      "outputs": []
    },
    {
      "cell_type": "code",
      "source": [
        "#@title 3. 兩人數學的平均\n",
        "math_avg = 0.0 # PLEASE MODIFY\n",
        "print(\"Average math score of Hua and Ming =\", math_avg) # Expected output: 89.0"
      ],
      "metadata": {
        "id": "xEeh9vS6aa1n"
      },
      "execution_count": null,
      "outputs": []
    },
    {
      "cell_type": "code",
      "source": [
        "#@title 參考解答\n",
        "math_avg = (ming_math + hua_math) / 2 # PLEASE MODIFY\n",
        "print(\"Average math score of Hua and Ming =\", math_avg) # Expected output: 89.0"
      ],
      "metadata": {
        "cellView": "form",
        "id": "dheb4gdsr9nk"
      },
      "execution_count": null,
      "outputs": []
    },
    {
      "cell_type": "code",
      "source": [
        "#@title 4. 小明與小華國文分數差距的絕對值\n",
        "abs_chinese_diff = 0 # PLEASE MODIFY\n",
        "print(\"Absolute chinese score difference of Hua and Ming =\", abs_chinese_diff) # Expected output: 5"
      ],
      "metadata": {
        "id": "mnrj2jp4a5gT"
      },
      "execution_count": null,
      "outputs": []
    },
    {
      "cell_type": "code",
      "source": [
        "#@title 參考解答\n",
        "abs_chinese_diff = abs(ming_chinese - hua_chinese) # PLEASE MODIFY\n",
        "print(\"Absolute chinese score difference of Hua and Ming =\", abs_chinese_diff) # Expected output: 5"
      ],
      "metadata": {
        "cellView": "form",
        "id": "Hd-gHgdMsNXJ"
      },
      "execution_count": null,
      "outputs": []
    },
    {
      "cell_type": "markdown",
      "metadata": {
        "id": "e75HmxuUENW8"
      },
      "source": [
        "### （二）健康檢查\n",
        "\n",
        "我們有一筆關於 10 個人做健康檢查的結果，包含體重（`weights`，單位為公斤）以及身高（`heights`，單位為公分）。今天想要從這些資料中得到以下訊息：\n",
        "1. 第一個人的體重\n",
        "2. 第一個人的身高\n",
        "3. 最後一個人的體重\n",
        "4. 最後一個人的身高\n",
        "5. 最後一個人的 BMI 值\n",
        "    - BMI 計算方式：體重（公斤） / 身高（公尺）的平方\n",
        "6. 最後一個人的 BMI 值，但是把小數位無條件捨去\n",
        "\n",
        "[提示] 你可能需要了解以下功能的運作方式：\n",
        "- *list* 的 *index*\n",
        "- 基本的數值運算\n",
        "- 型別轉換，運用 `int()` 將 *float* 轉成 *int*"
      ]
    },
    {
      "cell_type": "code",
      "metadata": {
        "id": "JJA285HdE5sV"
      },
      "source": [
        "weights = [76, 51, 72, 67, 58, 51, 71, 54, 55, 53]\n",
        "heights = [154, 169, 151, 161, 154, 170, 172, 173, 178, 168]"
      ],
      "execution_count": null,
      "outputs": []
    },
    {
      "cell_type": "code",
      "source": [
        "#@title 1. 第一個人的體重\n",
        "first_weight = weights[0]\n",
        "print(\"Weight of First Person =\", first_weight) # Expected output: 76"
      ],
      "metadata": {
        "id": "-_2sMhMiHx62"
      },
      "execution_count": null,
      "outputs": []
    },
    {
      "cell_type": "code",
      "source": [
        "#@title 2. 第一個人的身高\n",
        "first_height = 0\n",
        "print(\"Height of First Person =\", first_height) # Expected output: 154"
      ],
      "metadata": {
        "id": "hK_WAfp0H7WJ"
      },
      "execution_count": null,
      "outputs": []
    },
    {
      "cell_type": "code",
      "source": [
        "#@title 參考解答\n",
        "first_height = heights[0]\n",
        "print(\"Height of First Person =\", first_height) # Expected output: 154"
      ],
      "metadata": {
        "cellView": "form",
        "id": "YFcAjvZctXPE"
      },
      "execution_count": null,
      "outputs": []
    },
    {
      "cell_type": "code",
      "source": [
        "#@title 3. 最後一個人的體重\n",
        "last_weight = weights[-1] # PLEASE MODIFY\n",
        "print(\"Weight of Last Person =\", last_weight) # Expected output: 53"
      ],
      "metadata": {
        "id": "y_tnNUfPH-sQ"
      },
      "execution_count": null,
      "outputs": []
    },
    {
      "cell_type": "code",
      "source": [
        "#@title 4. 最後一個人的身高\n",
        "last_height = 0 # PLEASE MODIFY\n",
        "print(\"Height of Last Person =\", last_height) # Expected output: 168"
      ],
      "metadata": {
        "id": "wRfuLq1KIIpM"
      },
      "execution_count": null,
      "outputs": []
    },
    {
      "cell_type": "code",
      "source": [
        "#@title 參考解答\n",
        "last_height = heights[-1] # PLEASE MODIFY\n",
        "print(\"Height of Last Person =\", last_height) # Expected output: 168"
      ],
      "metadata": {
        "cellView": "form",
        "id": "e15N5Ay9tlK4"
      },
      "execution_count": null,
      "outputs": []
    },
    {
      "cell_type": "code",
      "source": [
        "#@title 5. 最後一個人的 BMI 值\n",
        "last_height_cm = last_height / 100\n",
        "last_bmi_float = 0.0 # PLEASE MODIFY\n",
        "print(\"BMI of Last Person (Floating Point) =\", last_bmi_float) # Expected output: 18.77834467120182"
      ],
      "metadata": {
        "id": "vCylhau4IPt3"
      },
      "execution_count": null,
      "outputs": []
    },
    {
      "cell_type": "code",
      "source": [
        "#@title 參考解答\n",
        "last_height_cm = last_height / 100\n",
        "last_bmi_float = last_weight / (last_height_cm * last_height_cm) # PLEASE MODIFY\n",
        "print(\"BMI of Last Person (Floating Point) =\", last_bmi_float) # Expected output: 18.77834467120182"
      ],
      "metadata": {
        "cellView": "form",
        "id": "zQFXYQPjtwOI"
      },
      "execution_count": null,
      "outputs": []
    },
    {
      "cell_type": "code",
      "source": [
        "#@title 6. 最後一個人的 BMI 值，但是把小數位無條件捨去\n",
        "last_bmi_int = 0 # PLEASE MODIFY\n",
        "print(\"BMI of Last Person (Integer) =\", last_bmi_int) # Expected output: 18"
      ],
      "metadata": {
        "id": "UMd4cpzXIX4O"
      },
      "execution_count": null,
      "outputs": []
    },
    {
      "cell_type": "code",
      "source": [
        "#@title 參考解答\n",
        "last_bmi_int = int(last_bmi_float) # PLEASE MODIFY\n",
        "print(\"BMI of Last Person (Integer) =\", last_bmi_int) # Expected output: 18"
      ],
      "metadata": {
        "cellView": "form",
        "id": "f1CxzGfruc_J"
      },
      "execution_count": null,
      "outputs": []
    },
    {
      "cell_type": "markdown",
      "metadata": {
        "id": "f2xYHcJvPCZn"
      },
      "source": [
        "### （三）溫度資訊統計\n",
        "\n",
        "我們有一組某個地方的溫度觀測資料：`temperatures`，為 1948 年至 2016 年每月的最高溫度。請試著從這些資料中得到一些基本資訊，包含：\n",
        "1. 最高溫\n",
        "2. 最低溫\n",
        "3. 平均溫度\n",
        "4. 前十筆資料的平均溫度\n",
        "5. 第三高的溫度\n",
        "6. 有多少個不重複的溫度值\n",
        "\n",
        "[提示] 你可能會需要用到以下跟 *list* 的 *slicing*、*set* 以及 *list* 相關的函式：\n",
        "- `max()`\n",
        "- `min()`\n",
        "- `sum()`\n",
        "- `len()`\n",
        "- `sorted()`"
      ]
    },
    {
      "cell_type": "code",
      "metadata": {
        "id": "K9aVON94LnKO"
      },
      "source": [
        "temperatures = [8.9, 7.9, 14.2, 15.4, 18.1, 19.1, 21.7, 20.8, 19.6, 14.9, 10.8, 8.8, 8.5, 10.4, 9.3, 16.2, 17.1, 22.0, 25.1, 23.9, 22.8, 17.0, 10.2, 9.2, 7.1, 9.9, 12.3, 12.9, 17.2, 23.6, 21.6, 21.9, 17.6, 14.0, 9.3, 3.8, 7.3, 7.0, 8.4, 12.3, 15.0, 20.5, 23.0, 20.2, 19.2, 14.6, 11.8, 8.9, 6.2, 6.7, 10.6, 15.6, 19.6, 20.9, 23.3, 21.6, 16.4, 13.2, 7.5, 5.8, 5.6, 7.5, 11.1, 13.1, 18.7, 19.8, 21.0, 22.6, 19.5, 14.7, 11.3, 10.0, 5.9, 6.1, 10.4, 13.2, 16.8, 18.6, 19.2, 19.8, 18.0, 16.2, 11.2, 9.7, 5.6, 5.0, 7.9, 15.2, 15.5, 20.0, 24.4, 24.3, 19.9, 13.5, 10.7, 9.5, 7.0, 2.9, 11.0, 12.1, 19.1, 18.5, 20.9, 18.8, 19.2, 13.8, 9.3, 8.2, 8.7, 9.0, 13.9, 14.2, 16.2, 23.6, 22.5, 21.1, 17.6, 15.5, 9.4, 7.6, 6.8, 8.9, 8.1, 12.3, 17.3, 19.4, 21.7, 20.8, 20.0, 14.9, 9.7, 8.0, 5.7, 7.4, 11.9, 14.2, 18.7, 22.1, 24.7, 24.2, 22.7, 17.8, 10.8, 9.3, 6.9, 7.9, 10.2, 14.3, 18.4, 22.1, 20.1, 20.3, 18.5, 14.2, 11.2, 6.9, 6.9, 10.3, 13.9, 15.0, 16.8, 21.7, 22.1, 21.7, 20.9, 15.6, 9.9, 6.8, 7.9, 7.6, 7.4, 12.7, 15.0, 20.4, 20.6, 20.0, 17.8, 15.7, 9.1, 5.0, 0.8, 2.8, 10.7, 13.6, 16.0, 20.8, 21.1, 19.8, 18.0, 14.8, 11.8, 5.4, 5.8, 7.6, 7.6, 12.8, 19.6, 19.3, 22.8, 22.3, 21.1, 13.7, 11.2, 7.1, 6.6, 5.9, 10.5, 13.4, 16.8, 19.7, 19.3, 20.8, 17.4, 16.2, 8.4, 8.4, 5.3, 9.3, 10.9, 12.2, 17.0, 21.8, 20.1, 20.6, 19.6, 14.7, 8.8, 9.3, 7.3, 9.3, 11.6, 12.5, 15.6, 20.1, 23.5, 21.5, 18.5, 15.0, 9.7, 7.2, 7.2, 5.7, 11.1, 13.7, 15.4, 20.6, 20.7, 20.2, 18.8, 16.5, 9.5, 5.4, 8.9, 4.9, 8.0, 13.6, 17.1, 20.6, 23.9, 21.8, 19.6, 18.2, 9.6, 6.1, 7.1, 7.2, 8.1, 11.4, 19.2, 23.6, 21.3, 22.3, 20.3, 15.7, 11.9, 7.0, 7.8, 8.6, 9.1, 12.2, 18.1, 17.8, 24.1, 21.3, 20.7, 17.2, 10.4, 9.3, 6.9, 7.9, 12.4, 12.9, 16.0, 17.5, 22.3, 21.8, 17.3, 15.6, 9.9, 9.4, 7.3, 8.1, 11.5, 12.5, 16.9, 21.9, 21.4, 23.7, 20.7, 13.9, 10.3, 8.6, 9.6, 9.2, 10.3, 14.0, 17.0, 20.1, 20.9, 21.5, 17.5, 11.0, 10.6, 11.0, 10.3, 9.3, 8.4, 13.3, 15.1, 21.8, 24.1, 25.9, 19.5, 14.4, 10.1, 7.6, 8.8, 7.8, 9.5, 13.7, 19.3, 25.5, 26.6, 25.1, 19.0, 14.9, 9.9, 5.6, 6.1, 9.6, 11.2, 12.2, 16.4, 17.4, 22.4, 20.3, 18.0, 16.3, 10.4, 9.2, 6.7, 6.2, 11.3, 10.7, 17.2, 19.7, 20.5, 20.7, 20.1, 17.1, 12.6, 7.8, 3.8, 4.5, 9.2, 12.7, 15.9, 19.0, 22.5, 21.0, 19.6, 16.4, 10.8, 9.2, 6.0, 9.9, 9.0, 14.0, 17.3, 19.8, 19.7, 21.9, 20.1, 14.0, 9.3, 8.9, 8.1, 7.1, 11.8, 12.9, 16.1, 18.5, 22.0, 22.8, 20.3, 12.9, 11.5, 4.4, 6.9, 8.4, 11.1, 14.3, 18.0, 21.5, 22.7, 22.2, 20.8, 14.1, 11.4, 8.2, 10.0, 5.5, 10.8, 12.4, 15.6, 20.8, 27.6, 24.5, 19.3, 15.1, 11.3, 9.2, 8.0, 7.4, 8.9, 14.6, 14.9, 21.3, 24.2, 24.4, 18.6, 15.8, 12.2, 8.7, 4.1, 6.3, 9.4, 14.0, 16.4, 18.5, 22.9, 20.3, 20.6, 16.1, 8.1, 10.0, 7.2, 1.7, 10.1, 10.9, 16.3, 21.8, 22.6, 20.0, 17.4, 16.4, 12.1, 9.7, 3.6, 7.7, 8.5, 15.8, 16.3, 18.6, 21.8, 21.8, 19.3, 15.0, 9.8, 8.9, 8.8, 8.7, 10.7, 13.5, 18.0, 19.7, 20.0, 21.8, 18.8, 15.5, 9.9, 10.4, 9.5, 10.2, 12.9, 11.5, 21.0, 22.1, 25.8, 24.2, 20.7, 17.1, 10.9, 9.4, 10.2, 11.7, 13.6, 14.6, 20.5, 19.5, 24.7, 26.0, 19.7, 16.9, 10.7, 7.6, 7.3, 5.4, 12.5, 13.1, 15.7, 17.8, 23.2, 24.1, 21.4, 14.6, 10.6, 8.3, 7.5, 9.5, 11.8, 14.0, 21.0, 22.5, 22.5, 21.7, 18.9, 12.5, 12.0, 7.8, 10.3, 7.2, 11.8, 14.6, 18.0, 21.8, 21.6, 21.6, 17.5, 13.0, 8.8, 9.2, 9.3, 7.7, 12.3, 13.3, 16.0, 21.5, 26.2, 23.0, 17.8, 15.4, 13.6, 10.7, 8.9, 10.7, 11.2, 15.0, 19.0, 20.7, 26.3, 27.0, 19.2, 18.3, 12.0, 5.8, 7.2, 6.8, 8.6, 14.3, 15.1, 22.8, 24.2, 23.1, 19.2, 16.6, 10.5, 6.2, 5.5, 10.8, 13.8, 15.6, 18.7, 20.2, 23.5, 25.8, 20.9, 15.9, 12.5, 9.5, 9.2, 11.6, 12.1, 12.7, 19.6, 19.9, 21.4, 23.5, 20.4, 14.7, 9.6, 9.7, 9.4, 8.8, 12.2, 14.9, 19.1, 20.3, 24.9, 22.8, 21.3, 15.6, 11.3, 8.7, 8.6, 10.4, 12.1, 12.9, 18.0, 21.0, 21.0, 23.2, 20.1, 14.7, 11.0, 9.0, 7.1, 9.2, 9.5, 12.8, 18.8, 20.8, 24.3, 23.5, 18.1, 17.6, 11.3, 7.3, 9.5, 11.3, 12.4, 15.7, 17.3, 20.1, 22.3, 23.3, 20.3, 15.3, 12.4, 9.0, 8.0, 8.4, 13.6, 15.7, 18.2, 23.3, 24.2, 26.4, 21.9, 14.5, 12.6, 8.8, 8.8, 8.7, 10.8, 14.9, 18.2, 22.1, 22.7, 23.8, 20.8, 15.3, 11.2, 8.8, 9.5, 7.3, 11.5, 14.6, 17.7, 22.8, 23.3, 23.2, 21.4, 17.8, 10.7, 8.2, 7.6, 7.2, 9.4, 14.1, 18.0, 23.7, 28.2, 22.2, 22.7, 17.8, 12.7, 9.7, 10.5, 9.9, 12.5, 18.9, 17.9, 21.2, 21.4, 21.5, 19.9, 15.4, 11.4, 8.9, 10.4, 11.0, 10.6, 13.7, 19.8, 20.8, 22.8, 21.5, 18.5, 15.0, 10.7, 7.3, 6.8, 7.8, 12.9, 16.1, 19.1, 22.4, 23.0, 23.9, 20.5, 16.3, 12.6, 7.0, 4.5, 6.9, 11.1, 15.8, 17.3, 23.5, 25.0, 21.6, 19.4, 15.2, 9.1, 3.9, 7.4, 10.2, 12.3, 19.7, 19.4, 20.7, 21.7, 21.8, 21.3, 18.1, 13.6, 9.9, 9.8, 8.0, 14.7, 13.3, 18.2, 19.4, 21.3, 23.5, 20.0, 14.2, 11.0, 9.0, 6.5, 6.7, 6.9, 13.5, 16.4, 20.3, 27.0, 24.3, 19.7, 17.0, 10.4, 10.2, 10.0, 10.6, 14.1, 16.1, 18.0, 22.1, 25.8, 21.7, 21.5, 17.6, 12.5, 9.2, 8.8, 8.0, 11.6, 16.3, 17.6, 22.2, 23.7, 22.2, 18.6, 15.8, 13.4, 13.7, 9.5, 9.4, 10.7, 13.5, 19.0, 20.7, 24.0, 24.7, 22.4, 15.9, 10.5]"
      ],
      "execution_count": null,
      "outputs": []
    },
    {
      "cell_type": "code",
      "source": [
        "#@title 1. 最高溫\n",
        "temperature_highest = max(temperatures)\n",
        "print(\"Highest Temperature =\", temperature_highest) # Expected output: 28.2"
      ],
      "metadata": {
        "id": "M9DZ2Px6JbDM"
      },
      "execution_count": null,
      "outputs": []
    },
    {
      "cell_type": "code",
      "source": [
        "#@title 2. 最低溫\n",
        "temperature_lowest = 0.0 # PLEASE MODIFY\n",
        "print(\"Lowest Temperature =\", temperature_lowest) # Expected output: 0.8"
      ],
      "metadata": {
        "id": "bi8yo_RwJhrX",
        "cellView": "form"
      },
      "execution_count": null,
      "outputs": []
    },
    {
      "cell_type": "code",
      "source": [
        "#@title 參考解答\n",
        "temperature_lowest = min(temperatures) # PLEASE MODIFY\n",
        "print(\"Lowest Temperature =\", temperature_lowest) # Expected output: 0.8"
      ],
      "metadata": {
        "cellView": "form",
        "id": "XF0mHdAYvnD6"
      },
      "execution_count": null,
      "outputs": []
    },
    {
      "cell_type": "code",
      "source": [
        "#@title 3. 平均溫度\n",
        "temperature_sum = sum(temperatures)\n",
        "print(\"Sum of Temperatures =\", temperature_sum)\n",
        "\n",
        "temperature_len = len(temperatures)\n",
        "print(\"Length of Temperatures =\", temperature_len)\n",
        "\n",
        "temperature_mean = 0.0 # PLEASE MODIFY (hint: mean = sum / length)\n",
        "print(\"Mean of Temperatures =\", temperature_mean) # Expected output: 14.85392986698912"
      ],
      "metadata": {
        "id": "8ZehO1ubJj8A"
      },
      "execution_count": null,
      "outputs": []
    },
    {
      "cell_type": "code",
      "source": [
        "#@title 參考解答\n",
        "temperature_sum = sum(temperatures)\n",
        "print(\"Sum of Temperatures =\", temperature_sum)\n",
        "\n",
        "temperature_len = len(temperatures)\n",
        "print(\"Length of Temperatures =\", temperature_len)\n",
        "\n",
        "temperature_mean = temperature_sum / temperature_len # PLEASE MODIFY (hint: sum / len)\n",
        "print(\"Mean of Temperatures =\", temperature_mean) # Expected output: 14.85392986698912"
      ],
      "metadata": {
        "cellView": "form",
        "id": "7C-xsmEcv6TI"
      },
      "execution_count": null,
      "outputs": []
    },
    {
      "cell_type": "code",
      "source": [
        "#@title 4. 前十筆資料的平均溫度\n",
        "temperature_10 = temperatures[:10] # Get first 10 temperatures\n",
        "temperature_10_mean = 0.0 # PLEASE MODIFY\n",
        "print(\"Mean of 10 Temperatures =\", temperature_10_mean) # Expected output: 16.06"
      ],
      "metadata": {
        "id": "frglnFeQwF2J"
      },
      "execution_count": null,
      "outputs": []
    },
    {
      "cell_type": "code",
      "source": [
        "#@title 參考解答\n",
        "temperature_10 = temperatures[:10] # Get first 10 temperatures\n",
        "temperature_10_mean = sum(temperature_10) / len(temperature_10) # PLEASE MODIFY\n",
        "print(\"Mean of 10 Temperatures =\", temperature_10_mean) # Expected output: 16.06"
      ],
      "metadata": {
        "cellView": "form",
        "id": "ykBr0j4bwI8p"
      },
      "execution_count": null,
      "outputs": []
    },
    {
      "cell_type": "code",
      "source": [
        "#@title 5. 第三高的溫度\n",
        "sorted_temperatures = sorted(temperatures)\n",
        "print(\"Sorted tempeartures\", sorted_temperatures)\n",
        "\n",
        "temperature_third = 0.0 # PLEASE MODIFY\n",
        "print(\"Third-highest Temperature =\", temperature_third) # Expected output: 27.0"
      ],
      "metadata": {
        "id": "Jo-OlhMGJpzf"
      },
      "execution_count": null,
      "outputs": []
    },
    {
      "cell_type": "code",
      "source": [
        "#@title 參考答案\n",
        "sorted_temperatures = sorted(temperatures)\n",
        "print(\"Sorted tempeartures\", sorted_temperatures)\n",
        "\n",
        "temperature_third = sorted_temperatures[-3] # PLEASE MODIFY\n",
        "print(\"Third-highest Temperature =\", temperature_third) # Expected output: 27.0"
      ],
      "metadata": {
        "cellView": "form",
        "id": "xj93K9HVwnUV"
      },
      "execution_count": null,
      "outputs": []
    },
    {
      "cell_type": "code",
      "metadata": {
        "id": "l5Cbq5VFTbnK"
      },
      "source": [
        "#@title 6. 有多少個不重複的溫度值\n",
        "unique_temperatures = set(temperatures) # By converting the list to set, duplicated values are removed\n",
        "print(\"Unique Temperatures =\", unique_temperatures)\n",
        "\n",
        "num_uniques = 0 # PLEASE MODIFY\n",
        "print(\"Number of Unique Temperatures =\", num_uniques) # Expected output: 217"
      ],
      "execution_count": null,
      "outputs": []
    },
    {
      "cell_type": "code",
      "source": [
        "#@title 參考解答\n",
        "unique_temperatures = set(temperatures) # By converting the list to set, duplicated (重複的) temperatures will be removed\n",
        "print(\"Unique Temperatures =\", unique_temperatures)\n",
        "\n",
        "num_uniques = len(unique_temperatures) # PLEASE MODIFY\n",
        "print(\"Number of Unique Temperatures =\", num_uniques) # Expected output: 217"
      ],
      "metadata": {
        "cellView": "form",
        "id": "ZJINJ-Y30WHD"
      },
      "execution_count": null,
      "outputs": []
    }
  ]
}